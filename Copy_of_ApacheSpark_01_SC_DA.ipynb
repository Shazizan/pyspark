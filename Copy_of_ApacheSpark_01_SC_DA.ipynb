{
  "nbformat": 4,
  "nbformat_minor": 0,
  "metadata": {
    "kernelspec": {
      "display_name": "Python 3",
      "language": "python",
      "name": "python3"
    },
    "language_info": {
      "codemirror_mode": {
        "name": "ipython",
        "version": 3
      },
      "file_extension": ".py",
      "mimetype": "text/x-python",
      "name": "python",
      "nbconvert_exporter": "python",
      "pygments_lexer": "ipython3",
      "version": "3.7.6"
    },
    "colab": {
      "provenance": [],
      "toc_visible": true,
      "include_colab_link": true
    }
  },
  "cells": [
    {
      "cell_type": "markdown",
      "metadata": {
        "id": "view-in-github",
        "colab_type": "text"
      },
      "source": [
        "<a href=\"https://colab.research.google.com/github/Shazizan/pyspark/blob/main/Copy_of_ApacheSpark_01_SC_DA.ipynb\" target=\"_parent\"><img src=\"https://colab.research.google.com/assets/colab-badge.svg\" alt=\"Open In Colab\"/></a>"
      ]
    },
    {
      "cell_type": "markdown",
      "metadata": {
        "id": "a8m4fhtnwZHY"
      },
      "source": [
        "# Apache Spark DataFrames and Spark SQL"
      ]
    },
    {
      "cell_type": "markdown",
      "metadata": {
        "id": "z2EZc3nzwZHb"
      },
      "source": [
        "Apache Spark is a platform for distributed data processing, and it is particularly well-suited for dealing with massive data sets. The data sets that they do not readily fit within the memory or capacity of a single server.\n",
        "\n",
        "Apache Spark has a modular architecture. A core platform is called Apache Spark core, and there are several modules, which run on top of the core platform.\n",
        "\n",
        "In this notebook, we will mostly learn about DataFrames and work with Spark SQL. Apache Spark supports multiple languages, including:\n",
        "- Scala\n",
        "- Python\n",
        "- Java\n",
        "- SQL\n",
        "- R\n",
        "\n",
        "Apache Spark's core data structure is the Resilient Distributed Dataset (RDD). RDD is a low-level object that lets Spark work by splitting data across multiple nodes in the cluster. However, working directly with RDDs is hard. Therefore, data scientists and data engineers prefer to use the Spark DataFrame abstraction built on top of RDDs.\n",
        "\n",
        "We are particularly interested in a data structure called DataFrames. DataFrames are a set of data that are organized into columns and rows. The columns have names, and the rows have a schema. Therefore, in this way, they are very similar or analogous to tables in relational databases. Not only DataFrames are easier to understand, but also they are more optimized for complicated operations than RDDs."
      ]
    },
    {
      "cell_type": "markdown",
      "metadata": {
        "id": "torgy2umwZHc"
      },
      "source": [
        "There are a couple of different ways of working with DataFrames. One way is to use the DataFrame API, and basically, that is structured around using methods on DataFrame objects. The second way is Spark SQL that allows us to enter SQL queries which are executed on DataFrames, and those DataFrames are registered as tables."
      ]
    },
    {
      "cell_type": "markdown",
      "metadata": {
        "id": "GOr6vS-mwZHc"
      },
      "source": [
        "### Setup Apache Spark on Jupyter\n",
        "To start working with DataFrames, first of all, we have to create a `SparkSession` object from `SparkContext`. The `SparkContext` is a connection to the running cluster, and `SparkSession` is an interface with that connection."
      ]
    },
    {
      "cell_type": "code",
      "metadata": {
        "id": "wQ_bp8D-wZHd",
        "colab": {
          "base_uri": "https://localhost:8080/"
        },
        "outputId": "579639a6-6819-4e7a-efbb-21629c462a0b"
      },
      "source": [
        "!pip install pyspark"
      ],
      "execution_count": null,
      "outputs": [
        {
          "output_type": "stream",
          "text": [
            "Collecting pyspark\n",
            "\u001b[?25l  Downloading https://files.pythonhosted.org/packages/f0/26/198fc8c0b98580f617cb03cb298c6056587b8f0447e20fa40c5b634ced77/pyspark-3.0.1.tar.gz (204.2MB)\n",
            "\u001b[K     |████████████████████████████████| 204.2MB 72kB/s \n",
            "\u001b[?25hCollecting py4j==0.10.9\n",
            "\u001b[?25l  Downloading https://files.pythonhosted.org/packages/9e/b6/6a4fb90cd235dc8e265a6a2067f2a2c99f0d91787f06aca4bcf7c23f3f80/py4j-0.10.9-py2.py3-none-any.whl (198kB)\n",
            "\u001b[K     |████████████████████████████████| 204kB 43.2MB/s \n",
            "\u001b[?25hBuilding wheels for collected packages: pyspark\n",
            "  Building wheel for pyspark (setup.py) ... \u001b[?25l\u001b[?25hdone\n",
            "  Created wheel for pyspark: filename=pyspark-3.0.1-py2.py3-none-any.whl size=204612243 sha256=38315b7e4cee7e5464387687aee6a0cfb74cdccaacb2fc8a35eddbc419c405ae\n",
            "  Stored in directory: /root/.cache/pip/wheels/5e/bd/07/031766ca628adec8435bb40f0bd83bb676ce65ff4007f8e73f\n",
            "Successfully built pyspark\n",
            "Installing collected packages: py4j, pyspark\n",
            "Successfully installed py4j-0.10.9 pyspark-3.0.1\n"
          ],
          "name": "stdout"
        }
      ]
    },
    {
      "cell_type": "code",
      "metadata": {
        "id": "eIkSnSdowZHd"
      },
      "source": [
        "from pyspark.sql import SparkSession"
      ],
      "execution_count": null,
      "outputs": []
    },
    {
      "cell_type": "code",
      "metadata": {
        "id": "4hO6byZ8wZHd"
      },
      "source": [
        "spark = SparkSession.builder.getOrCreate()"
      ],
      "execution_count": null,
      "outputs": []
    },
    {
      "cell_type": "markdown",
      "metadata": {
        "id": "WiGYnK6UwZHe"
      },
      "source": [
        "The previous line of code returns an existing `SparkSession` if there's already one in the environment, or creates a new one if necessary."
      ]
    },
    {
      "cell_type": "code",
      "metadata": {
        "id": "FySJiADRwZHe",
        "colab": {
          "base_uri": "https://localhost:8080/",
          "height": 214
        },
        "outputId": "4fc620a7-084a-43f9-8568-3c925c7c2854"
      },
      "source": [
        "spark"
      ],
      "execution_count": null,
      "outputs": [
        {
          "output_type": "execute_result",
          "data": {
            "text/html": [
              "\n",
              "            <div>\n",
              "                <p><b>SparkSession - in-memory</b></p>\n",
              "                \n",
              "        <div>\n",
              "            <p><b>SparkContext</b></p>\n",
              "\n",
              "            <p><a href=\"http://8d718fcce5e0:4040\">Spark UI</a></p>\n",
              "\n",
              "            <dl>\n",
              "              <dt>Version</dt>\n",
              "                <dd><code>v3.0.1</code></dd>\n",
              "              <dt>Master</dt>\n",
              "                <dd><code>local[*]</code></dd>\n",
              "              <dt>AppName</dt>\n",
              "                <dd><code>pyspark-shell</code></dd>\n",
              "            </dl>\n",
              "        </div>\n",
              "        \n",
              "            </div>\n",
              "        "
            ],
            "text/plain": [
              "<pyspark.sql.session.SparkSession at 0x7f6e258b2d68>"
            ]
          },
          "metadata": {
            "tags": []
          },
          "execution_count": 4
        }
      ]
    },
    {
      "cell_type": "markdown",
      "metadata": {
        "id": "MbQ7yJqRwZHf"
      },
      "source": [
        "### Make the data set folder accessible\n",
        "\n",
        "In the following cells, we are going to load a file called `location_temp.csv`, which is a time-series file which contains loacations of sensors and the temperatures taken at particular periods of time."
      ]
    },
    {
      "cell_type": "code",
      "metadata": {
        "id": "KjzwmyTRwZHf",
        "colab": {
          "base_uri": "https://localhost:8080/",
          "height": 35
        },
        "outputId": "b3e890a7-8505-4f3c-8754-49dde23b9334"
      },
      "source": [
        "import os\n",
        "MAIN_DIRECTORY = os.getcwd()\n",
        "MAIN_DIRECTORY"
      ],
      "execution_count": null,
      "outputs": [
        {
          "output_type": "execute_result",
          "data": {
            "application/vnd.google.colaboratory.intrinsic+json": {
              "type": "string"
            },
            "text/plain": [
              "'/content'"
            ]
          },
          "metadata": {
            "tags": []
          },
          "execution_count": 5
        }
      ]
    },
    {
      "cell_type": "code",
      "metadata": {
        "id": "RKpvfukrwZHf"
      },
      "source": [
        "file_path = MAIN_DIRECTORY +\"/data/location_temp.csv\""
      ],
      "execution_count": null,
      "outputs": []
    },
    {
      "cell_type": "code",
      "metadata": {
        "colab": {
          "base_uri": "https://localhost:8080/",
          "height": 35
        },
        "id": "wf9epxbM3IJp",
        "outputId": "16ab97da-8aa6-436b-ab83-6dc5fd852179"
      },
      "source": [
        "file_path"
      ],
      "execution_count": null,
      "outputs": [
        {
          "output_type": "execute_result",
          "data": {
            "application/vnd.google.colaboratory.intrinsic+json": {
              "type": "string"
            },
            "text/plain": [
              "'/content/data/location_temp.csv'"
            ]
          },
          "metadata": {
            "tags": []
          },
          "execution_count": 7
        }
      ]
    },
    {
      "cell_type": "markdown",
      "metadata": {
        "id": "dghGCvwPwZHf"
      },
      "source": [
        "## Get Started with Spark DataFrames\n",
        "To create a Spark DataFrame by loading a csv file, we can use `spark.read` function as follows."
      ]
    },
    {
      "cell_type": "code",
      "metadata": {
        "id": "9Gucb0Z6wZHf"
      },
      "source": [
        "df1 = spark.read.format('csv').option('header','true').load(file_path)"
      ],
      "execution_count": null,
      "outputs": []
    },
    {
      "cell_type": "markdown",
      "metadata": {
        "id": "VYPGhTo1wZHg"
      },
      "source": [
        "We can use `head(n)` method to show the heading of this data frame. `n` is the number of rows and its default value is 1."
      ]
    },
    {
      "cell_type": "code",
      "metadata": {
        "id": "p2KNkrgJwZHg",
        "colab": {
          "base_uri": "https://localhost:8080/"
        },
        "outputId": "2ba7efb6-47ed-45f2-df86-bb52fc223754"
      },
      "source": [
        "df1.head(5)"
      ],
      "execution_count": null,
      "outputs": [
        {
          "output_type": "execute_result",
          "data": {
            "text/plain": [
              "[Row(event_date='03/04/2019 19:48:06', location_id='loc0', temp_celcius='29'),\n",
              " Row(event_date='03/04/2019 19:53:06', location_id='loc0', temp_celcius='27'),\n",
              " Row(event_date='03/04/2019 19:58:06', location_id='loc0', temp_celcius='28'),\n",
              " Row(event_date='03/04/2019 20:03:06', location_id='loc0', temp_celcius='30'),\n",
              " Row(event_date='03/04/2019 20:08:06', location_id='loc0', temp_celcius='27')]"
            ]
          },
          "metadata": {
            "tags": []
          },
          "execution_count": 9
        }
      ]
    },
    {
      "cell_type": "markdown",
      "metadata": {
        "id": "TAHfmGcNwZHg"
      },
      "source": [
        "If we want to show the data in a tabular format, we can use `.show(n)` method. `n` is the number of rows and its default value is 20."
      ]
    },
    {
      "cell_type": "code",
      "metadata": {
        "id": "UwEnJ42OwZHg",
        "colab": {
          "base_uri": "https://localhost:8080/"
        },
        "outputId": "5acccebe-8e1e-4442-e33a-917488f2b5d3"
      },
      "source": [
        "df1.show(10)"
      ],
      "execution_count": null,
      "outputs": [
        {
          "output_type": "stream",
          "text": [
            "+-------------------+-----------+------------+\n",
            "|         event_date|location_id|temp_celcius|\n",
            "+-------------------+-----------+------------+\n",
            "|03/04/2019 19:48:06|       loc0|          29|\n",
            "|03/04/2019 19:53:06|       loc0|          27|\n",
            "|03/04/2019 19:58:06|       loc0|          28|\n",
            "|03/04/2019 20:03:06|       loc0|          30|\n",
            "|03/04/2019 20:08:06|       loc0|          27|\n",
            "|03/04/2019 20:13:06|       loc0|          27|\n",
            "|03/04/2019 20:18:06|       loc0|          27|\n",
            "|03/04/2019 20:23:06|       loc0|          29|\n",
            "|03/04/2019 20:28:06|       loc0|          32|\n",
            "|03/04/2019 20:33:06|       loc0|          35|\n",
            "+-------------------+-----------+------------+\n",
            "only showing top 10 rows\n",
            "\n"
          ],
          "name": "stdout"
        }
      ]
    },
    {
      "cell_type": "markdown",
      "metadata": {
        "id": "KFm6yrVowZHh"
      },
      "source": [
        "To know the number of rows in the DataFrame, there is a useful method called `count()` that performs a count on the rows in a DataFrame."
      ]
    },
    {
      "cell_type": "code",
      "metadata": {
        "id": "J929WW7mwZHh",
        "colab": {
          "base_uri": "https://localhost:8080/"
        },
        "outputId": "3b12e6c8-fe59-4a23-c0de-d2135af6e5ff"
      },
      "source": [
        "df1.count()"
      ],
      "execution_count": null,
      "outputs": [
        {
          "output_type": "execute_result",
          "data": {
            "text/plain": [
              "500000"
            ]
          },
          "metadata": {
            "tags": []
          },
          "execution_count": 14
        }
      ]
    },
    {
      "cell_type": "markdown",
      "metadata": {
        "id": "aW5D8H37wZHh"
      },
      "source": [
        "One of the useful methods in DataFrame API is `printSchema()` that prints out the schema in the tree format."
      ]
    },
    {
      "cell_type": "code",
      "metadata": {
        "id": "WbBSeJtVwZHh",
        "colab": {
          "base_uri": "https://localhost:8080/"
        },
        "outputId": "589624f9-2bf2-4e68-a5ff-28c6b8f75567"
      },
      "source": [
        "df1.printSchema()"
      ],
      "execution_count": null,
      "outputs": [
        {
          "output_type": "stream",
          "text": [
            "root\n",
            " |-- event_date: string (nullable = true)\n",
            " |-- location_id: string (nullable = true)\n",
            " |-- temp_celcius: string (nullable = true)\n",
            "\n"
          ],
          "name": "stdout"
        }
      ]
    },
    {
      "cell_type": "markdown",
      "metadata": {
        "id": "1NNAoy2MwZHi"
      },
      "source": [
        "### Rename column names\n",
        "\n",
        "Now, let's load another file. In the data folder, we have another file called `utilization.csv`. This file does not have a header row. If we want to use the csv file schema, Spark provides an option to infer the columns' data types automatically. The following cells show how we can work with this type of csv file."
      ]
    },
    {
      "cell_type": "code",
      "metadata": {
        "id": "lC_N68c3wZHi"
      },
      "source": [
        "file_path = MAIN_DIRECTORY +\"/data/utilization.csv\""
      ],
      "execution_count": null,
      "outputs": []
    },
    {
      "cell_type": "code",
      "metadata": {
        "id": "vtLbzgxawZHi"
      },
      "source": [
        "df2 = spark.read.format('csv').option(\"header\",\"false\").option(\"inferSchema\",\"true\").load(file_path)"
      ],
      "execution_count": null,
      "outputs": []
    },
    {
      "cell_type": "code",
      "metadata": {
        "id": "cDl_j3j_wZHj",
        "colab": {
          "base_uri": "https://localhost:8080/"
        },
        "outputId": "63f9dfec-2020-485a-e776-1a8dbc876fbb"
      },
      "source": [
        "df2.count()"
      ],
      "execution_count": null,
      "outputs": [
        {
          "output_type": "execute_result",
          "data": {
            "text/plain": [
              "500000"
            ]
          },
          "metadata": {
            "tags": []
          },
          "execution_count": 18
        }
      ]
    },
    {
      "cell_type": "code",
      "metadata": {
        "id": "ZYx_g2ZSwZHj",
        "colab": {
          "base_uri": "https://localhost:8080/"
        },
        "outputId": "b77bfa67-511a-4ff5-c7b6-2e9a07054ec3"
      },
      "source": [
        "df2.head(5)"
      ],
      "execution_count": null,
      "outputs": [
        {
          "output_type": "execute_result",
          "data": {
            "text/plain": [
              "[Row(_c0='03/05/2019 08:06:14', _c1=100, _c2=0.57, _c3=0.51, _c4=47),\n",
              " Row(_c0='03/05/2019 08:11:14', _c1=100, _c2=0.47, _c3=0.62, _c4=43),\n",
              " Row(_c0='03/05/2019 08:16:14', _c1=100, _c2=0.56, _c3=0.57, _c4=62),\n",
              " Row(_c0='03/05/2019 08:21:14', _c1=100, _c2=0.57, _c3=0.56, _c4=50),\n",
              " Row(_c0='03/05/2019 08:26:14', _c1=100, _c2=0.35, _c3=0.46, _c4=43)]"
            ]
          },
          "metadata": {
            "tags": []
          },
          "execution_count": 20
        }
      ]
    },
    {
      "cell_type": "code",
      "metadata": {
        "colab": {
          "base_uri": "https://localhost:8080/"
        },
        "id": "FPnobrOe5uLZ",
        "outputId": "f28e4afa-a3e9-4d44-9ae0-cc5343fe79bd"
      },
      "source": [
        "df2.show(10)"
      ],
      "execution_count": null,
      "outputs": [
        {
          "output_type": "stream",
          "text": [
            "+-------------------+---+----+----+---+\n",
            "|                _c0|_c1| _c2| _c3|_c4|\n",
            "+-------------------+---+----+----+---+\n",
            "|03/05/2019 08:06:14|100|0.57|0.51| 47|\n",
            "|03/05/2019 08:11:14|100|0.47|0.62| 43|\n",
            "|03/05/2019 08:16:14|100|0.56|0.57| 62|\n",
            "|03/05/2019 08:21:14|100|0.57|0.56| 50|\n",
            "|03/05/2019 08:26:14|100|0.35|0.46| 43|\n",
            "|03/05/2019 08:31:14|100|0.41|0.58| 48|\n",
            "|03/05/2019 08:36:14|100|0.57|0.35| 58|\n",
            "|03/05/2019 08:41:14|100|0.41| 0.4| 58|\n",
            "|03/05/2019 08:46:14|100|0.53|0.35| 62|\n",
            "|03/05/2019 08:51:14|100|0.51| 0.6| 45|\n",
            "+-------------------+---+----+----+---+\n",
            "only showing top 10 rows\n",
            "\n"
          ],
          "name": "stdout"
        }
      ]
    },
    {
      "cell_type": "markdown",
      "metadata": {
        "id": "lzgM7a7MwZHj"
      },
      "source": [
        "As you can see, we have five rows, but we do not have column names. Because we did not specify a header. So Spark just created column names. Basically used a pattern `_c#`."
      ]
    },
    {
      "cell_type": "markdown",
      "metadata": {
        "id": "q_FaM7LZwZHk"
      },
      "source": [
        "Spark allows us to rename the columns. By using `withColumnRenamed()` method."
      ]
    },
    {
      "cell_type": "code",
      "metadata": {
        "id": "55S-oPR_wZHl"
      },
      "source": [
        "df2 = df2.withColumnRenamed('_c0','event_datetime')\\\n",
        "         .withColumnRenamed('_c1','server_id')\\\n",
        "         .withColumnRenamed('_c2','cpu_utilization')\\\n",
        "         .withColumnRenamed('_c3','free_memory')\\\n",
        "         .withColumnRenamed('_c4','session_count')"
      ],
      "execution_count": null,
      "outputs": []
    },
    {
      "cell_type": "markdown",
      "metadata": {
        "id": "J6TB-ApLwZHm"
      },
      "source": [
        "Here is the new DataFrame in the tabular format."
      ]
    },
    {
      "cell_type": "code",
      "metadata": {
        "id": "pJB3RIUrwZHm",
        "colab": {
          "base_uri": "https://localhost:8080/"
        },
        "outputId": "fd48d46c-e33a-49c3-c3f2-1e19d8a8770c"
      },
      "source": [
        "df2.show(10)"
      ],
      "execution_count": null,
      "outputs": [
        {
          "output_type": "stream",
          "text": [
            "+-------------------+---------+---------------+-----------+-------------+\n",
            "|     event_datetime|server_id|cpu_utilization|free_memory|session_count|\n",
            "+-------------------+---------+---------------+-----------+-------------+\n",
            "|03/05/2019 08:06:14|      100|           0.57|       0.51|           47|\n",
            "|03/05/2019 08:11:14|      100|           0.47|       0.62|           43|\n",
            "|03/05/2019 08:16:14|      100|           0.56|       0.57|           62|\n",
            "|03/05/2019 08:21:14|      100|           0.57|       0.56|           50|\n",
            "|03/05/2019 08:26:14|      100|           0.35|       0.46|           43|\n",
            "|03/05/2019 08:31:14|      100|           0.41|       0.58|           48|\n",
            "|03/05/2019 08:36:14|      100|           0.57|       0.35|           58|\n",
            "|03/05/2019 08:41:14|      100|           0.41|        0.4|           58|\n",
            "|03/05/2019 08:46:14|      100|           0.53|       0.35|           62|\n",
            "|03/05/2019 08:51:14|      100|           0.51|        0.6|           45|\n",
            "+-------------------+---------+---------------+-----------+-------------+\n",
            "only showing top 10 rows\n",
            "\n"
          ],
          "name": "stdout"
        }
      ]
    },
    {
      "cell_type": "code",
      "metadata": {
        "id": "T_XWtWXWwZHm",
        "colab": {
          "base_uri": "https://localhost:8080/"
        },
        "outputId": "1ce9ff76-1794-4552-d3a9-4de88a88af6e"
      },
      "source": [
        "df2.printSchema()"
      ],
      "execution_count": null,
      "outputs": [
        {
          "output_type": "stream",
          "text": [
            "root\n",
            " |-- event_datetime: string (nullable = true)\n",
            " |-- server_id: integer (nullable = true)\n",
            " |-- cpu_utilization: double (nullable = true)\n",
            " |-- free_memory: double (nullable = true)\n",
            " |-- session_count: integer (nullable = true)\n",
            "\n"
          ],
          "name": "stdout"
        }
      ]
    },
    {
      "cell_type": "markdown",
      "metadata": {
        "id": "w-SUh4cewZHm"
      },
      "source": [
        "Another useful method in DataFrame API is `describe()` that computes basic statistics for numeric and string columns.\n",
        "\n",
        "This include count, mean, stddev, min, and max."
      ]
    },
    {
      "cell_type": "code",
      "metadata": {
        "id": "GEwZUkHfwZHn",
        "colab": {
          "base_uri": "https://localhost:8080/"
        },
        "outputId": "ec1805ce-7662-4d96-eb13-4e3b0eb8d287"
      },
      "source": [
        "df2.describe('cpu_utilization').show()"
      ],
      "execution_count": null,
      "outputs": [
        {
          "output_type": "stream",
          "text": [
            "+-------+-------------------+\n",
            "|summary|    cpu_utilization|\n",
            "+-------+-------------------+\n",
            "|  count|             500000|\n",
            "|   mean| 0.6205177399999797|\n",
            "| stddev|0.15875173872913106|\n",
            "|    min|               0.22|\n",
            "|    max|                1.0|\n",
            "+-------+-------------------+\n",
            "\n"
          ],
          "name": "stdout"
        }
      ]
    },
    {
      "cell_type": "markdown",
      "metadata": {
        "id": "_AI4BCHIwZHn"
      },
      "source": [
        "If no columns are given, this function computes statistics for all numerical or string columns."
      ]
    },
    {
      "cell_type": "code",
      "metadata": {
        "id": "cuNfzp7JwZHn",
        "colab": {
          "base_uri": "https://localhost:8080/"
        },
        "outputId": "98627bf7-a1ec-4b50-a73f-a99d4f93e457"
      },
      "source": [
        "df2.describe().show()"
      ],
      "execution_count": null,
      "outputs": [
        {
          "output_type": "stream",
          "text": [
            "+-------+-------------------+------------------+-------------------+-------------------+------------------+\n",
            "|summary|     event_datetime|         server_id|    cpu_utilization|        free_memory|     session_count|\n",
            "+-------+-------------------+------------------+-------------------+-------------------+------------------+\n",
            "|  count|             500000|            500000|             500000|             500000|            500000|\n",
            "|   mean|               null|             124.5| 0.6205177399999797|0.37912809999999125|          69.59616|\n",
            "| stddev|               null|14.430884120552715|0.15875173872913106|0.15830931278376184|14.850676696352798|\n",
            "|    min|03/05/2019 08:06:14|               100|               0.22|                0.0|                32|\n",
            "|    max|04/09/2019 01:22:46|               149|                1.0|               0.78|               105|\n",
            "+-------+-------------------+------------------+-------------------+-------------------+------------------+\n",
            "\n"
          ],
          "name": "stdout"
        }
      ]
    },
    {
      "cell_type": "markdown",
      "metadata": {
        "id": "4AFDr8stwZHo"
      },
      "source": [
        "### Load a JSON file into a DataFrame\n",
        "In the following cell, we are trying to load a JSON file into a DataFrame by using `spark.read` command."
      ]
    },
    {
      "cell_type": "code",
      "metadata": {
        "id": "UmsPvZyowZHo"
      },
      "source": [
        "file_path = MAIN_DIRECTORY + \"/data/utilization.json\""
      ],
      "execution_count": null,
      "outputs": []
    },
    {
      "cell_type": "code",
      "metadata": {
        "id": "kQbJcc3xwZHo"
      },
      "source": [
        "df3 = spark.read.format('json').load(file_path)"
      ],
      "execution_count": null,
      "outputs": []
    },
    {
      "cell_type": "code",
      "metadata": {
        "id": "oQEindFMwZHo",
        "colab": {
          "base_uri": "https://localhost:8080/"
        },
        "outputId": "890758d2-9a15-477e-e4b4-8128b85162b2"
      },
      "source": [
        "df3.show(10)"
      ],
      "execution_count": null,
      "outputs": [
        {
          "output_type": "stream",
          "text": [
            "+---------------+-------------------+-----------+---------+-------------+\n",
            "|cpu_utilization|     event_datetime|free_memory|server_id|session_count|\n",
            "+---------------+-------------------+-----------+---------+-------------+\n",
            "|           0.57|03/05/2019 08:06:14|       0.51|      100|           47|\n",
            "|           0.47|03/05/2019 08:11:14|       0.62|      100|           43|\n",
            "|           0.56|03/05/2019 08:16:14|       0.57|      100|           62|\n",
            "|           0.57|03/05/2019 08:21:14|       0.56|      100|           50|\n",
            "|           0.35|03/05/2019 08:26:14|       0.46|      100|           43|\n",
            "|           0.41|03/05/2019 08:31:14|       0.58|      100|           48|\n",
            "|           0.57|03/05/2019 08:36:14|       0.35|      100|           58|\n",
            "|           0.41|03/05/2019 08:41:14|        0.4|      100|           58|\n",
            "|           0.53|03/05/2019 08:46:14|       0.35|      100|           62|\n",
            "|           0.51|03/05/2019 08:51:14|        0.6|      100|           45|\n",
            "+---------------+-------------------+-----------+---------+-------------+\n",
            "only showing top 10 rows\n",
            "\n"
          ],
          "name": "stdout"
        }
      ]
    },
    {
      "cell_type": "code",
      "metadata": {
        "id": "TiN0hIWIwZHo",
        "colab": {
          "base_uri": "https://localhost:8080/"
        },
        "outputId": "cf7c2cab-1818-4b94-94a3-4427535de297"
      },
      "source": [
        "df3.count()"
      ],
      "execution_count": null,
      "outputs": [
        {
          "output_type": "execute_result",
          "data": {
            "text/plain": [
              "500000"
            ]
          },
          "metadata": {
            "tags": []
          },
          "execution_count": 30
        }
      ]
    },
    {
      "cell_type": "code",
      "metadata": {
        "colab": {
          "base_uri": "https://localhost:8080/"
        },
        "id": "vVM4wLoL9oHI",
        "outputId": "ed1517c3-120f-4e51-93d5-234cc307c796"
      },
      "source": [
        "df3.printSchema()"
      ],
      "execution_count": null,
      "outputs": [
        {
          "output_type": "stream",
          "text": [
            "root\n",
            " |-- cpu_utilization: double (nullable = true)\n",
            " |-- event_datetime: string (nullable = true)\n",
            " |-- free_memory: double (nullable = true)\n",
            " |-- server_id: long (nullable = true)\n",
            " |-- session_count: long (nullable = true)\n",
            "\n"
          ],
          "name": "stdout"
        }
      ]
    },
    {
      "cell_type": "markdown",
      "metadata": {
        "id": "LbTlcKwQwZHp"
      },
      "source": [
        "Now, what you will notice here is we did not have to change column names.That is because in JSON, you specify key-value pairs. For example, there was a row that has `cpu_utilization` equals to 0.77, that corresponds to the first row. This row also has a key-value pair with `free_memory` equals to 0.22 and `server_id` equals to 115."
      ]
    },
    {
      "cell_type": "markdown",
      "metadata": {
        "id": "sCGI5phTwZHp"
      },
      "source": [
        "Apache Spark provides an attribute called `columns`, to show the list of a DataFrame's columns."
      ]
    },
    {
      "cell_type": "code",
      "metadata": {
        "id": "4NFzQH21wZHp"
      },
      "source": [
        "header_list = df3.columns"
      ],
      "execution_count": null,
      "outputs": []
    },
    {
      "cell_type": "code",
      "metadata": {
        "colab": {
          "base_uri": "https://localhost:8080/",
          "height": 35
        },
        "id": "cZQ-alW--OeC",
        "outputId": "419342b0-b596-4b43-b678-d618f4a2b069"
      },
      "source": [
        "header_list[-1]"
      ],
      "execution_count": null,
      "outputs": [
        {
          "output_type": "execute_result",
          "data": {
            "application/vnd.google.colaboratory.intrinsic+json": {
              "type": "string"
            },
            "text/plain": [
              "'session_count'"
            ]
          },
          "metadata": {
            "tags": []
          },
          "execution_count": 35
        }
      ]
    },
    {
      "cell_type": "markdown",
      "metadata": {
        "id": "lSl6pYB8wZHp"
      },
      "source": [
        "Sometimes we want to work with a subset of data. For example, we have 500000 rows of data in this DataFrame. Although they are not too many rows, it may be more than you want to work with at any particular time. And you would rather work with a sample of the data. To do that, you can use `sample` command."
      ]
    },
    {
      "cell_type": "code",
      "metadata": {
        "id": "HCQB_9z7wZHq"
      },
      "source": [
        "df3_sample = df3.sample(withReplacement=False, fraction=0.1, seed=1) #df3.sample(False,0.1)"
      ],
      "execution_count": null,
      "outputs": []
    },
    {
      "cell_type": "code",
      "metadata": {
        "id": "DpLizt_MwZHq",
        "colab": {
          "base_uri": "https://localhost:8080/"
        },
        "outputId": "8021713a-2a72-41b5-b355-f4bfeedb5861"
      },
      "source": [
        "df3_sample.count()"
      ],
      "execution_count": null,
      "outputs": [
        {
          "output_type": "execute_result",
          "data": {
            "text/plain": [
              "49812"
            ]
          },
          "metadata": {
            "tags": []
          },
          "execution_count": 37
        }
      ]
    },
    {
      "cell_type": "markdown",
      "metadata": {
        "id": "2b10Z-E2wZHq"
      },
      "source": [
        "DataFrame API provides a method called `sort()` to sort the rows based on one or more columns."
      ]
    },
    {
      "cell_type": "code",
      "metadata": {
        "id": "gFbkr38kwZHq"
      },
      "source": [
        "df3_sort = df3.sort('server_id')"
      ],
      "execution_count": null,
      "outputs": []
    },
    {
      "cell_type": "code",
      "metadata": {
        "colab": {
          "base_uri": "https://localhost:8080/"
        },
        "id": "4AWM6Z4h_n-g",
        "outputId": "9ff1cd9a-e313-483d-e9bc-b726d7d0d712"
      },
      "source": [
        "df3_sort.show()"
      ],
      "execution_count": null,
      "outputs": [
        {
          "output_type": "stream",
          "text": [
            "+---------------+-------------------+-----------+---------+-------------+\n",
            "|cpu_utilization|     event_datetime|free_memory|server_id|session_count|\n",
            "+---------------+-------------------+-----------+---------+-------------+\n",
            "|           0.57|03/05/2019 08:06:14|       0.51|      100|           47|\n",
            "|           0.47|03/05/2019 08:11:14|       0.62|      100|           43|\n",
            "|           0.56|03/05/2019 08:16:14|       0.57|      100|           62|\n",
            "|           0.57|03/05/2019 08:21:14|       0.56|      100|           50|\n",
            "|           0.35|03/05/2019 08:26:14|       0.46|      100|           43|\n",
            "|           0.41|03/05/2019 08:31:14|       0.58|      100|           48|\n",
            "|           0.57|03/05/2019 08:36:14|       0.35|      100|           58|\n",
            "|           0.41|03/05/2019 08:41:14|        0.4|      100|           58|\n",
            "|           0.53|03/05/2019 08:46:14|       0.35|      100|           62|\n",
            "|           0.51|03/05/2019 08:51:14|        0.6|      100|           45|\n",
            "|           0.32|03/05/2019 08:56:14|       0.37|      100|           47|\n",
            "|           0.62|03/05/2019 09:01:14|       0.59|      100|           60|\n",
            "|           0.66|03/05/2019 09:06:14|       0.72|      100|           57|\n",
            "|           0.54|03/05/2019 09:11:14|       0.54|      100|           44|\n",
            "|           0.29|03/05/2019 09:16:14|        0.4|      100|           47|\n",
            "|           0.43|03/05/2019 09:21:14|       0.68|      100|           66|\n",
            "|           0.49|03/05/2019 09:26:14|       0.66|      100|           65|\n",
            "|           0.64|03/05/2019 09:31:14|       0.55|      100|           66|\n",
            "|           0.42|03/05/2019 09:36:14|        0.6|      100|           42|\n",
            "|           0.55|03/05/2019 09:41:14|       0.59|      100|           63|\n",
            "+---------------+-------------------+-----------+---------+-------------+\n",
            "only showing top 20 rows\n",
            "\n"
          ],
          "name": "stdout"
        }
      ]
    },
    {
      "cell_type": "markdown",
      "metadata": {
        "id": "jGtuhn9CwZHq"
      },
      "source": [
        "If we want to sort the rows based on more that one coulmn, we can specify the list of columns and sorting order by using the following syntax."
      ]
    },
    {
      "cell_type": "code",
      "metadata": {
        "id": "JK5x6iUlwZHr",
        "colab": {
          "base_uri": "https://localhost:8080/"
        },
        "outputId": "c5e36a9c-6314-43cd-9929-d816997d9ee7"
      },
      "source": [
        "df3.sort(['server_id'], ascending=[1]).show()"
      ],
      "execution_count": null,
      "outputs": [
        {
          "output_type": "stream",
          "text": [
            "+---------------+-------------------+-----------+---------+-------------+\n",
            "|cpu_utilization|     event_datetime|free_memory|server_id|session_count|\n",
            "+---------------+-------------------+-----------+---------+-------------+\n",
            "|           0.55|03/05/2019 09:41:14|       0.59|      100|           63|\n",
            "|           0.62|03/05/2019 09:01:14|       0.59|      100|           60|\n",
            "|           0.42|03/05/2019 09:36:14|        0.6|      100|           42|\n",
            "|           0.57|03/05/2019 08:36:14|       0.35|      100|           58|\n",
            "|           0.32|03/05/2019 08:56:14|       0.37|      100|           47|\n",
            "|           0.29|03/05/2019 09:16:14|        0.4|      100|           47|\n",
            "|           0.64|03/05/2019 09:31:14|       0.55|      100|           66|\n",
            "|           0.56|03/05/2019 08:16:14|       0.57|      100|           62|\n",
            "|           0.41|03/05/2019 08:31:14|       0.58|      100|           48|\n",
            "|           0.53|03/05/2019 08:46:14|       0.35|      100|           62|\n",
            "|           0.51|03/05/2019 08:51:14|        0.6|      100|           45|\n",
            "|           0.66|03/05/2019 09:06:14|       0.72|      100|           57|\n",
            "|           0.54|03/05/2019 09:11:14|       0.54|      100|           44|\n",
            "|           0.43|03/05/2019 09:21:14|       0.68|      100|           66|\n",
            "|           0.49|03/05/2019 09:26:14|       0.66|      100|           65|\n",
            "|           0.57|03/05/2019 08:06:14|       0.51|      100|           47|\n",
            "|           0.47|03/05/2019 08:11:14|       0.62|      100|           43|\n",
            "|           0.57|03/05/2019 08:21:14|       0.56|      100|           50|\n",
            "|           0.35|03/05/2019 08:26:14|       0.46|      100|           43|\n",
            "|           0.41|03/05/2019 08:41:14|        0.4|      100|           58|\n",
            "+---------------+-------------------+-----------+---------+-------------+\n",
            "only showing top 20 rows\n",
            "\n"
          ],
          "name": "stdout"
        }
      ]
    },
    {
      "cell_type": "markdown",
      "metadata": {
        "id": "NP_3NLRpwZHr"
      },
      "source": [
        "### Filtering using DataFrame API"
      ]
    },
    {
      "cell_type": "markdown",
      "metadata": {
        "id": "MzqHqzvqwZHr"
      },
      "source": [
        "Now, let's take a look at how we can use DataFrame API to filter some of the rows in DataFrames.\n",
        "\n",
        "One of the DataFrames that we have created is `df1`, which stores location ID, and temperature measurement at a particular point and time."
      ]
    },
    {
      "cell_type": "code",
      "metadata": {
        "id": "hCe2wX0UwZHr",
        "colab": {
          "base_uri": "https://localhost:8080/"
        },
        "outputId": "ad983fea-b0dd-4ff9-bcb8-743274591ef7"
      },
      "source": [
        "df1.show(5)"
      ],
      "execution_count": null,
      "outputs": [
        {
          "output_type": "stream",
          "text": [
            "+-------------------+-----------+------------+\n",
            "|         event_date|location_id|temp_celcius|\n",
            "+-------------------+-----------+------------+\n",
            "|03/04/2019 19:48:06|       loc0|          29|\n",
            "|03/04/2019 19:53:06|       loc0|          27|\n",
            "|03/04/2019 19:58:06|       loc0|          28|\n",
            "|03/04/2019 20:03:06|       loc0|          30|\n",
            "|03/04/2019 20:08:06|       loc0|          27|\n",
            "+-------------------+-----------+------------+\n",
            "only showing top 5 rows\n",
            "\n"
          ],
          "name": "stdout"
        }
      ]
    },
    {
      "cell_type": "markdown",
      "metadata": {
        "id": "J4ePACiSwZHs"
      },
      "source": [
        "If we want to filter rows based on their `location_id`, we can use `filter` command. `filter(condition)` filters rows using the given condition. `filter()` method essentially allows us to specify a `WHERE` clause."
      ]
    },
    {
      "cell_type": "code",
      "metadata": {
        "id": "YXKRWo8FwZHt",
        "colab": {
          "base_uri": "https://localhost:8080/"
        },
        "outputId": "dac750c3-2e9b-4866-9542-ae441a7d8076"
      },
      "source": [
        "df1.filter(df1['location_id']=='loc10').show()"
      ],
      "execution_count": null,
      "outputs": [
        {
          "output_type": "stream",
          "text": [
            "+-------------------+-----------+------------+\n",
            "|         event_date|location_id|temp_celcius|\n",
            "+-------------------+-----------+------------+\n",
            "|03/04/2019 19:48:08|      loc10|          26|\n",
            "|03/04/2019 19:53:08|      loc10|          31|\n",
            "|03/04/2019 19:58:08|      loc10|          25|\n",
            "|03/04/2019 20:03:08|      loc10|          25|\n",
            "|03/04/2019 20:08:08|      loc10|          26|\n",
            "|03/04/2019 20:13:08|      loc10|          23|\n",
            "|03/04/2019 20:18:08|      loc10|          26|\n",
            "|03/04/2019 20:23:08|      loc10|          23|\n",
            "|03/04/2019 20:28:08|      loc10|          31|\n",
            "|03/04/2019 20:33:08|      loc10|          23|\n",
            "|03/04/2019 20:38:08|      loc10|          27|\n",
            "|03/04/2019 20:43:08|      loc10|          23|\n",
            "|03/04/2019 20:48:08|      loc10|          28|\n",
            "|03/04/2019 20:53:08|      loc10|          26|\n",
            "|03/04/2019 20:58:08|      loc10|          26|\n",
            "|03/04/2019 21:03:08|      loc10|          27|\n",
            "|03/04/2019 21:08:08|      loc10|          23|\n",
            "|03/04/2019 21:13:08|      loc10|          25|\n",
            "|03/04/2019 21:18:08|      loc10|          25|\n",
            "|03/04/2019 21:23:08|      loc10|          26|\n",
            "+-------------------+-----------+------------+\n",
            "only showing top 20 rows\n",
            "\n"
          ],
          "name": "stdout"
        }
      ]
    },
    {
      "cell_type": "markdown",
      "metadata": {
        "id": "ALS5yuw6wZHt"
      },
      "source": [
        "If we want to count all the rows that are located in a specific `location_id`,we can specify the `count()` command."
      ]
    },
    {
      "cell_type": "code",
      "metadata": {
        "id": "oqJA8hKkwZHt",
        "colab": {
          "base_uri": "https://localhost:8080/"
        },
        "outputId": "b8196556-f2b6-4635-dad8-5225a39d21b8"
      },
      "source": [
        "df1.filter(df1['location_id']=='loc10').count()"
      ],
      "execution_count": null,
      "outputs": [
        {
          "output_type": "execute_result",
          "data": {
            "text/plain": [
              "1000"
            ]
          },
          "metadata": {
            "tags": []
          },
          "execution_count": 47
        }
      ]
    },
    {
      "cell_type": "markdown",
      "metadata": {
        "id": "VIcD078pwZHu"
      },
      "source": [
        "Sometimes we only need to list one or two columns; in this case, we can use `select()` method that projects a set of expressions and returns a new DataFrame. Let's take a look at how it works."
      ]
    },
    {
      "cell_type": "code",
      "metadata": {
        "id": "Gqzb3l5CwZHu",
        "colab": {
          "base_uri": "https://localhost:8080/"
        },
        "outputId": "838cefaa-1eab-4420-c257-c88c5388e699"
      },
      "source": [
        "df1.select(['location_id','temp_celcius']).show()"
      ],
      "execution_count": null,
      "outputs": [
        {
          "output_type": "stream",
          "text": [
            "+-----------+------------+\n",
            "|location_id|temp_celcius|\n",
            "+-----------+------------+\n",
            "|       loc0|          29|\n",
            "|       loc0|          27|\n",
            "|       loc0|          28|\n",
            "|       loc0|          30|\n",
            "|       loc0|          27|\n",
            "|       loc0|          27|\n",
            "|       loc0|          27|\n",
            "|       loc0|          29|\n",
            "|       loc0|          32|\n",
            "|       loc0|          35|\n",
            "|       loc0|          32|\n",
            "|       loc0|          28|\n",
            "|       loc0|          28|\n",
            "|       loc0|          32|\n",
            "|       loc0|          34|\n",
            "|       loc0|          33|\n",
            "|       loc0|          27|\n",
            "|       loc0|          28|\n",
            "|       loc0|          33|\n",
            "|       loc0|          28|\n",
            "+-----------+------------+\n",
            "only showing top 20 rows\n",
            "\n"
          ],
          "name": "stdout"
        }
      ]
    },
    {
      "cell_type": "markdown",
      "metadata": {
        "id": "Pu2YBh_5wZHu"
      },
      "source": [
        "### Aggregation using DataFrame API"
      ]
    },
    {
      "cell_type": "markdown",
      "metadata": {
        "id": "0SDRt_4XwZHv"
      },
      "source": [
        "Now, let's take a look at aggregating using the DataFrame API. In the following cell we will use `groupBy` method that groups the DataFrame using the specified columns, so we can run aggregation on them."
      ]
    },
    {
      "cell_type": "code",
      "metadata": {
        "id": "nUuEoOACwZHv",
        "colab": {
          "base_uri": "https://localhost:8080/"
        },
        "outputId": "2478900c-e51b-42a6-ce20-39f2e77515fc"
      },
      "source": [
        "df1.groupBy('location_id').max().show()"
      ],
      "execution_count": null,
      "outputs": [
        {
          "output_type": "stream",
          "text": [
            "+-----------+\n",
            "|location_id|\n",
            "+-----------+\n",
            "|     loc196|\n",
            "|     loc226|\n",
            "|     loc463|\n",
            "|     loc150|\n",
            "|     loc292|\n",
            "|     loc311|\n",
            "|      loc22|\n",
            "|     loc351|\n",
            "|     loc370|\n",
            "|     loc419|\n",
            "|      loc31|\n",
            "|     loc305|\n",
            "|      loc82|\n",
            "|      loc90|\n",
            "|     loc118|\n",
            "|     loc195|\n",
            "|     loc208|\n",
            "|      loc39|\n",
            "|      loc75|\n",
            "|     loc228|\n",
            "+-----------+\n",
            "only showing top 20 rows\n",
            "\n"
          ],
          "name": "stdout"
        }
      ]
    },
    {
      "cell_type": "markdown",
      "metadata": {
        "id": "mxjwL9rnwZHv"
      },
      "source": [
        "If we want to sort the DataFrame, we can use `orderBy` that returns a new DataFrame sorted by the specified column(s)."
      ]
    },
    {
      "cell_type": "code",
      "metadata": {
        "id": "KsVZS2OEwZHv",
        "colab": {
          "base_uri": "https://localhost:8080/"
        },
        "outputId": "51946a28-15db-42d4-be45-b99729ce6ee3"
      },
      "source": [
        "df1.orderBy('location_id', ascending=False).show()"
      ],
      "execution_count": null,
      "outputs": [
        {
          "output_type": "stream",
          "text": [
            "+-------------------+-----------+------------+\n",
            "|         event_date|location_id|temp_celcius|\n",
            "+-------------------+-----------+------------+\n",
            "|03/04/2019 21:18:25|      loc99|          32|\n",
            "|03/04/2019 20:38:25|      loc99|          34|\n",
            "|03/04/2019 21:13:25|      loc99|          37|\n",
            "|03/04/2019 20:13:25|      loc99|          37|\n",
            "|03/04/2019 20:33:25|      loc99|          32|\n",
            "|03/04/2019 20:53:25|      loc99|          33|\n",
            "|03/04/2019 21:08:25|      loc99|          31|\n",
            "|03/04/2019 19:53:25|      loc99|          34|\n",
            "|03/04/2019 20:08:25|      loc99|          31|\n",
            "|03/04/2019 20:23:25|      loc99|          31|\n",
            "|03/04/2019 20:28:25|      loc99|          34|\n",
            "|03/04/2019 20:43:25|      loc99|          36|\n",
            "|03/04/2019 20:48:25|      loc99|          34|\n",
            "|03/04/2019 20:58:25|      loc99|          32|\n",
            "|03/04/2019 21:03:25|      loc99|          32|\n",
            "|03/04/2019 19:48:25|      loc99|          33|\n",
            "|03/04/2019 21:28:25|      loc99|          33|\n",
            "|03/04/2019 19:58:25|      loc99|          32|\n",
            "|03/04/2019 20:03:25|      loc99|          32|\n",
            "|03/04/2019 20:18:25|      loc99|          35|\n",
            "+-------------------+-----------+------------+\n",
            "only showing top 20 rows\n",
            "\n"
          ],
          "name": "stdout"
        }
      ]
    },
    {
      "cell_type": "markdown",
      "metadata": {
        "id": "TTk9OQLzwZHw"
      },
      "source": [
        "To calculate the average temperature at each location, we can use `agg` operation. Let's take a look at the following example."
      ]
    },
    {
      "cell_type": "code",
      "metadata": {
        "id": "XoHZRG0XwZHx",
        "colab": {
          "base_uri": "https://localhost:8080/"
        },
        "outputId": "0eb7a8f6-84ca-4c81-8505-6b61fb2488ef"
      },
      "source": [
        "df1.groupBy('location_id').agg({'temp_celcius':'mean'}).orderBy('location_id').show()"
      ],
      "execution_count": null,
      "outputs": [
        {
          "output_type": "stream",
          "text": [
            "+-----------+-----------------+\n",
            "|location_id|avg(temp_celcius)|\n",
            "+-----------+-----------------+\n",
            "|       loc0|           29.176|\n",
            "|       loc1|           28.246|\n",
            "|      loc10|           25.337|\n",
            "|     loc100|           27.297|\n",
            "|     loc101|           25.317|\n",
            "|     loc102|           30.327|\n",
            "|     loc103|           25.341|\n",
            "|     loc104|           26.204|\n",
            "|     loc105|           26.217|\n",
            "|     loc106|           27.201|\n",
            "|     loc107|           33.268|\n",
            "|     loc108|           32.195|\n",
            "|     loc109|           24.138|\n",
            "|      loc11|           25.308|\n",
            "|     loc110|           26.239|\n",
            "|     loc111|           31.391|\n",
            "|     loc112|           33.359|\n",
            "|     loc113|           30.345|\n",
            "|     loc114|           29.261|\n",
            "|     loc115|           23.239|\n",
            "+-----------+-----------------+\n",
            "only showing top 20 rows\n",
            "\n"
          ],
          "name": "stdout"
        }
      ]
    },
    {
      "cell_type": "markdown",
      "metadata": {
        "id": "qElFgK6JwZHx"
      },
      "source": [
        "There are different aggregation function options, for example, if we want to have the maximum temperature in each location, we can write the following code."
      ]
    },
    {
      "cell_type": "code",
      "metadata": {
        "id": "09LKQyU3wZHy",
        "colab": {
          "base_uri": "https://localhost:8080/"
        },
        "outputId": "63c8fb12-b7cd-46d9-eb39-95ce6af625cf"
      },
      "source": [
        "df1.groupBy('location_id').agg({'temp_celcius':'max'}).orderBy('location_id', ascending=False).show()"
      ],
      "execution_count": null,
      "outputs": [
        {
          "output_type": "stream",
          "text": [
            "+-----------+-----------------+\n",
            "|location_id|max(temp_celcius)|\n",
            "+-----------+-----------------+\n",
            "|      loc99|               40|\n",
            "|      loc98|               39|\n",
            "|      loc97|               38|\n",
            "|      loc96|               35|\n",
            "|      loc95|               40|\n",
            "|      loc94|               32|\n",
            "|      loc93|               31|\n",
            "|      loc92|               40|\n",
            "|      loc91|               37|\n",
            "|      loc90|               30|\n",
            "|       loc9|               39|\n",
            "|      loc89|               37|\n",
            "|      loc88|               32|\n",
            "|      loc87|               38|\n",
            "|      loc86|               30|\n",
            "|      loc85|               35|\n",
            "|      loc84|               33|\n",
            "|      loc83|               33|\n",
            "|      loc82|               34|\n",
            "|      loc81|               30|\n",
            "+-----------+-----------------+\n",
            "only showing top 20 rows\n",
            "\n"
          ],
          "name": "stdout"
        }
      ]
    },
    {
      "cell_type": "markdown",
      "metadata": {
        "id": "vE9czTtHwZHy"
      },
      "source": [
        "### Data Sampling"
      ]
    },
    {
      "cell_type": "markdown",
      "metadata": {
        "id": "5SWDFVAnwZHy"
      },
      "source": [
        "Sometimes, we may want to use sampling, particularly when we have large data sets, and we are doing kind of an exploratory analysis. We want to get kind of an understanding at a high level of what the data is like. Sampling can be beneficial for doing quick operations. Now, let's see how we can take a sample, or a subset of that, but randomly. In PySpark, `sample()` method returns a sampled subset of this DataFrame, and it usually takes two parameters, `fraction` that specifies the fraction of rows to generate, range [0.0, 1.0]. The second parameter is `withReplacement`, which is a boolean parameter. Usually, we assign `false` to it, in this case, what that means is each time we pull a row out of our sampling, we don't put it back in, so we will never get duplicates, we will always get unique values."
      ]
    },
    {
      "cell_type": "code",
      "metadata": {
        "id": "4xRJ6nH0wZHy"
      },
      "source": [
        "df1_sample = df1.sample(fraction=0.1,withReplacement=False)"
      ],
      "execution_count": null,
      "outputs": []
    },
    {
      "cell_type": "code",
      "metadata": {
        "id": "neoeSjrTwZHz",
        "colab": {
          "base_uri": "https://localhost:8080/"
        },
        "outputId": "e62ff020-125e-4552-c6b1-cc79fc806e7e"
      },
      "source": [
        "df1_sample.count()"
      ],
      "execution_count": null,
      "outputs": [
        {
          "output_type": "execute_result",
          "data": {
            "text/plain": [
              "50050"
            ]
          },
          "metadata": {
            "tags": []
          },
          "execution_count": 58
        }
      ]
    },
    {
      "cell_type": "markdown",
      "metadata": {
        "id": "6piOF0BXwZHz"
      },
      "source": [
        "Now, let's run some simple descriptive statistics on our sample."
      ]
    },
    {
      "cell_type": "code",
      "metadata": {
        "id": "XuzClfmBwZHz",
        "colab": {
          "base_uri": "https://localhost:8080/"
        },
        "outputId": "b70a1103-a1e6-4edd-ca3d-9491948280c2"
      },
      "source": [
        "df1_sample.groupBy('location_id').agg({'temp_celcius':'mean'}).show()"
      ],
      "execution_count": null,
      "outputs": [
        {
          "output_type": "stream",
          "text": [
            "+-----------+------------------+\n",
            "|location_id| avg(temp_celcius)|\n",
            "+-----------+------------------+\n",
            "|     loc196|28.945652173913043|\n",
            "|     loc226|25.359550561797754|\n",
            "|     loc463| 23.13978494623656|\n",
            "|     loc150|           31.9875|\n",
            "|     loc292|              29.0|\n",
            "|     loc311|23.881720430107528|\n",
            "|      loc22| 28.58407079646018|\n",
            "|     loc351| 28.26050420168067|\n",
            "|     loc370|28.916666666666668|\n",
            "|     loc419|29.183673469387756|\n",
            "|      loc31| 25.23008849557522|\n",
            "|     loc305|27.185185185185187|\n",
            "|      loc82|27.309278350515463|\n",
            "|      loc90| 23.19607843137255|\n",
            "|     loc118|24.634146341463413|\n",
            "|     loc195| 27.34285714285714|\n",
            "|     loc208|26.679611650485437|\n",
            "|      loc39| 24.91176470588235|\n",
            "|      loc75| 23.27906976744186|\n",
            "|     loc228|             27.17|\n",
            "+-----------+------------------+\n",
            "only showing top 20 rows\n",
            "\n"
          ],
          "name": "stdout"
        }
      ]
    },
    {
      "cell_type": "markdown",
      "metadata": {
        "id": "LnGd80XvwZHz"
      },
      "source": [
        "Now, let's compare these results to results of the original data set, the DataFrame `df1`, which has 500000 rows."
      ]
    },
    {
      "cell_type": "code",
      "metadata": {
        "id": "pNZfy4JuwZHz",
        "colab": {
          "base_uri": "https://localhost:8080/"
        },
        "outputId": "f644a58e-7272-442a-9257-4409ef3916ed"
      },
      "source": [
        "df1.groupBy('location_id').agg({'temp_celcius':'mean'}).show()"
      ],
      "execution_count": null,
      "outputs": [
        {
          "output_type": "stream",
          "text": [
            "+-----------+-----------------+\n",
            "|location_id|avg(temp_celcius)|\n",
            "+-----------+-----------------+\n",
            "|     loc196|           29.225|\n",
            "|     loc226|           25.306|\n",
            "|     loc463|           23.317|\n",
            "|     loc150|           32.188|\n",
            "|     loc292|           29.159|\n",
            "|     loc311|           24.308|\n",
            "|      loc22|           28.251|\n",
            "|     loc351|           28.194|\n",
            "|     loc370|            29.14|\n",
            "|     loc419|           29.141|\n",
            "|      loc31|           25.196|\n",
            "|     loc305|           27.314|\n",
            "|      loc82|           27.355|\n",
            "|      loc90|           23.216|\n",
            "|     loc118|           24.219|\n",
            "|     loc195|            27.25|\n",
            "|     loc208|           26.206|\n",
            "|      loc39|           25.199|\n",
            "|      loc75|           23.209|\n",
            "|     loc228|           27.295|\n",
            "+-----------+-----------------+\n",
            "only showing top 20 rows\n",
            "\n"
          ],
          "name": "stdout"
        }
      ]
    },
    {
      "cell_type": "markdown",
      "metadata": {
        "id": "UaPER8EUwZHz"
      },
      "source": [
        "As you can see, when we did the sampling and took 10% when we took the average of location zero, we got something that was about 29.4, but the actual is approximately 29.18. Therefore, we can see by sampling, we get very close to what the average is for the actual population. One of the things to consider is the size of the sample that we are drawing."
      ]
    },
    {
      "cell_type": "markdown",
      "metadata": {
        "id": "xLYEBd0WwZH0"
      },
      "source": [
        "### Save Data from DataFrame"
      ]
    },
    {
      "cell_type": "markdown",
      "metadata": {
        "id": "2gF6IB9RwZH0"
      },
      "source": [
        "Sometimes after we have been working with DataFrames and creating new DataFrames and running calculations and doing sampling, we might want to save our results out. To do this, we can use `write` object and specify the `csv()` method within that, and then specify a name or what we'd like to save. It saves the DataFrame to disk using the csv format."
      ]
    },
    {
      "cell_type": "code",
      "metadata": {
        "id": "dli0R_9OwZH0"
      },
      "source": [
        "df1.write.csv('df1.csv')"
      ],
      "execution_count": null,
      "outputs": []
    },
    {
      "cell_type": "markdown",
      "metadata": {
        "id": "lbnIaQU9wZH0"
      },
      "source": [
        "Now, let's take a look at the current directory"
      ]
    },
    {
      "cell_type": "code",
      "metadata": {
        "id": "ilT6fpgwwZH1",
        "colab": {
          "base_uri": "https://localhost:8080/"
        },
        "outputId": "53337698-5a17-480d-8461-bb5ebf026d3e"
      },
      "source": [
        "! ls df1.csv"
      ],
      "execution_count": null,
      "outputs": [
        {
          "output_type": "stream",
          "text": [
            "part-00000-22c50fc9-5a8b-4535-8d13-65fc9ebb14db-c000.csv  _SUCCESS\n",
            "part-00001-22c50fc9-5a8b-4535-8d13-65fc9ebb14db-c000.csv\n"
          ],
          "name": "stdout"
        }
      ]
    },
    {
      "cell_type": "markdown",
      "metadata": {
        "id": "uJaFubnLwZH1"
      },
      "source": [
        "Now, what you will notice here is that `df1.csv` is not a single file. It is a directory. And what is in that directory is four different files with `csv` extensions, and that is because of the way Apache Spark works internally. Spark can break up DataFrames into partition subsets, and in this case, there were four partitions. Each partition has its own file. There is also a `_SUCCESS` flag that was written out. Now, let's list the contents of one of these files."
      ]
    },
    {
      "cell_type": "code",
      "metadata": {
        "id": "hhYIM4-ywZH1"
      },
      "source": [],
      "execution_count": null,
      "outputs": []
    },
    {
      "cell_type": "markdown",
      "metadata": {
        "id": "hzR24M3vwZH2"
      },
      "source": [
        "To write the DataFrame in JSON format, you can use the following code."
      ]
    },
    {
      "cell_type": "code",
      "metadata": {
        "id": "hx72wuHZwZH2"
      },
      "source": [],
      "execution_count": null,
      "outputs": []
    },
    {
      "cell_type": "code",
      "metadata": {
        "id": "H5k7FOcUwZH3"
      },
      "source": [],
      "execution_count": null,
      "outputs": []
    },
    {
      "cell_type": "code",
      "metadata": {
        "id": "S6sfU7EcwZH3"
      },
      "source": [],
      "execution_count": null,
      "outputs": []
    },
    {
      "cell_type": "markdown",
      "metadata": {
        "id": "ta21jQf8wZH3"
      },
      "source": [
        "## Querying DataFrames with SQL"
      ]
    },
    {
      "cell_type": "markdown",
      "metadata": {
        "id": "yB8OEY0MwZH4"
      },
      "source": [
        "Up to now, we've been using the Spark DataFrame API to work with DataFrames. Now, we're going to switch gears and we're going to work with SQL. In particular, we're going to use Spark SQL for working with DataFrames."
      ]
    },
    {
      "cell_type": "markdown",
      "metadata": {
        "id": "7IOyim1ZwZH6"
      },
      "source": [
        "In this part, we will use `utilization.json` that includes cpu utilization, the amount of free memory at a particular point in time, and then the number of sessions that are currently connected to the server at the particular point in time."
      ]
    },
    {
      "cell_type": "code",
      "metadata": {
        "id": "HBN4wwUWwZH6"
      },
      "source": [
        "file_path = MAIN_DIRECTORY + '/data/utilization.json'"
      ],
      "execution_count": null,
      "outputs": []
    },
    {
      "cell_type": "code",
      "metadata": {
        "id": "X-ieGInIwZH6"
      },
      "source": [
        "df_util = spark.read.format('json').load(file_path)"
      ],
      "execution_count": null,
      "outputs": []
    },
    {
      "cell_type": "code",
      "metadata": {
        "id": "EdrZcz-mwZH7",
        "colab": {
          "base_uri": "https://localhost:8080/"
        },
        "outputId": "2bd0b964-32e7-4e9a-ae19-2e52246ac66e"
      },
      "source": [
        "df_util.show(5)"
      ],
      "execution_count": null,
      "outputs": [
        {
          "output_type": "stream",
          "text": [
            "+---------------+-------------------+-----------+---------+-------------+\n",
            "|cpu_utilization|     event_datetime|free_memory|server_id|session_count|\n",
            "+---------------+-------------------+-----------+---------+-------------+\n",
            "|           0.57|03/05/2019 08:06:14|       0.51|      100|           47|\n",
            "|           0.47|03/05/2019 08:11:14|       0.62|      100|           43|\n",
            "|           0.56|03/05/2019 08:16:14|       0.57|      100|           62|\n",
            "|           0.57|03/05/2019 08:21:14|       0.56|      100|           50|\n",
            "|           0.35|03/05/2019 08:26:14|       0.46|      100|           43|\n",
            "+---------------+-------------------+-----------+---------+-------------+\n",
            "only showing top 5 rows\n",
            "\n"
          ],
          "name": "stdout"
        }
      ]
    },
    {
      "cell_type": "code",
      "metadata": {
        "colab": {
          "base_uri": "https://localhost:8080/"
        },
        "id": "QOeFv7HqeElx",
        "outputId": "1d25b0af-d173-4fd2-c0c8-f97bbad519db"
      },
      "source": [
        "df_util.count()"
      ],
      "execution_count": null,
      "outputs": [
        {
          "output_type": "execute_result",
          "data": {
            "text/plain": [
              "500000"
            ]
          },
          "metadata": {
            "tags": []
          },
          "execution_count": 66
        }
      ]
    },
    {
      "cell_type": "code",
      "metadata": {
        "colab": {
          "base_uri": "https://localhost:8080/"
        },
        "id": "kbNSQbRPeHaT",
        "outputId": "a4c1125b-9c84-426e-eb13-be2bfa6e0909"
      },
      "source": [
        "df_util.columns"
      ],
      "execution_count": null,
      "outputs": [
        {
          "output_type": "execute_result",
          "data": {
            "text/plain": [
              "['cpu_utilization',\n",
              " 'event_datetime',\n",
              " 'free_memory',\n",
              " 'server_id',\n",
              " 'session_count']"
            ]
          },
          "metadata": {
            "tags": []
          },
          "execution_count": 67
        }
      ]
    },
    {
      "cell_type": "markdown",
      "metadata": {
        "id": "wkAJEOvrwZH7"
      },
      "source": [
        "To work with SQL in Spark, we have to create a temporary view. And to do that, we specify the DataFrame, and then we call the method `createOrReplaceTempView()` and then we should specify a name for this table. Let's do it."
      ]
    },
    {
      "cell_type": "code",
      "metadata": {
        "id": "rGQ8c5K4wZH7"
      },
      "source": [
        "df_util.createOrReplaceTempView('utilization')"
      ],
      "execution_count": null,
      "outputs": []
    },
    {
      "cell_type": "markdown",
      "metadata": {
        "id": "XvVbUnoMwZH7"
      },
      "source": [
        "Now, we have the ability to query on a table called utilization. We will create that by executing a SQL command in the Spark session."
      ]
    },
    {
      "cell_type": "code",
      "metadata": {
        "id": "EgiJO4TpwZH7"
      },
      "source": [
        "df_sql = spark.sql(\"SELECT * FROM utilization LIMIT 10\")"
      ],
      "execution_count": null,
      "outputs": []
    },
    {
      "cell_type": "code",
      "metadata": {
        "id": "ELHUjrJqwZH7",
        "colab": {
          "base_uri": "https://localhost:8080/"
        },
        "outputId": "146425a9-6c80-435e-e762-20c90f4e5e94"
      },
      "source": [
        "df_sql.show()"
      ],
      "execution_count": null,
      "outputs": [
        {
          "output_type": "stream",
          "text": [
            "+---------------+-------------------+-----------+---------+-------------+\n",
            "|cpu_utilization|     event_datetime|free_memory|server_id|session_count|\n",
            "+---------------+-------------------+-----------+---------+-------------+\n",
            "|           0.57|03/05/2019 08:06:14|       0.51|      100|           47|\n",
            "|           0.47|03/05/2019 08:11:14|       0.62|      100|           43|\n",
            "|           0.56|03/05/2019 08:16:14|       0.57|      100|           62|\n",
            "|           0.57|03/05/2019 08:21:14|       0.56|      100|           50|\n",
            "|           0.35|03/05/2019 08:26:14|       0.46|      100|           43|\n",
            "|           0.41|03/05/2019 08:31:14|       0.58|      100|           48|\n",
            "|           0.57|03/05/2019 08:36:14|       0.35|      100|           58|\n",
            "|           0.41|03/05/2019 08:41:14|        0.4|      100|           58|\n",
            "|           0.53|03/05/2019 08:46:14|       0.35|      100|           62|\n",
            "|           0.51|03/05/2019 08:51:14|        0.6|      100|           45|\n",
            "+---------------+-------------------+-----------+---------+-------------+\n",
            "\n"
          ],
          "name": "stdout"
        }
      ]
    },
    {
      "cell_type": "markdown",
      "metadata": {
        "id": "dSnwmYgNwZH8"
      },
      "source": [
        "If we want to project on specific columns, we can do it in the following way."
      ]
    },
    {
      "cell_type": "code",
      "metadata": {
        "id": "Xhz1yZOQwZH8",
        "colab": {
          "base_uri": "https://localhost:8080/"
        },
        "outputId": "efa50712-e5b3-43ee-d01c-ce9479dbe1a3"
      },
      "source": [
        "spark.sql(\"SELECT server_id, free_memory FROM utilization LIMIT 10\").show()"
      ],
      "execution_count": null,
      "outputs": [
        {
          "output_type": "stream",
          "text": [
            "+---------+-----------+\n",
            "|server_id|free_memory|\n",
            "+---------+-----------+\n",
            "|      100|       0.51|\n",
            "|      100|       0.62|\n",
            "|      100|       0.57|\n",
            "|      100|       0.56|\n",
            "|      100|       0.46|\n",
            "|      100|       0.58|\n",
            "|      100|       0.35|\n",
            "|      100|        0.4|\n",
            "|      100|       0.35|\n",
            "|      100|        0.6|\n",
            "+---------+-----------+\n",
            "\n"
          ],
          "name": "stdout"
        }
      ]
    },
    {
      "cell_type": "markdown",
      "metadata": {
        "id": "0LbaZmLmwZH8"
      },
      "source": [
        "### Filtering DataFrames with SQL\n",
        "Next, we are going to take a look at how to filter DataFrames using Spark SQL.  "
      ]
    },
    {
      "cell_type": "code",
      "metadata": {
        "id": "Cvmf4uzRwZH8",
        "colab": {
          "base_uri": "https://localhost:8080/"
        },
        "outputId": "0973a4a3-a965-41b5-c8d1-76cc24dc76c0"
      },
      "source": [
        "spark.sql(\"SELECT * FROM utilization WHERE server_id = 149 LIMIT 10\").show()"
      ],
      "execution_count": null,
      "outputs": [
        {
          "output_type": "stream",
          "text": [
            "+---------------+-------------------+-----------+---------+-------------+\n",
            "|cpu_utilization|     event_datetime|free_memory|server_id|session_count|\n",
            "+---------------+-------------------+-----------+---------+-------------+\n",
            "|           0.74|03/05/2019 08:07:44|       0.27|      149|           66|\n",
            "|            0.9|03/05/2019 08:12:44|       0.34|      149|           85|\n",
            "|           0.59|03/05/2019 08:17:44|       0.19|      149|           84|\n",
            "|            0.6|03/05/2019 08:22:44|       0.08|      149|           81|\n",
            "|           0.83|03/05/2019 08:27:44|       0.42|      149|           73|\n",
            "|           0.75|03/05/2019 08:32:44|       0.19|      149|           84|\n",
            "|            0.9|03/05/2019 08:37:44|       0.14|      149|           92|\n",
            "|           0.67|03/05/2019 08:42:44|       0.16|      149|           88|\n",
            "|           0.91|03/05/2019 08:47:44|       0.31|      149|           71|\n",
            "|           0.82|03/05/2019 08:52:44|       0.13|      149|           72|\n",
            "+---------------+-------------------+-----------+---------+-------------+\n",
            "\n"
          ],
          "name": "stdout"
        }
      ]
    },
    {
      "cell_type": "code",
      "metadata": {
        "id": "SVudVT8xwZH8",
        "colab": {
          "base_uri": "https://localhost:8080/"
        },
        "outputId": "140f6996-f469-4072-af30-3aca19eade0b"
      },
      "source": [
        "spark.sql(\"SELECT server_id as SID, session_count as sc \\\n",
        "          FROM utilization WHERE session_count > 50 \\\n",
        "          LIMIT 10\").show()"
      ],
      "execution_count": null,
      "outputs": [
        {
          "output_type": "stream",
          "text": [
            "+---+---+\n",
            "|SID| sc|\n",
            "+---+---+\n",
            "|100| 62|\n",
            "|100| 58|\n",
            "|100| 58|\n",
            "|100| 62|\n",
            "|100| 60|\n",
            "|100| 57|\n",
            "|100| 66|\n",
            "|100| 65|\n",
            "|100| 66|\n",
            "|100| 63|\n",
            "+---+---+\n",
            "\n"
          ],
          "name": "stdout"
        }
      ]
    },
    {
      "cell_type": "code",
      "metadata": {
        "id": "023zeV60wZH8",
        "colab": {
          "base_uri": "https://localhost:8080/"
        },
        "outputId": "e47b7338-cb44-42fd-8cba-9e9c303e4398"
      },
      "source": [
        "spark.sql(\"SELECT server_id, session_count FROM utilization \\\n",
        "          WHERE session_count > 70 AND server_id = 120 \\\n",
        "          ORDER BY session_count DESC \\\n",
        "          LIMIT 10\").show()"
      ],
      "execution_count": null,
      "outputs": [
        {
          "output_type": "stream",
          "text": [
            "+---------+-------------+\n",
            "|server_id|session_count|\n",
            "+---------+-------------+\n",
            "|      120|           80|\n",
            "|      120|           80|\n",
            "|      120|           80|\n",
            "|      120|           80|\n",
            "|      120|           80|\n",
            "|      120|           80|\n",
            "|      120|           80|\n",
            "|      120|           80|\n",
            "|      120|           80|\n",
            "|      120|           80|\n",
            "+---------+-------------+\n",
            "\n"
          ],
          "name": "stdout"
        }
      ]
    },
    {
      "cell_type": "markdown",
      "metadata": {
        "id": "EAF4UP4dwZH9"
      },
      "source": [
        "### Aggregation DataFrames with SQL"
      ]
    },
    {
      "cell_type": "markdown",
      "metadata": {
        "id": "Otek6YvbwZH9"
      },
      "source": [
        "When we work with SQL in databases, we often use SQL to perform aggregations and the same holds true when working with SQL in Spark. Let's write some basic queries against the DataFrame and do a very simple aggregations."
      ]
    },
    {
      "cell_type": "code",
      "metadata": {
        "id": "stELsrTrwZH9",
        "colab": {
          "base_uri": "https://localhost:8080/"
        },
        "outputId": "60f8c99c-79de-40ce-b192-fd16afa39945"
      },
      "source": [
        "spark.sql(\"SELECT count(*) FROM utilization\").show()"
      ],
      "execution_count": null,
      "outputs": [
        {
          "output_type": "stream",
          "text": [
            "+--------+\n",
            "|count(1)|\n",
            "+--------+\n",
            "|  500000|\n",
            "+--------+\n",
            "\n"
          ],
          "name": "stdout"
        }
      ]
    },
    {
      "cell_type": "code",
      "metadata": {
        "id": "JOmKA0ZDwZH9",
        "colab": {
          "base_uri": "https://localhost:8080/"
        },
        "outputId": "381ce8d4-53d1-47dc-f8d4-c81936dbdbf3"
      },
      "source": [
        "spark.sql(\"SELECT count(*) FROM utilization WHERE session_count > 70\").show()"
      ],
      "execution_count": null,
      "outputs": [
        {
          "output_type": "stream",
          "text": [
            "+--------+\n",
            "|count(1)|\n",
            "+--------+\n",
            "|  239659|\n",
            "+--------+\n",
            "\n"
          ],
          "name": "stdout"
        }
      ]
    },
    {
      "cell_type": "code",
      "metadata": {
        "id": "5oozDuzjwZH9",
        "colab": {
          "base_uri": "https://localhost:8080/"
        },
        "outputId": "e6402fe9-8ff2-447c-94cc-bdbb054d3148"
      },
      "source": [
        "spark.sql(\"SELECT server_id, count(*) FROM utilization \\\n",
        "          WHERE session_count > 70 \\\n",
        "          GROUP BY server_id \\\n",
        "          ORDER BY count(*) DESC\").show()"
      ],
      "execution_count": null,
      "outputs": [
        {
          "output_type": "stream",
          "text": [
            "+---------+--------+\n",
            "|server_id|count(1)|\n",
            "+---------+--------+\n",
            "|      101|    9808|\n",
            "|      113|    9418|\n",
            "|      145|    9304|\n",
            "|      103|    8744|\n",
            "|      102|    8586|\n",
            "|      133|    8583|\n",
            "|      108|    8375|\n",
            "|      149|    8288|\n",
            "|      137|    8248|\n",
            "|      148|    8027|\n",
            "|      123|    7918|\n",
            "|      118|    7913|\n",
            "|      112|    7425|\n",
            "|      139|    7383|\n",
            "|      104|    7366|\n",
            "|      121|    7084|\n",
            "|      142|    7084|\n",
            "|      146|    7072|\n",
            "|      126|    6365|\n",
            "|      144|    6220|\n",
            "+---------+--------+\n",
            "only showing top 20 rows\n",
            "\n"
          ],
          "name": "stdout"
        }
      ]
    },
    {
      "cell_type": "code",
      "metadata": {
        "id": "z9kiPPm6wZH9",
        "colab": {
          "base_uri": "https://localhost:8080/"
        },
        "outputId": "bf2c02aa-636e-45f4-ae73-be765b79d1e2"
      },
      "source": [
        "spark.sql(\"SELECT server_id, min(session_count) as Min, max(session_count) as Max, \\\n",
        "          round(avg(session_count),2) as Average\\\n",
        "          FROM utilization \\\n",
        "          WHERE session_count > 70 \\\n",
        "          GROUP BY server_id \\\n",
        "          ORDER BY count(*) DESC\").show()"
      ],
      "execution_count": null,
      "outputs": [
        {
          "output_type": "stream",
          "text": [
            "+---------+---+---+-------+\n",
            "|server_id|Min|Max|Average|\n",
            "+---------+---+---+-------+\n",
            "|      101| 71|105|  87.67|\n",
            "|      113| 71|103|  86.96|\n",
            "|      145| 71|103|  86.98|\n",
            "|      103| 71|101|  85.76|\n",
            "|      102| 71|101|  85.71|\n",
            "|      133| 71|100|  85.47|\n",
            "|      108| 71|100|  85.12|\n",
            "|      149| 71| 99|  84.96|\n",
            "|      137| 71| 99|  85.01|\n",
            "|      148| 71| 99|   84.7|\n",
            "|      123| 71| 98|  84.53|\n",
            "|      118| 71| 98|  84.66|\n",
            "|      112| 71| 97|  83.55|\n",
            "|      139| 71| 96|  83.33|\n",
            "|      104| 71| 96|  83.35|\n",
            "|      121| 71| 95|  82.89|\n",
            "|      142| 71| 95|   82.9|\n",
            "|      146| 71| 95|  82.95|\n",
            "|      126| 71| 93|  81.56|\n",
            "|      144| 71| 92|  81.38|\n",
            "+---------+---+---+-------+\n",
            "only showing top 20 rows\n",
            "\n"
          ],
          "name": "stdout"
        }
      ]
    },
    {
      "cell_type": "markdown",
      "metadata": {
        "id": "cF1LgjB8wZH-"
      },
      "source": [
        "### Joining DataFrames with SQL"
      ]
    },
    {
      "cell_type": "markdown",
      "metadata": {
        "id": "jWkksaPUwZH-"
      },
      "source": [
        "One of the most useful features of SQL is the ability to join tables. We can join in Spark SQL as well."
      ]
    },
    {
      "cell_type": "markdown",
      "metadata": {
        "id": "sx2wp8npwZH-"
      },
      "source": [
        "First, we are going to create another temporary table based on the `server_names.csv` file."
      ]
    },
    {
      "cell_type": "code",
      "metadata": {
        "id": "MIWe3IbOwZH-"
      },
      "source": [
        "file_path = MAIN_DIRECTORY + '/data/server_names.csv'\n",
        "df_servers = spark.read.csv(file_path, header=True)"
      ],
      "execution_count": null,
      "outputs": []
    },
    {
      "cell_type": "code",
      "metadata": {
        "id": "AKWkJ_DSwZH-",
        "colab": {
          "base_uri": "https://localhost:8080/"
        },
        "outputId": "8293703a-6939-47bf-fac1-f6699dcbb469"
      },
      "source": [
        "df_servers.show()"
      ],
      "execution_count": null,
      "outputs": [
        {
          "output_type": "stream",
          "text": [
            "+---------+-----------+\n",
            "|server_id|server_name|\n",
            "+---------+-----------+\n",
            "|      100| Server 100|\n",
            "|      101| Server 101|\n",
            "|      102| Server 102|\n",
            "|      103| Server 103|\n",
            "|      104| Server 104|\n",
            "|      105| Server 105|\n",
            "|      106| Server 106|\n",
            "|      107| Server 107|\n",
            "|      108| Server 108|\n",
            "|      109| Server 109|\n",
            "|      110| Server 110|\n",
            "|      111| Server 111|\n",
            "|      112| Server 112|\n",
            "|      113| Server 113|\n",
            "|      114| Server 114|\n",
            "|      115| Server 115|\n",
            "|      116| Server 116|\n",
            "|      117| Server 117|\n",
            "|      118| Server 118|\n",
            "|      119| Server 119|\n",
            "+---------+-----------+\n",
            "only showing top 20 rows\n",
            "\n"
          ],
          "name": "stdout"
        }
      ]
    },
    {
      "cell_type": "code",
      "metadata": {
        "id": "Fl1JF-crwZH_"
      },
      "source": [
        "df_servers.createOrReplaceTempView('server_names')"
      ],
      "execution_count": null,
      "outputs": []
    },
    {
      "cell_type": "markdown",
      "metadata": {
        "id": "tOKOv15NwZH_"
      },
      "source": [
        "Now, let's quickly do a check on `server_id` in `utilization` table."
      ]
    },
    {
      "cell_type": "code",
      "metadata": {
        "id": "_bP1B2qswZH_",
        "colab": {
          "base_uri": "https://localhost:8080/"
        },
        "outputId": "0d809571-e8ea-4890-fe5a-890a0c497865"
      },
      "source": [
        "spark.sql(\"SELECT DISTINCT server_id FROM utilization ORDER BY server_id\").show(60)"
      ],
      "execution_count": null,
      "outputs": [
        {
          "output_type": "stream",
          "text": [
            "+---------+\n",
            "|server_id|\n",
            "+---------+\n",
            "|      100|\n",
            "|      101|\n",
            "|      102|\n",
            "|      103|\n",
            "|      104|\n",
            "|      105|\n",
            "|      106|\n",
            "|      107|\n",
            "|      108|\n",
            "|      109|\n",
            "|      110|\n",
            "|      111|\n",
            "|      112|\n",
            "|      113|\n",
            "|      114|\n",
            "|      115|\n",
            "|      116|\n",
            "|      117|\n",
            "|      118|\n",
            "|      119|\n",
            "|      120|\n",
            "|      121|\n",
            "|      122|\n",
            "|      123|\n",
            "|      124|\n",
            "|      125|\n",
            "|      126|\n",
            "|      127|\n",
            "|      128|\n",
            "|      129|\n",
            "|      130|\n",
            "|      131|\n",
            "|      132|\n",
            "|      133|\n",
            "|      134|\n",
            "|      135|\n",
            "|      136|\n",
            "|      137|\n",
            "|      138|\n",
            "|      139|\n",
            "|      140|\n",
            "|      141|\n",
            "|      142|\n",
            "|      143|\n",
            "|      144|\n",
            "|      145|\n",
            "|      146|\n",
            "|      147|\n",
            "|      148|\n",
            "|      149|\n",
            "+---------+\n",
            "\n"
          ],
          "name": "stdout"
        }
      ]
    },
    {
      "cell_type": "markdown",
      "metadata": {
        "id": "bWrnijkAwZH_"
      },
      "source": [
        "Now, let's see what the minimum and maximum of server_id is."
      ]
    },
    {
      "cell_type": "code",
      "metadata": {
        "id": "JyUUyqKlwZIA",
        "colab": {
          "base_uri": "https://localhost:8080/"
        },
        "outputId": "678d3ca6-b9ee-46b2-94ca-ba64f6ba302b"
      },
      "source": [
        "spark.sql(\"SELECT min(server_id), max(server_id) FROM server_names\").show()"
      ],
      "execution_count": null,
      "outputs": [
        {
          "output_type": "stream",
          "text": [
            "+--------------+--------------+\n",
            "|min(server_id)|max(server_id)|\n",
            "+--------------+--------------+\n",
            "|           100|           149|\n",
            "+--------------+--------------+\n",
            "\n"
          ],
          "name": "stdout"
        }
      ]
    },
    {
      "cell_type": "markdown",
      "metadata": {
        "id": "DtMAVurTwZIA"
      },
      "source": [
        "Well, let's join these two tables."
      ]
    },
    {
      "cell_type": "code",
      "metadata": {
        "id": "dxB3fQ8VwZIA",
        "colab": {
          "base_uri": "https://localhost:8080/"
        },
        "outputId": "6dcf1b65-bcbe-4c56-8707-5b4b53e2ac30"
      },
      "source": [
        "df_join = spark.sql(\"SELECT u.server_id, sn.server_name, u.session_count \\\n",
        "                    FROM utilization as u \\\n",
        "                    INNER JOIN server_names as sn \\\n",
        "                    ON sn.server_id = u.server_id\")\n",
        "df_join.show()"
      ],
      "execution_count": null,
      "outputs": [
        {
          "output_type": "stream",
          "text": [
            "+---------+-----------+-------------+\n",
            "|server_id|server_name|session_count|\n",
            "+---------+-----------+-------------+\n",
            "|      100| Server 100|           47|\n",
            "|      100| Server 100|           43|\n",
            "|      100| Server 100|           62|\n",
            "|      100| Server 100|           50|\n",
            "|      100| Server 100|           43|\n",
            "|      100| Server 100|           48|\n",
            "|      100| Server 100|           58|\n",
            "|      100| Server 100|           58|\n",
            "|      100| Server 100|           62|\n",
            "|      100| Server 100|           45|\n",
            "|      100| Server 100|           47|\n",
            "|      100| Server 100|           60|\n",
            "|      100| Server 100|           57|\n",
            "|      100| Server 100|           44|\n",
            "|      100| Server 100|           47|\n",
            "|      100| Server 100|           66|\n",
            "|      100| Server 100|           65|\n",
            "|      100| Server 100|           66|\n",
            "|      100| Server 100|           42|\n",
            "|      100| Server 100|           63|\n",
            "+---------+-----------+-------------+\n",
            "only showing top 20 rows\n",
            "\n"
          ],
          "name": "stdout"
        }
      ]
    },
    {
      "cell_type": "markdown",
      "metadata": {
        "id": "T2lO2gnJwZIA"
      },
      "source": [
        "### De-Duplicating with DataFrame API"
      ]
    },
    {
      "cell_type": "markdown",
      "metadata": {
        "id": "bzmVPGiCwZIA"
      },
      "source": [
        "When we're working with Data Frames, Spark provides some ways to de-duplicate data. So, let's take a look at how to do that. In this part also we will learn how we can create small data sets to work within the Jupiter Notebook session. Before doing anything, please restart the Jupyter kernel."
      ]
    },
    {
      "cell_type": "code",
      "metadata": {
        "id": "ZX7973mzwZIB"
      },
      "source": [
        "from pyspark import SparkContext\n",
        "from pyspark.sql import Row"
      ],
      "execution_count": null,
      "outputs": []
    },
    {
      "cell_type": "code",
      "metadata": {
        "id": "DxXRqohXwZIB"
      },
      "source": [
        "sc = SparkContext.getOrCreate()"
      ],
      "execution_count": null,
      "outputs": []
    },
    {
      "cell_type": "markdown",
      "metadata": {
        "id": "IVU3IHGTwZIB"
      },
      "source": [
        "`sc` stands for `SparkContext`. It is a global variable that gives us access to the Spark Context. Here, what we want to do is create a DataFrame, and to do that, we will use `parallelize` method that creates a parallelized data structure. Spark automatically parallelize DataFrames. But now we are going to create this data manually, so we are specifying `parallelized` explicitly."
      ]
    },
    {
      "cell_type": "code",
      "metadata": {
        "id": "lqD9BD3OwZIB"
      },
      "source": [
        "rdd = sc.parallelize([Row(server_name ='Server 101', cpu_utilization=85, session_count =80),\n",
        "                      Row(server_name ='Server 101', cpu_utilization=80, session_count =90),\n",
        "                      Row(server_name ='Server 102', cpu_utilization=85, session_count =80),\n",
        "                      Row(server_name ='Server 102', cpu_utilization=85, session_count =80)])"
      ],
      "execution_count": null,
      "outputs": []
    },
    {
      "cell_type": "code",
      "metadata": {
        "id": "kYHvw0VdwZIB"
      },
      "source": [
        "spark_1 = SparkSession(sc)"
      ],
      "execution_count": null,
      "outputs": []
    },
    {
      "cell_type": "markdown",
      "metadata": {
        "id": "ontxX7E3wZIB"
      },
      "source": [
        "`toDF()` turns that parallelized data structure to into a DataFrame."
      ]
    },
    {
      "cell_type": "code",
      "metadata": {
        "id": "naqAzxebwZIC"
      },
      "source": [
        "df_dup =rdd.toDF()"
      ],
      "execution_count": null,
      "outputs": []
    },
    {
      "cell_type": "code",
      "metadata": {
        "colab": {
          "base_uri": "https://localhost:8080/"
        },
        "id": "BJIedRj5oREr",
        "outputId": "f599342c-bc4e-48bf-a53d-a48bcb749783"
      },
      "source": [
        "df_dup.show()"
      ],
      "execution_count": null,
      "outputs": [
        {
          "output_type": "stream",
          "text": [
            "+-----------+---------------+-------------+\n",
            "|server_name|cpu_utilization|session_count|\n",
            "+-----------+---------------+-------------+\n",
            "| Server 101|             85|           80|\n",
            "| Server 101|             80|           90|\n",
            "| Server 102|             85|           80|\n",
            "| Server 102|             85|           80|\n",
            "+-----------+---------------+-------------+\n",
            "\n"
          ],
          "name": "stdout"
        }
      ]
    },
    {
      "cell_type": "markdown",
      "metadata": {
        "id": "RXkj9vHxwZIC"
      },
      "source": [
        "Now, we are going to drop duplicates. To do that we can use `drop_duplicates()` method which returns a new DataFrame with duplicate rows removed, optionally only considering certain columns."
      ]
    },
    {
      "cell_type": "code",
      "metadata": {
        "id": "0cT7u4lkwZIC",
        "colab": {
          "base_uri": "https://localhost:8080/"
        },
        "outputId": "38177700-7f37-4960-88c3-72652845b25b"
      },
      "source": [
        " df_dup.drop_duplicates().show()"
      ],
      "execution_count": null,
      "outputs": [
        {
          "output_type": "stream",
          "text": [
            "+-----------+---------------+-------------+\n",
            "|server_name|cpu_utilization|session_count|\n",
            "+-----------+---------------+-------------+\n",
            "| Server 101|             85|           80|\n",
            "| Server 102|             85|           80|\n",
            "| Server 101|             80|           90|\n",
            "+-----------+---------------+-------------+\n",
            "\n"
          ],
          "name": "stdout"
        }
      ]
    },
    {
      "cell_type": "markdown",
      "metadata": {
        "id": "O7Ttpiw3wZIC"
      },
      "source": [
        "If we want to drop any time there is a duplicate in one of the columns, we can do that as well. Let's take a look at the following example."
      ]
    },
    {
      "cell_type": "code",
      "metadata": {
        "id": "R2CQL5ZxwZIC",
        "colab": {
          "base_uri": "https://localhost:8080/"
        },
        "outputId": "a331bfb1-840a-4564-9e90-65c11fc80a2f"
      },
      "source": [
        " df_dup.drop_duplicates(['server_name']).show()"
      ],
      "execution_count": null,
      "outputs": [
        {
          "output_type": "stream",
          "text": [
            "+-----------+---------------+-------------+\n",
            "|server_name|cpu_utilization|session_count|\n",
            "+-----------+---------------+-------------+\n",
            "| Server 101|             85|           80|\n",
            "| Server 102|             85|           80|\n",
            "+-----------+---------------+-------------+\n",
            "\n"
          ],
          "name": "stdout"
        }
      ]
    },
    {
      "cell_type": "code",
      "metadata": {
        "id": "w56t9eOqwZIC",
        "colab": {
          "base_uri": "https://localhost:8080/"
        },
        "outputId": "bf7d342b-2a1e-45fa-c997-3abe5a7355f4"
      },
      "source": [
        "df_dup.drop_duplicates(['server_name','cpu_utilization']).show()"
      ],
      "execution_count": null,
      "outputs": [
        {
          "output_type": "stream",
          "text": [
            "+-----------+---------------+-------------+\n",
            "|server_name|cpu_utilization|session_count|\n",
            "+-----------+---------------+-------------+\n",
            "| Server 101|             80|           90|\n",
            "| Server 101|             85|           80|\n",
            "| Server 102|             85|           80|\n",
            "+-----------+---------------+-------------+\n",
            "\n"
          ],
          "name": "stdout"
        }
      ]
    },
    {
      "cell_type": "markdown",
      "metadata": {
        "id": "ur0o4quUwZID"
      },
      "source": [
        "### Working with null values"
      ]
    },
    {
      "cell_type": "markdown",
      "metadata": {
        "id": "UrELfE7zwZID"
      },
      "source": [
        "It is not uncommon to have data missing from DataFrame. When we are working with SQL, we are used to work with nulls. When we working with DataFrames, the absence of data is indicated by an NA. So in this section, we are going to look how we can work with NAs and Nulls using DataFrames and Spark SQL."
      ]
    },
    {
      "cell_type": "markdown",
      "metadata": {
        "id": "lKjbB50IwZID"
      },
      "source": [
        "In this section, we are importing a couple of things, we have not seen before. Let's take a look at them."
      ]
    },
    {
      "cell_type": "code",
      "metadata": {
        "id": "TC9lU-NcwZID",
        "colab": {
          "base_uri": "https://localhost:8080/"
        },
        "outputId": "3102524a-4649-4c92-bfb5-c9c71585b655"
      },
      "source": [
        "df_dup.show()"
      ],
      "execution_count": null,
      "outputs": [
        {
          "output_type": "stream",
          "text": [
            "+-----------+---------------+-------------+\n",
            "|server_name|cpu_utilization|session_count|\n",
            "+-----------+---------------+-------------+\n",
            "| Server 101|             85|           80|\n",
            "| Server 101|             80|           90|\n",
            "| Server 102|             85|           80|\n",
            "| Server 102|             85|           80|\n",
            "+-----------+---------------+-------------+\n",
            "\n"
          ],
          "name": "stdout"
        }
      ]
    },
    {
      "cell_type": "markdown",
      "metadata": {
        "id": "OEc8qwPZwZID"
      },
      "source": [
        "Now, we are going to add a column and set that column's values equall to null or NA. In this case, we will use `lit()` function that is a way for us to interact with column literals in PySpark. Spark SQL functions lit() is used to add a new column by assigning a literal or constant value to Spark DataFrame."
      ]
    },
    {
      "cell_type": "code",
      "metadata": {
        "id": "WNaos5JywZID"
      },
      "source": [
        "from pyspark.sql.functions import lit\n",
        "from pyspark.sql.types import StringType"
      ],
      "execution_count": null,
      "outputs": []
    },
    {
      "cell_type": "code",
      "metadata": {
        "id": "2RK1c1gBwZIE",
        "colab": {
          "base_uri": "https://localhost:8080/"
        },
        "outputId": "8c8f1439-ca9a-4fb4-c56b-554fe16197ca"
      },
      "source": [
        "df_na = df_dup.withColumn('na_col',lit(None).cast(StringType()))\n",
        "df_na.show()"
      ],
      "execution_count": null,
      "outputs": [
        {
          "output_type": "stream",
          "text": [
            "+-----------+---------------+-------------+------+\n",
            "|server_name|cpu_utilization|session_count|na_col|\n",
            "+-----------+---------------+-------------+------+\n",
            "| Server 101|             85|           80|  null|\n",
            "| Server 101|             80|           90|  null|\n",
            "| Server 102|             85|           80|  null|\n",
            "| Server 102|             85|           80|  null|\n",
            "+-----------+---------------+-------------+------+\n",
            "\n"
          ],
          "name": "stdout"
        }
      ]
    },
    {
      "cell_type": "markdown",
      "metadata": {
        "id": "SwopZlqawZIE"
      },
      "source": [
        "Now, one of the things that we can do is globally replace all nulls or NAs with some value. And we can do that with `fillna()` function."
      ]
    },
    {
      "cell_type": "code",
      "metadata": {
        "id": "on9AykonwZIE",
        "colab": {
          "base_uri": "https://localhost:8080/"
        },
        "outputId": "bc38aee3-7f1c-45e8-baa0-db67879612cd"
      },
      "source": [
        "df_na.fillna('A').show()"
      ],
      "execution_count": null,
      "outputs": [
        {
          "output_type": "stream",
          "text": [
            "+-----------+---------------+-------------+------+\n",
            "|server_name|cpu_utilization|session_count|na_col|\n",
            "+-----------+---------------+-------------+------+\n",
            "| Server 101|             85|           80|     A|\n",
            "| Server 101|             80|           90|     A|\n",
            "| Server 102|             85|           80|     A|\n",
            "| Server 102|             85|           80|     A|\n",
            "+-----------+---------------+-------------+------+\n",
            "\n"
          ],
          "name": "stdout"
        }
      ]
    },
    {
      "cell_type": "markdown",
      "metadata": {
        "id": "rbeGQp8LwZIE"
      },
      "source": [
        "Now, Let's create a DataFrame that has versions both with the nulls and with the As."
      ]
    },
    {
      "cell_type": "code",
      "metadata": {
        "id": "Tw0bQHBXwZIE"
      },
      "source": [
        "df_union = df_na.fillna('A').union(df_na)"
      ],
      "execution_count": null,
      "outputs": []
    },
    {
      "cell_type": "code",
      "metadata": {
        "id": "2UGiry4jwZIE",
        "colab": {
          "base_uri": "https://localhost:8080/"
        },
        "outputId": "e0e4965a-3473-4db8-a6a9-9e74b80c9ad2"
      },
      "source": [
        "df_union.show()"
      ],
      "execution_count": null,
      "outputs": [
        {
          "output_type": "stream",
          "text": [
            "+-----------+---------------+-------------+------+\n",
            "|server_name|cpu_utilization|session_count|na_col|\n",
            "+-----------+---------------+-------------+------+\n",
            "| Server 101|             85|           80|     A|\n",
            "| Server 101|             80|           90|     A|\n",
            "| Server 102|             85|           80|     A|\n",
            "| Server 102|             85|           80|     A|\n",
            "| Server 101|             85|           80|  null|\n",
            "| Server 101|             80|           90|  null|\n",
            "| Server 102|             85|           80|  null|\n",
            "| Server 102|             85|           80|  null|\n",
            "+-----------+---------------+-------------+------+\n",
            "\n"
          ],
          "name": "stdout"
        }
      ]
    },
    {
      "cell_type": "markdown",
      "metadata": {
        "id": "-FCYA4KOwZIF"
      },
      "source": [
        "Now we can drop only rows with NAs in them."
      ]
    },
    {
      "cell_type": "code",
      "metadata": {
        "id": "5NUHGJnSwZIF",
        "colab": {
          "base_uri": "https://localhost:8080/"
        },
        "outputId": "f7015934-1451-4c86-c79c-b7851d65927e"
      },
      "source": [
        "df_union.na.drop().show()"
      ],
      "execution_count": null,
      "outputs": [
        {
          "output_type": "stream",
          "text": [
            "+-----------+---------------+-------------+------+\n",
            "|server_name|cpu_utilization|session_count|na_col|\n",
            "+-----------+---------------+-------------+------+\n",
            "| Server 101|             85|           80|     A|\n",
            "| Server 101|             80|           90|     A|\n",
            "| Server 102|             85|           80|     A|\n",
            "| Server 102|             85|           80|     A|\n",
            "+-----------+---------------+-------------+------+\n",
            "\n"
          ],
          "name": "stdout"
        }
      ]
    },
    {
      "cell_type": "markdown",
      "metadata": {
        "id": "itQceCJ5wZIF"
      },
      "source": [
        "Well, let's see how we can do that with Spark SQL."
      ]
    },
    {
      "cell_type": "code",
      "metadata": {
        "id": "2OHk94QgwZIF"
      },
      "source": [
        "df_union.createOrReplaceTempView('na_table')"
      ],
      "execution_count": null,
      "outputs": []
    },
    {
      "cell_type": "code",
      "metadata": {
        "id": "i7dh8tkUwZIF",
        "colab": {
          "base_uri": "https://localhost:8080/"
        },
        "outputId": "5cf84f08-0542-43b6-8335-88827ecde6e5"
      },
      "source": [
        "spark.sql(\"SELECT * FROM na_table WHERE na_col IS NOT NULL\").show()"
      ],
      "execution_count": null,
      "outputs": [
        {
          "output_type": "stream",
          "text": [
            "+-----------+---------------+-------------+------+\n",
            "|server_name|cpu_utilization|session_count|na_col|\n",
            "+-----------+---------------+-------------+------+\n",
            "| Server 101|             85|           80|     A|\n",
            "| Server 101|             80|           90|     A|\n",
            "| Server 102|             85|           80|     A|\n",
            "| Server 102|             85|           80|     A|\n",
            "+-----------+---------------+-------------+------+\n",
            "\n"
          ],
          "name": "stdout"
        }
      ]
    },
    {
      "cell_type": "code",
      "metadata": {
        "colab": {
          "base_uri": "https://localhost:8080/"
        },
        "id": "J3X0ge2xq6Kl",
        "outputId": "16369491-72e6-4b16-ed6d-b7e526a99a09"
      },
      "source": [
        "spark.sql(\"SELECT * FROM na_table WHERE na_col IS NULL\").show()"
      ],
      "execution_count": null,
      "outputs": [
        {
          "output_type": "stream",
          "text": [
            "+-----------+---------------+-------------+------+\n",
            "|server_name|cpu_utilization|session_count|na_col|\n",
            "+-----------+---------------+-------------+------+\n",
            "| Server 101|             85|           80|  null|\n",
            "| Server 101|             80|           90|  null|\n",
            "| Server 102|             85|           80|  null|\n",
            "| Server 102|             85|           80|  null|\n",
            "+-----------+---------------+-------------+------+\n",
            "\n"
          ],
          "name": "stdout"
        }
      ]
    },
    {
      "cell_type": "markdown",
      "metadata": {
        "id": "oZ9m0a8TwZIF"
      },
      "source": [
        "## Exploratory Data Analysis with DataFrame API"
      ]
    },
    {
      "cell_type": "markdown",
      "metadata": {
        "id": "SxsVKUVgwZIG"
      },
      "source": [
        "DataFrame API provides some tools for some higher level tasks like exploratory data analysis. In this section, we are going to learn how to use DataFrame API for doing some basic EDA with the utilization DataFrame. First, let's take a look at this DataFrame."
      ]
    },
    {
      "cell_type": "code",
      "metadata": {
        "id": "Py_YBUW3wZIG",
        "colab": {
          "base_uri": "https://localhost:8080/"
        },
        "outputId": "a621cca3-1f00-44d5-d725-b7bc95faa7ec"
      },
      "source": [
        "df_util.show()"
      ],
      "execution_count": null,
      "outputs": [
        {
          "output_type": "stream",
          "text": [
            "+---------------+-------------------+-----------+---------+-------------+\n",
            "|cpu_utilization|     event_datetime|free_memory|server_id|session_count|\n",
            "+---------------+-------------------+-----------+---------+-------------+\n",
            "|           0.57|03/05/2019 08:06:14|       0.51|      100|           47|\n",
            "|           0.47|03/05/2019 08:11:14|       0.62|      100|           43|\n",
            "|           0.56|03/05/2019 08:16:14|       0.57|      100|           62|\n",
            "|           0.57|03/05/2019 08:21:14|       0.56|      100|           50|\n",
            "|           0.35|03/05/2019 08:26:14|       0.46|      100|           43|\n",
            "|           0.41|03/05/2019 08:31:14|       0.58|      100|           48|\n",
            "|           0.57|03/05/2019 08:36:14|       0.35|      100|           58|\n",
            "|           0.41|03/05/2019 08:41:14|        0.4|      100|           58|\n",
            "|           0.53|03/05/2019 08:46:14|       0.35|      100|           62|\n",
            "|           0.51|03/05/2019 08:51:14|        0.6|      100|           45|\n",
            "|           0.32|03/05/2019 08:56:14|       0.37|      100|           47|\n",
            "|           0.62|03/05/2019 09:01:14|       0.59|      100|           60|\n",
            "|           0.66|03/05/2019 09:06:14|       0.72|      100|           57|\n",
            "|           0.54|03/05/2019 09:11:14|       0.54|      100|           44|\n",
            "|           0.29|03/05/2019 09:16:14|        0.4|      100|           47|\n",
            "|           0.43|03/05/2019 09:21:14|       0.68|      100|           66|\n",
            "|           0.49|03/05/2019 09:26:14|       0.66|      100|           65|\n",
            "|           0.64|03/05/2019 09:31:14|       0.55|      100|           66|\n",
            "|           0.42|03/05/2019 09:36:14|        0.6|      100|           42|\n",
            "|           0.55|03/05/2019 09:41:14|       0.59|      100|           63|\n",
            "+---------------+-------------------+-----------+---------+-------------+\n",
            "only showing top 20 rows\n",
            "\n"
          ],
          "name": "stdout"
        }
      ]
    },
    {
      "cell_type": "code",
      "metadata": {
        "id": "wTbetddWwZIG",
        "colab": {
          "base_uri": "https://localhost:8080/"
        },
        "outputId": "c95cb1e2-6b61-431f-9400-c247998f70df"
      },
      "source": [
        "df_util.count()"
      ],
      "execution_count": null,
      "outputs": [
        {
          "output_type": "execute_result",
          "data": {
            "text/plain": [
              "500000"
            ]
          },
          "metadata": {
            "tags": []
          },
          "execution_count": 112
        }
      ]
    },
    {
      "cell_type": "markdown",
      "metadata": {
        "id": "-ca89q1BwZIG"
      },
      "source": [
        "One of the useful methods for doing exploratory data analysis is `.describe()`. Let's see how it works."
      ]
    },
    {
      "cell_type": "code",
      "metadata": {
        "id": "fSQuDj4dwZIH",
        "colab": {
          "base_uri": "https://localhost:8080/"
        },
        "outputId": "46575c23-cdcd-4b9a-ec2c-50cdfff6d41c"
      },
      "source": [
        "df_util.describe().show()"
      ],
      "execution_count": null,
      "outputs": [
        {
          "output_type": "stream",
          "text": [
            "+-------+------------------+-------------------+-------------------+------------------+-----------------+\n",
            "|summary|   cpu_utilization|     event_datetime|        free_memory|         server_id|    session_count|\n",
            "+-------+------------------+-------------------+-------------------+------------------+-----------------+\n",
            "|  count|            500000|             500000|             500000|            500000|           500000|\n",
            "|   mean|0.6205177399999616|               null|0.37912809999999375|             124.5|         69.59616|\n",
            "| stddev|0.1587517387291305|               null|0.15830931278376148|14.430884120552617|14.85067669635284|\n",
            "|    min|              0.22|03/05/2019 08:06:14|                0.0|               100|               32|\n",
            "|    max|               1.0|04/09/2019 01:22:46|               0.78|               149|              105|\n",
            "+-------+------------------+-------------------+-------------------+------------------+-----------------+\n",
            "\n"
          ],
          "name": "stdout"
        }
      ]
    },
    {
      "cell_type": "markdown",
      "metadata": {
        "id": "H0HTmIsuwZIH"
      },
      "source": [
        "`.describe()` actually produces another DataFrame with summary statistics about the DataFrame. For example, in this case, we see that there are several columns; there is a summary column, followed by the name of a column in the original DataFrame. For each of those columns in the original DataFrame, we have the same statistics that are calculated.\n",
        "Using `.describe()`  is an excellent way to get a high-level view of what a data set might be like.\n",
        "\n",
        "Another statistics we often want to know, is there a correlation between two of the variables?"
      ]
    },
    {
      "cell_type": "code",
      "metadata": {
        "id": "lMrowkUtwZII",
        "colab": {
          "base_uri": "https://localhost:8080/"
        },
        "outputId": "bec2b104-3a06-4f2c-b358-987742122b38"
      },
      "source": [
        "df_util.stat.corr('cpu_utilization','free_memory')"
      ],
      "execution_count": null,
      "outputs": [
        {
          "output_type": "execute_result",
          "data": {
            "text/plain": [
              "-0.47047715730807493"
            ]
          },
          "metadata": {
            "tags": []
          },
          "execution_count": 114
        }
      ]
    },
    {
      "cell_type": "code",
      "metadata": {
        "id": "sAe5yur-wZII",
        "colab": {
          "base_uri": "https://localhost:8080/"
        },
        "outputId": "8b0ffa45-2584-4147-e89b-b1af8f911bbb"
      },
      "source": [
        "df_util.stat.corr('session_count','free_memory')"
      ],
      "execution_count": null,
      "outputs": [
        {
          "output_type": "execute_result",
          "data": {
            "text/plain": [
              "-0.5008320848876711"
            ]
          },
          "metadata": {
            "tags": []
          },
          "execution_count": 115
        }
      ]
    },
    {
      "cell_type": "markdown",
      "metadata": {
        "id": "tHxv3iD_wZII"
      },
      "source": [
        "Sometimes we want to know how frequent are some items, what are the most frequently occurring items?\n",
        "\n",
        "There is a method called `.freqItems()` items for frequent items, which we can use with the DataFrame."
      ]
    },
    {
      "cell_type": "code",
      "metadata": {
        "id": "jqjEBqjDwZII",
        "colab": {
          "base_uri": "https://localhost:8080/"
        },
        "outputId": "8ef6214d-ef3b-48ef-9322-cef33ac328f5"
      },
      "source": [
        "df_util.stat.freqItems(['server_id']).show(truncate=False)"
      ],
      "execution_count": null,
      "outputs": [
        {
          "output_type": "stream",
          "text": [
            "+----------------------------------------------------------------------------------------------------------------------------------------------------------------------------------------------------------------------------------------------------------+\n",
            "|server_id_freqItems                                                                                                                                                                                                                                       |\n",
            "+----------------------------------------------------------------------------------------------------------------------------------------------------------------------------------------------------------------------------------------------------------+\n",
            "|[137, 146, 101, 110, 128, 119, 104, 131, 122, 140, 113, 149, 134, 125, 116, 107, 142, 124, 133, 106, 115, 127, 118, 136, 100, 109, 145, 139, 130, 148, 121, 103, 112, 147, 129, 138, 120, 132, 141, 105, 123, 114, 126, 144, 135, 108, 117, 102, 111, 143]|\n",
            "+----------------------------------------------------------------------------------------------------------------------------------------------------------------------------------------------------------------------------------------------------------+\n",
            "\n"
          ],
          "name": "stdout"
        }
      ]
    },
    {
      "cell_type": "markdown",
      "metadata": {
        "id": "k3Gi8x4iwZII"
      },
      "source": [
        "We can create a result-set that shows some basic statistics for one of the columns by using Spark SQL. Let's do it."
      ]
    },
    {
      "cell_type": "code",
      "metadata": {
        "id": "FAW0XmrdwZIJ",
        "colab": {
          "base_uri": "https://localhost:8080/"
        },
        "outputId": "377e7b70-1ffd-4622-a690-93ba646cc227"
      },
      "source": [
        "spark.sql(\"SELECT min(cpu_utilization), max(cpu_utilization), stddev(cpu_utilization), avg(cpu_utilization) FROM utilization\").show()"
      ],
      "execution_count": null,
      "outputs": [
        {
          "output_type": "stream",
          "text": [
            "+--------------------+--------------------+-----------------------+--------------------+\n",
            "|min(cpu_utilization)|max(cpu_utilization)|stddev(cpu_utilization)|avg(cpu_utilization)|\n",
            "+--------------------+--------------------+-----------------------+--------------------+\n",
            "|                0.22|                 1.0|     0.1587517387291305|  0.6205177399999616|\n",
            "+--------------------+--------------------+-----------------------+--------------------+\n",
            "\n"
          ],
          "name": "stdout"
        }
      ]
    },
    {
      "cell_type": "markdown",
      "metadata": {
        "id": "NYv1sVfzwZIJ"
      },
      "source": [
        "And if we want to group the result-set by `server_id`, we can write the following query."
      ]
    },
    {
      "cell_type": "code",
      "metadata": {
        "id": "6VYwLWmuwZIJ",
        "colab": {
          "base_uri": "https://localhost:8080/"
        },
        "outputId": "1c297a7a-f5bc-4894-8b7a-576ebab5f76a"
      },
      "source": [
        "spark.sql(\"SELECT server_id, min(cpu_utilization), max(cpu_utilization),\\\n",
        "         stddev(cpu_utilization), avg(cpu_utilization) \\\n",
        "         FROM utilization \\\n",
        "         GROUP BY server_id\").show()"
      ],
      "execution_count": null,
      "outputs": [
        {
          "output_type": "stream",
          "text": [
            "+---------+--------------------+--------------------+-----------------------+--------------------+\n",
            "|server_id|min(cpu_utilization)|max(cpu_utilization)|stddev(cpu_utilization)|avg(cpu_utilization)|\n",
            "+---------+--------------------+--------------------+-----------------------+--------------------+\n",
            "|      112|                0.52|                0.92|    0.11528867845082576|  0.7153870000000067|\n",
            "|      113|                0.58|                0.98|    0.11544345150353694|  0.7833319999999914|\n",
            "|      130|                0.35|                0.75|    0.11568834774245991|  0.5519759999999908|\n",
            "|      126|                0.48|                0.88|    0.11542612970702058|  0.6784700000000012|\n",
            "|      149|                0.54|                0.94|    0.11543517500295467|  0.7447700000000035|\n",
            "|      110|                0.35|                0.75|    0.11533251724450215|  0.5537749999999892|\n",
            "|      136|                0.41|                 0.8|    0.11597405743182258|  0.6052509999999953|\n",
            "|      144|                0.47|                0.87|    0.11478654960489501|  0.6738750000000022|\n",
            "|      119|                0.22|                0.62|    0.11516031929842008|  0.4194930000000031|\n",
            "|      116|                 0.3|                 0.7|    0.11506079722349302|  0.4970290000000043|\n",
            "|      145|                0.58|                0.98|    0.11476448868786197|  0.7823149999999952|\n",
            "|      124|                0.24|                0.64|    0.11579377614906383|  0.4403350000000042|\n",
            "|      143|                0.26|                0.66|    0.11616596078044727|  0.4565030000000069|\n",
            "|      107|                0.45|                0.85|    0.11597417369783877|  0.6505060000000048|\n",
            "|      146|                 0.5|                 0.9|    0.11488129439634706|   0.699687000000013|\n",
            "|      103|                0.56|                0.96|    0.11617507884178278|  0.7614389999999969|\n",
            "|      139|                0.51|                0.91|    0.11519660023052102|  0.7153610000000032|\n",
            "|      138|                0.24|                0.64|     0.1155955860444133| 0.43531100000000233|\n",
            "|      114|                0.33|                0.73|    0.11510268816097273|  0.5294289999999972|\n",
            "|      115|                0.44|                0.84|    0.11569664615014985|  0.6398790000000023|\n",
            "+---------+--------------------+--------------------+-----------------------+--------------------+\n",
            "only showing top 20 rows\n",
            "\n"
          ],
          "name": "stdout"
        }
      ]
    },
    {
      "cell_type": "markdown",
      "metadata": {
        "id": "Df3e2JHZwZIJ"
      },
      "source": [
        "Now, we are going to calculate statistics on buckets or histograms of data. The idea is, rather than look at each server individually, Spark buckets values according to how frequently they occur in certain ranges. So if we want to know how often does a CPU utilization fall in the range of 1-10 or 11-20 or 21-30, all the way up to 90-91, we could put each of those CPU utilization measures into its bucket and count how many times a CPU utilization goes into that bucket. Let's do it."
      ]
    },
    {
      "cell_type": "code",
      "metadata": {
        "id": "Q-sfrhBJwZIJ",
        "colab": {
          "base_uri": "https://localhost:8080/"
        },
        "outputId": "216ecca2-0381-48a4-f8f3-ba9e2bd8f147"
      },
      "source": [
        "spark.sql(\"SELECT count(*), FLOOR(cpu_utilization * 100 /10) as Bucket \\\n",
        "          FROM utilization \\\n",
        "          GROUP BY Bucket \\\n",
        "          ORDER BY Bucket\").show()"
      ],
      "execution_count": null,
      "outputs": [
        {
          "output_type": "stream",
          "text": [
            "+--------+------+\n",
            "|count(1)|Bucket|\n",
            "+--------+------+\n",
            "|    8186|     2|\n",
            "|   37029|     3|\n",
            "|   68046|     4|\n",
            "|  104910|     5|\n",
            "|  116725|     6|\n",
            "|   88242|     7|\n",
            "|   56598|     8|\n",
            "|   20207|     9|\n",
            "|      57|    10|\n",
            "+--------+------+\n",
            "\n"
          ],
          "name": "stdout"
        }
      ]
    },
    {
      "cell_type": "markdown",
      "metadata": {
        "id": "Feyb5Nj6wZIJ"
      },
      "source": [
        "So far, what we have done is we have listed for each server in what  CPU utilization bucket falls at a particular time. Now we want to see how often does a CPU utilization falls into one of those ten buckets."
      ]
    },
    {
      "cell_type": "code",
      "metadata": {
        "id": "Wk968_cywZIK"
      },
      "source": [],
      "execution_count": null,
      "outputs": []
    },
    {
      "cell_type": "markdown",
      "metadata": {
        "id": "JY9E5Ml0wZIK"
      },
      "source": [
        "## Timeseries Analysis"
      ]
    },
    {
      "cell_type": "markdown",
      "metadata": {
        "id": "2y_GTYHZwZIK"
      },
      "source": [
        "In this section, we are going to work with timeseries data, and timeseries data has a set of measures and a timestamp associated with them. First, let's take a look at utilization table again."
      ]
    },
    {
      "cell_type": "code",
      "metadata": {
        "id": "BOTAkcr9wZIK",
        "colab": {
          "base_uri": "https://localhost:8080/"
        },
        "outputId": "702e493f-49db-40e5-da41-593e6a813df8"
      },
      "source": [
        "spark.sql(\"SELECT server_id, min(cpu_utilization), max(cpu_utilization), avg(cpu_utilization),stddev(cpu_utilization) \\\n",
        "          FROM utilization \\\n",
        "          GROUP BY server_id\").show()"
      ],
      "execution_count": null,
      "outputs": [
        {
          "output_type": "stream",
          "text": [
            "+---------+--------------------+--------------------+--------------------+-----------------------+\n",
            "|server_id|min(cpu_utilization)|max(cpu_utilization)|avg(cpu_utilization)|stddev(cpu_utilization)|\n",
            "+---------+--------------------+--------------------+--------------------+-----------------------+\n",
            "|      112|                0.52|                0.92|  0.7153870000000067|    0.11528867845082576|\n",
            "|      113|                0.58|                0.98|  0.7833319999999914|    0.11544345150353694|\n",
            "|      130|                0.35|                0.75|  0.5519759999999908|    0.11568834774245991|\n",
            "|      126|                0.48|                0.88|  0.6784700000000012|    0.11542612970702058|\n",
            "|      149|                0.54|                0.94|  0.7447700000000035|    0.11543517500295467|\n",
            "|      110|                0.35|                0.75|  0.5537749999999892|    0.11533251724450215|\n",
            "|      136|                0.41|                 0.8|  0.6052509999999953|    0.11597405743182258|\n",
            "|      144|                0.47|                0.87|  0.6738750000000022|    0.11478654960489501|\n",
            "|      119|                0.22|                0.62|  0.4194930000000031|    0.11516031929842008|\n",
            "|      116|                 0.3|                 0.7|  0.4970290000000043|    0.11506079722349302|\n",
            "|      145|                0.58|                0.98|  0.7823149999999952|    0.11476448868786197|\n",
            "|      124|                0.24|                0.64|  0.4403350000000042|    0.11579377614906383|\n",
            "|      143|                0.26|                0.66|  0.4565030000000069|    0.11616596078044727|\n",
            "|      107|                0.45|                0.85|  0.6505060000000048|    0.11597417369783877|\n",
            "|      146|                 0.5|                 0.9|   0.699687000000013|    0.11488129439634706|\n",
            "|      103|                0.56|                0.96|  0.7614389999999969|    0.11617507884178278|\n",
            "|      139|                0.51|                0.91|  0.7153610000000032|    0.11519660023052102|\n",
            "|      138|                0.24|                0.64| 0.43531100000000233|     0.1155955860444133|\n",
            "|      114|                0.33|                0.73|  0.5294289999999972|    0.11510268816097273|\n",
            "|      115|                0.44|                0.84|  0.6398790000000023|    0.11569664615014985|\n",
            "+---------+--------------------+--------------------+--------------------+-----------------------+\n",
            "only showing top 20 rows\n",
            "\n"
          ],
          "name": "stdout"
        }
      ]
    },
    {
      "cell_type": "markdown",
      "metadata": {
        "id": "8GHmkiwdwZIK"
      },
      "source": [
        "Sometimes we might want to compare a value within a group. For example, we would like to compare the current CPU utilization for a server to the average CPU utilization of just that server, not the entire population.\n",
        "\n",
        "We can do that using a windowing function, and in SQL, the windowing functions are specified using an `OVER...PARTITION BY` statement. So let's take a look at how to use that."
      ]
    },
    {
      "cell_type": "code",
      "metadata": {
        "id": "fmMd_B1HwZIL",
        "colab": {
          "base_uri": "https://localhost:8080/"
        },
        "outputId": "9951b1e9-b7c5-4f9d-abb5-6840407f4ba3"
      },
      "source": [
        "spark.sql(\"SELECT event_datetime, server_id, cpu_utilization, \\\n",
        "          avg(cpu_utilization) OVER (PARTITION BY server_id) as avg_server_util \\\n",
        "          FROM utilization\").show()"
      ],
      "execution_count": null,
      "outputs": [
        {
          "output_type": "stream",
          "text": [
            "+-------------------+---------+---------------+------------------+\n",
            "|     event_datetime|server_id|cpu_utilization|   avg_server_util|\n",
            "+-------------------+---------+---------------+------------------+\n",
            "|03/05/2019 08:06:34|      112|           0.71|0.7153870000000067|\n",
            "|03/05/2019 08:11:34|      112|           0.78|0.7153870000000067|\n",
            "|03/05/2019 08:16:34|      112|           0.87|0.7153870000000067|\n",
            "|03/05/2019 08:21:34|      112|           0.82|0.7153870000000067|\n",
            "|03/05/2019 08:26:34|      112|           0.62|0.7153870000000067|\n",
            "|03/05/2019 08:31:34|      112|            0.9|0.7153870000000067|\n",
            "|03/05/2019 08:36:34|      112|           0.89|0.7153870000000067|\n",
            "|03/05/2019 08:41:34|      112|           0.81|0.7153870000000067|\n",
            "|03/05/2019 08:46:34|      112|           0.88|0.7153870000000067|\n",
            "|03/05/2019 08:51:34|      112|           0.89|0.7153870000000067|\n",
            "|03/05/2019 08:56:34|      112|           0.84|0.7153870000000067|\n",
            "|03/05/2019 09:01:34|      112|           0.71|0.7153870000000067|\n",
            "|03/05/2019 09:06:34|      112|           0.85|0.7153870000000067|\n",
            "|03/05/2019 09:11:34|      112|           0.72|0.7153870000000067|\n",
            "|03/05/2019 09:16:34|      112|           0.54|0.7153870000000067|\n",
            "|03/05/2019 09:21:34|      112|           0.58|0.7153870000000067|\n",
            "|03/05/2019 09:26:34|      112|           0.73|0.7153870000000067|\n",
            "|03/05/2019 09:31:34|      112|           0.86|0.7153870000000067|\n",
            "|03/05/2019 09:36:34|      112|           0.63|0.7153870000000067|\n",
            "|03/05/2019 09:41:34|      112|           0.75|0.7153870000000067|\n",
            "+-------------------+---------+---------------+------------------+\n",
            "only showing top 20 rows\n",
            "\n"
          ],
          "name": "stdout"
        }
      ]
    },
    {
      "cell_type": "markdown",
      "metadata": {
        "id": "5gjekKVtwZIL"
      },
      "source": [
        "Now, we have different timestamps for each server ID, different CPU utilization at those particular times, but in this piece of result-set, the average server utilization is always 0.7153 for server ID 112.\n",
        "\n",
        "Now, we want to calculate the difference any one of these measurements of CPU utilization from the average of that server is?"
      ]
    },
    {
      "cell_type": "code",
      "metadata": {
        "id": "loJHBz5NwZIL",
        "colab": {
          "base_uri": "https://localhost:8080/"
        },
        "outputId": "6a8c9d36-c31f-4f7d-a1d7-01c80f6768a6"
      },
      "source": [
        "spark.sql(\"SELECT event_datetime, server_id, cpu_utilization, \\\n",
        "          avg(cpu_utilization) OVER (PARTITION BY server_id) as avg_server_util,\\\n",
        "          cpu_utilization - avg(cpu_utilization) OVER (PARTITION BY server_id) as delta\\\n",
        "          FROM utilization\").show()"
      ],
      "execution_count": null,
      "outputs": [
        {
          "output_type": "stream",
          "text": [
            "+-------------------+---------+---------------+------------------+--------------------+\n",
            "|     event_datetime|server_id|cpu_utilization|   avg_server_util|               delta|\n",
            "+-------------------+---------+---------------+------------------+--------------------+\n",
            "|03/05/2019 08:06:34|      112|           0.71|0.7153870000000067|-0.00538700000000...|\n",
            "|03/05/2019 08:11:34|      112|           0.78|0.7153870000000067| 0.06461299999999337|\n",
            "|03/05/2019 08:16:34|      112|           0.87|0.7153870000000067| 0.15461299999999334|\n",
            "|03/05/2019 08:21:34|      112|           0.82|0.7153870000000067|  0.1046129999999933|\n",
            "|03/05/2019 08:26:34|      112|           0.62|0.7153870000000067|-0.09538700000000666|\n",
            "|03/05/2019 08:31:34|      112|            0.9|0.7153870000000067| 0.18461299999999337|\n",
            "|03/05/2019 08:36:34|      112|           0.89|0.7153870000000067| 0.17461299999999336|\n",
            "|03/05/2019 08:41:34|      112|           0.81|0.7153870000000067|  0.0946129999999934|\n",
            "|03/05/2019 08:46:34|      112|           0.88|0.7153870000000067| 0.16461299999999335|\n",
            "|03/05/2019 08:51:34|      112|           0.89|0.7153870000000067| 0.17461299999999336|\n",
            "|03/05/2019 08:56:34|      112|           0.84|0.7153870000000067| 0.12461299999999331|\n",
            "|03/05/2019 09:01:34|      112|           0.71|0.7153870000000067|-0.00538700000000...|\n",
            "|03/05/2019 09:06:34|      112|           0.85|0.7153870000000067| 0.13461299999999332|\n",
            "|03/05/2019 09:11:34|      112|           0.72|0.7153870000000067|0.004612999999993317|\n",
            "|03/05/2019 09:16:34|      112|           0.54|0.7153870000000067|-0.17538700000000662|\n",
            "|03/05/2019 09:21:34|      112|           0.58|0.7153870000000067| -0.1353870000000067|\n",
            "|03/05/2019 09:26:34|      112|           0.73|0.7153870000000067|0.014612999999993326|\n",
            "|03/05/2019 09:31:34|      112|           0.86|0.7153870000000067| 0.14461299999999333|\n",
            "|03/05/2019 09:36:34|      112|           0.63|0.7153870000000067|-0.08538700000000665|\n",
            "|03/05/2019 09:41:34|      112|           0.75|0.7153870000000067|0.034612999999993344|\n",
            "+-------------------+---------+---------------+------------------+--------------------+\n",
            "only showing top 20 rows\n",
            "\n"
          ],
          "name": "stdout"
        }
      ]
    },
    {
      "cell_type": "markdown",
      "metadata": {
        "id": "XBqfv-4swZIL"
      },
      "source": [
        "That is one of the operations that we can do with the windowing functions. We can compare a particular value in a row to a value of some aggregate function applied to a sub-set of rows."
      ]
    },
    {
      "cell_type": "markdown",
      "metadata": {
        "id": "wcH_eAvzwZIL"
      },
      "source": [
        "Another operation that we can do with windowing functions is looking around the neighborhood of a row. For example, we might want to calculate in a sliding window, look at the last three values and average them or look at the previous value, current value, next value, and average them. Let's do it."
      ]
    },
    {
      "cell_type": "code",
      "metadata": {
        "id": "y5NE7Lz_wZIL",
        "colab": {
          "base_uri": "https://localhost:8080/"
        },
        "outputId": "471904fd-4075-4b32-e020-71e9ccecb065"
      },
      "source": [
        "spark.sql(\"SELECT event_datetime, server_id, cpu_utilization, \\\n",
        "          avg(cpu_utilization) OVER (PARTITION BY server_id ORDER BY event_datetime \\\n",
        "          ROWS BETWEEN 1 PRECEDING AND 1 FOLLOWING) as avg_cpu_util \\\n",
        "          FROM utilization\").show()"
      ],
      "execution_count": null,
      "outputs": [
        {
          "output_type": "stream",
          "text": [
            "+-------------------+---------+---------------+------------------+\n",
            "|     event_datetime|server_id|cpu_utilization|      avg_cpu_util|\n",
            "+-------------------+---------+---------------+------------------+\n",
            "|03/05/2019 08:06:34|      112|           0.71|             0.745|\n",
            "|03/05/2019 08:11:34|      112|           0.78|0.7866666666666666|\n",
            "|03/05/2019 08:16:34|      112|           0.87|0.8233333333333333|\n",
            "|03/05/2019 08:21:34|      112|           0.82|              0.77|\n",
            "|03/05/2019 08:26:34|      112|           0.62|0.7799999999999999|\n",
            "|03/05/2019 08:31:34|      112|            0.9|0.8033333333333333|\n",
            "|03/05/2019 08:36:34|      112|           0.89|0.8666666666666667|\n",
            "|03/05/2019 08:41:34|      112|           0.81|              0.86|\n",
            "|03/05/2019 08:46:34|      112|           0.88|              0.86|\n",
            "|03/05/2019 08:51:34|      112|           0.89|              0.87|\n",
            "|03/05/2019 08:56:34|      112|           0.84|0.8133333333333334|\n",
            "|03/05/2019 09:01:34|      112|           0.71|0.7999999999999999|\n",
            "|03/05/2019 09:06:34|      112|           0.85|0.7600000000000001|\n",
            "|03/05/2019 09:11:34|      112|           0.72|0.7033333333333333|\n",
            "|03/05/2019 09:16:34|      112|           0.54|0.6133333333333333|\n",
            "|03/05/2019 09:21:34|      112|           0.58|0.6166666666666667|\n",
            "|03/05/2019 09:26:34|      112|           0.73|0.7233333333333333|\n",
            "|03/05/2019 09:31:34|      112|           0.86|0.7399999999999999|\n",
            "|03/05/2019 09:36:34|      112|           0.63|0.7466666666666667|\n",
            "|03/05/2019 09:41:34|      112|           0.75|0.6999999999999998|\n",
            "+-------------------+---------+---------------+------------------+\n",
            "only showing top 20 rows\n",
            "\n"
          ],
          "name": "stdout"
        }
      ]
    },
    {
      "cell_type": "markdown",
      "metadata": {
        "id": "O5YuXTOUwZIM"
      },
      "source": [
        "#### Great Job!"
      ]
    }
  ]
}