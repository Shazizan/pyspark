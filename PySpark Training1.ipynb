{
 "cells": [
  {
   "cell_type": "code",
   "execution_count": 0,
   "metadata": {
    "application/vnd.databricks.v1+cell": {
     "cellMetadata": {
      "byteLimit": 2048000,
      "rowLimit": 10000
     },
     "inputWidgets": {},
     "nuid": "9faa545d-b117-4bbc-8f98-ab293dfbe8a2",
     "showTitle": false,
     "title": ""
    }
   },
   "outputs": [],
   "source": [
    "from pyspark.sql import SparkSession"
   ]
  },
  {
   "cell_type": "code",
   "execution_count": 0,
   "metadata": {
    "application/vnd.databricks.v1+cell": {
     "cellMetadata": {
      "byteLimit": 2048000,
      "rowLimit": 10000
     },
     "inputWidgets": {},
     "nuid": "eb11ba55-029e-4e18-b733-48f79ec83879",
     "showTitle": false,
     "title": ""
    }
   },
   "outputs": [],
   "source": [
    "spark = SparkSession.builder.getOrCreate()"
   ]
  },
  {
   "cell_type": "code",
   "execution_count": 0,
   "metadata": {
    "application/vnd.databricks.v1+cell": {
     "cellMetadata": {
      "byteLimit": 2048000,
      "rowLimit": 10000
     },
     "inputWidgets": {},
     "nuid": "def034f0-6a60-469c-aae6-b830ebd0af13",
     "showTitle": false,
     "title": ""
    }
   },
   "outputs": [
    {
     "output_type": "display_data",
     "data": {
      "text/html": [
       "\n",
       "            <div>\n",
       "                <p><b>SparkSession - hive</b></p>\n",
       "                \n",
       "        <div>\n",
       "            <p><b>SparkContext</b></p>\n",
       "\n",
       "            <p><a href=\"/?o=6348706909310184#setting/sparkui/1009-020416-1zyjf7v0/driver-3398466383654288720\">Spark UI</a></p>\n",
       "\n",
       "            <dl>\n",
       "              <dt>Version</dt>\n",
       "                <dd><code>v3.3.2</code></dd>\n",
       "              <dt>Master</dt>\n",
       "                <dd><code>local[8]</code></dd>\n",
       "              <dt>AppName</dt>\n",
       "                <dd><code>Databricks Shell</code></dd>\n",
       "            </dl>\n",
       "        </div>\n",
       "        \n",
       "            </div>\n",
       "        "
      ]
     },
     "metadata": {
      "application/vnd.databricks.v1+output": {
       "addedWidgets": {},
       "arguments": {},
       "data": "\n            <div>\n                <p><b>SparkSession - hive</b></p>\n                \n        <div>\n            <p><b>SparkContext</b></p>\n\n            <p><a href=\"/?o=6348706909310184#setting/sparkui/1009-020416-1zyjf7v0/driver-3398466383654288720\">Spark UI</a></p>\n\n            <dl>\n              <dt>Version</dt>\n                <dd><code>v3.3.2</code></dd>\n              <dt>Master</dt>\n                <dd><code>local[8]</code></dd>\n              <dt>AppName</dt>\n                <dd><code>Databricks Shell</code></dd>\n            </dl>\n        </div>\n        \n            </div>\n        ",
       "datasetInfos": [],
       "metadata": {},
       "removedWidgets": [],
       "textData": null,
       "type": "htmlSandbox"
      }
     },
     "output_type": "display_data"
    }
   ],
   "source": [
    "spark"
   ]
  },
  {
   "cell_type": "code",
   "execution_count": 0,
   "metadata": {
    "application/vnd.databricks.v1+cell": {
     "cellMetadata": {
      "byteLimit": 2048000,
      "rowLimit": 10000
     },
     "inputWidgets": {},
     "nuid": "0da204ac-c286-4668-81fe-d680cdf63164",
     "showTitle": false,
     "title": ""
    }
   },
   "outputs": [],
   "source": [
    "import os\n",
    "MAIN_DIRECTORY = os.getcwd()"
   ]
  },
  {
   "cell_type": "code",
   "execution_count": 0,
   "metadata": {
    "application/vnd.databricks.v1+cell": {
     "cellMetadata": {
      "byteLimit": 2048000,
      "rowLimit": 10000
     },
     "inputWidgets": {},
     "nuid": "848f77ca-52ad-4b4b-93a0-f4928d4a5e02",
     "showTitle": false,
     "title": ""
    }
   },
   "outputs": [],
   "source": [
    "file_path = MAIN_DIRECTORY + r\"C:\\Users\\mdhel\\Documents\\3.DataStar\\13. BDA with Apache Spark\\data\"\n"
   ]
  },
  {
   "cell_type": "code",
   "execution_count": 0,
   "metadata": {
    "application/vnd.databricks.v1+cell": {
     "cellMetadata": {
      "byteLimit": 2048000,
      "rowLimit": 10000
     },
     "inputWidgets": {},
     "nuid": "6949dc91-c66b-44c2-93ed-74229b39872d",
     "showTitle": false,
     "title": ""
    }
   },
   "outputs": [
    {
     "output_type": "stream",
     "name": "stdout",
     "output_type": "stream",
     "text": [
      "Main Directory: /databricks/driver\n"
     ]
    }
   ],
   "source": [
    "print(f\"Main Directory: {MAIN_DIRECTORY}\")\n"
   ]
  },
  {
   "cell_type": "code",
   "execution_count": 0,
   "metadata": {
    "application/vnd.databricks.v1+cell": {
     "cellMetadata": {
      "byteLimit": 2048000,
      "rowLimit": 10000
     },
     "inputWidgets": {},
     "nuid": "8018885d-0cd2-42ed-abe3-d96cca5726fb",
     "showTitle": false,
     "title": ""
    }
   },
   "outputs": [],
   "source": [
    "file_path = \"/FileStore/tables/location_temp.csv\"\n"
   ]
  },
  {
   "cell_type": "code",
   "execution_count": 0,
   "metadata": {
    "application/vnd.databricks.v1+cell": {
     "cellMetadata": {
      "byteLimit": 2048000,
      "rowLimit": 10000
     },
     "inputWidgets": {},
     "nuid": "1a8d6750-436d-45c2-a813-bc9c24daa890",
     "showTitle": false,
     "title": ""
    }
   },
   "outputs": [
    {
     "output_type": "stream",
     "name": "stdout",
     "output_type": "stream",
     "text": [
      "File Path: /FileStore/tables/location_temp.csv\n"
     ]
    }
   ],
   "source": [
    "print(f\"File Path: {file_path}\")\n"
   ]
  },
  {
   "cell_type": "code",
   "execution_count": 0,
   "metadata": {
    "application/vnd.databricks.v1+cell": {
     "cellMetadata": {
      "byteLimit": 2048000,
      "rowLimit": 10000
     },
     "inputWidgets": {},
     "nuid": "476f47eb-6573-49b6-8fd3-9c28cf0b647e",
     "showTitle": false,
     "title": ""
    }
   },
   "outputs": [],
   "source": [
    "df1 = spark.read.format(\"csv\").option(\"header\",\"true\").load(file_path)\n"
   ]
  },
  {
   "cell_type": "code",
   "execution_count": 0,
   "metadata": {
    "application/vnd.databricks.v1+cell": {
     "cellMetadata": {
      "byteLimit": 2048000,
      "rowLimit": 10000
     },
     "inputWidgets": {},
     "nuid": "05ca9623-5499-4c01-b834-018f28901647",
     "showTitle": false,
     "title": ""
    }
   },
   "outputs": [
    {
     "output_type": "stream",
     "name": "stdout",
     "output_type": "stream",
     "text": [
      "Out[26]: [Row(event_date='03/04/2019 19:48:06', location_id='loc0', temp_celcius='29'),\n Row(event_date='03/04/2019 19:53:06', location_id='loc0', temp_celcius='27'),\n Row(event_date='03/04/2019 19:58:06', location_id='loc0', temp_celcius='28'),\n Row(event_date='03/04/2019 20:03:06', location_id='loc0', temp_celcius='30'),\n Row(event_date='03/04/2019 20:08:06', location_id='loc0', temp_celcius='27')]"
     ]
    }
   ],
   "source": [
    "df1.head(5)"
   ]
  },
  {
   "cell_type": "code",
   "execution_count": 0,
   "metadata": {
    "application/vnd.databricks.v1+cell": {
     "cellMetadata": {
      "byteLimit": 2048000,
      "rowLimit": 10000
     },
     "inputWidgets": {},
     "nuid": "d9d1fa58-0b9e-42ed-9242-df61d8a3c390",
     "showTitle": false,
     "title": ""
    }
   },
   "outputs": [
    {
     "output_type": "stream",
     "name": "stdout",
     "output_type": "stream",
     "text": [
      "+-------------------+-----------+------------+\n|         event_date|location_id|temp_celcius|\n+-------------------+-----------+------------+\n|03/04/2019 19:48:06|       loc0|          29|\n|03/04/2019 19:53:06|       loc0|          27|\n|03/04/2019 19:58:06|       loc0|          28|\n|03/04/2019 20:03:06|       loc0|          30|\n|03/04/2019 20:08:06|       loc0|          27|\n|03/04/2019 20:13:06|       loc0|          27|\n|03/04/2019 20:18:06|       loc0|          27|\n|03/04/2019 20:23:06|       loc0|          29|\n|03/04/2019 20:28:06|       loc0|          32|\n|03/04/2019 20:33:06|       loc0|          35|\n|03/04/2019 20:38:06|       loc0|          32|\n|03/04/2019 20:43:06|       loc0|          28|\n|03/04/2019 20:48:06|       loc0|          28|\n|03/04/2019 20:53:06|       loc0|          32|\n|03/04/2019 20:58:06|       loc0|          34|\n|03/04/2019 21:03:06|       loc0|          33|\n|03/04/2019 21:08:06|       loc0|          27|\n|03/04/2019 21:13:06|       loc0|          28|\n|03/04/2019 21:18:06|       loc0|          33|\n|03/04/2019 21:23:06|       loc0|          28|\n+-------------------+-----------+------------+\nonly showing top 20 rows\n\n"
     ]
    }
   ],
   "source": [
    "df1.show()"
   ]
  },
  {
   "cell_type": "code",
   "execution_count": 0,
   "metadata": {
    "application/vnd.databricks.v1+cell": {
     "cellMetadata": {
      "byteLimit": 2048000,
      "rowLimit": 10000
     },
     "inputWidgets": {},
     "nuid": "8c118b83-482b-47b6-aa4a-43ac09483262",
     "showTitle": false,
     "title": ""
    }
   },
   "outputs": [],
   "source": [
    "df2 = spark.read.format(\"csv\").option(\"header\",\"false\").option(\"inferSchema\",\"true\").load(file_path)"
   ]
  },
  {
   "cell_type": "code",
   "execution_count": 0,
   "metadata": {
    "application/vnd.databricks.v1+cell": {
     "cellMetadata": {
      "byteLimit": 2048000,
      "rowLimit": 10000
     },
     "inputWidgets": {},
     "nuid": "b83c0ac6-6abd-4ae3-88dc-80d14df2b29b",
     "showTitle": false,
     "title": ""
    }
   },
   "outputs": [],
   "source": [
    "#Rename Column\n",
    "df2 = df2.withColumnRenamed('_c0', 'event_datetime')\\\n",
    "         .withColumnRenamed('_c1','server_id')\\\n",
    "         .withColumnRenamed('_c2','cpu_utilization')\\\n",
    "         .withColumnRenamed('_c3','free_memory')\\\n",
    "         .withColumnRenamed('_c4','session_count')"
   ]
  },
  {
   "cell_type": "code",
   "execution_count": 0,
   "metadata": {
    "application/vnd.databricks.v1+cell": {
     "cellMetadata": {
      "byteLimit": 2048000,
      "rowLimit": 10000
     },
     "inputWidgets": {},
     "nuid": "73a260da-03ce-4542-9d7b-5ee2ca292a4d",
     "showTitle": false,
     "title": ""
    }
   },
   "outputs": [
    {
     "output_type": "stream",
     "name": "stdout",
     "output_type": "stream",
     "text": [
      "+-------------------+-----------+---------------+\n|     event_datetime|  server_id|cpu_utilization|\n+-------------------+-----------+---------------+\n|         event_date|location_id|   temp_celcius|\n|03/04/2019 19:48:06|       loc0|             29|\n|03/04/2019 19:53:06|       loc0|             27|\n|03/04/2019 19:58:06|       loc0|             28|\n|03/04/2019 20:03:06|       loc0|             30|\n|03/04/2019 20:08:06|       loc0|             27|\n|03/04/2019 20:13:06|       loc0|             27|\n|03/04/2019 20:18:06|       loc0|             27|\n|03/04/2019 20:23:06|       loc0|             29|\n|03/04/2019 20:28:06|       loc0|             32|\n|03/04/2019 20:33:06|       loc0|             35|\n|03/04/2019 20:38:06|       loc0|             32|\n|03/04/2019 20:43:06|       loc0|             28|\n|03/04/2019 20:48:06|       loc0|             28|\n|03/04/2019 20:53:06|       loc0|             32|\n|03/04/2019 20:58:06|       loc0|             34|\n|03/04/2019 21:03:06|       loc0|             33|\n|03/04/2019 21:08:06|       loc0|             27|\n|03/04/2019 21:13:06|       loc0|             28|\n|03/04/2019 21:18:06|       loc0|             33|\n+-------------------+-----------+---------------+\nonly showing top 20 rows\n\n"
     ]
    }
   ],
   "source": [
    "df2.show()"
   ]
  },
  {
   "cell_type": "code",
   "execution_count": 0,
   "metadata": {
    "application/vnd.databricks.v1+cell": {
     "cellMetadata": {
      "byteLimit": 2048000,
      "rowLimit": 10000
     },
     "inputWidgets": {},
     "nuid": "5e122755-cf73-4521-ad0a-e716bba71149",
     "showTitle": false,
     "title": ""
    }
   },
   "outputs": [
    {
     "output_type": "stream",
     "name": "stdout",
     "output_type": "stream",
     "text": [
      "+-------------------+-----------+------------+\n|         event_date|location_id|temp_celcius|\n+-------------------+-----------+------------+\n|03/04/2019 19:48:06|       loc0|          29|\n|03/04/2019 19:53:06|       loc0|          27|\n|03/04/2019 19:58:06|       loc0|          28|\n|03/04/2019 20:03:06|       loc0|          30|\n|03/04/2019 20:08:06|       loc0|          27|\n+-------------------+-----------+------------+\nonly showing top 5 rows\n\n"
     ]
    }
   ],
   "source": [
    "df1.show(5)"
   ]
  },
  {
   "cell_type": "code",
   "execution_count": 0,
   "metadata": {
    "application/vnd.databricks.v1+cell": {
     "cellMetadata": {
      "byteLimit": 2048000,
      "rowLimit": 10000
     },
     "inputWidgets": {},
     "nuid": "3f461405-6291-405e-82d2-f6b0e543c221",
     "showTitle": false,
     "title": ""
    }
   },
   "outputs": [
    {
     "output_type": "stream",
     "name": "stdout",
     "output_type": "stream",
     "text": [
      "+-------------------+-----------+------------+\n|         event_date|location_id|temp_celcius|\n+-------------------+-----------+------------+\n|03/04/2019 19:48:06|       loc0|          29|\n|03/04/2019 19:53:06|       loc0|          27|\n|03/04/2019 19:58:06|       loc0|          28|\n|03/04/2019 20:03:06|       loc0|          30|\n|03/04/2019 20:08:06|       loc0|          27|\n|03/04/2019 20:13:06|       loc0|          27|\n|03/04/2019 20:18:06|       loc0|          27|\n|03/04/2019 20:23:06|       loc0|          29|\n|03/04/2019 20:28:06|       loc0|          32|\n|03/04/2019 20:33:06|       loc0|          35|\n|03/04/2019 20:38:06|       loc0|          32|\n|03/04/2019 20:43:06|       loc0|          28|\n|03/04/2019 20:48:06|       loc0|          28|\n|03/04/2019 20:53:06|       loc0|          32|\n|03/04/2019 20:58:06|       loc0|          34|\n|03/04/2019 21:03:06|       loc0|          33|\n|03/04/2019 21:08:06|       loc0|          27|\n|03/04/2019 21:13:06|       loc0|          28|\n|03/04/2019 21:18:06|       loc0|          33|\n|03/04/2019 21:23:06|       loc0|          28|\n+-------------------+-----------+------------+\nonly showing top 20 rows\n\n"
     ]
    }
   ],
   "source": [
    "#Filtering using DataFrame API\n",
    "\n",
    "df1.filter(df1['location_id']=='loc0').show()"
   ]
  },
  {
   "cell_type": "code",
   "execution_count": 0,
   "metadata": {
    "application/vnd.databricks.v1+cell": {
     "cellMetadata": {
      "byteLimit": 2048000,
      "rowLimit": 10000
     },
     "inputWidgets": {},
     "nuid": "636fafcb-737e-49d3-862e-7abace81e50e",
     "showTitle": false,
     "title": ""
    }
   },
   "outputs": [
    {
     "output_type": "stream",
     "name": "stdout",
     "output_type": "stream",
     "text": [
      "Out[37]: 1000"
     ]
    }
   ],
   "source": [
    "df1.filter(df1['location_id']=='loc0').count()"
   ]
  },
  {
   "cell_type": "code",
   "execution_count": 0,
   "metadata": {
    "application/vnd.databricks.v1+cell": {
     "cellMetadata": {
      "byteLimit": 2048000,
      "rowLimit": 10000
     },
     "inputWidgets": {},
     "nuid": "9c1a44ec-797a-488c-8459-95206ccc93b5",
     "showTitle": false,
     "title": ""
    }
   },
   "outputs": [
    {
     "output_type": "stream",
     "name": "stdout",
     "output_type": "stream",
     "text": [
      "+-----------+------------+\n|location_id|temp_celcius|\n+-----------+------------+\n|       loc0|          29|\n|       loc0|          27|\n|       loc0|          28|\n|       loc0|          30|\n|       loc0|          27|\n|       loc0|          27|\n|       loc0|          27|\n|       loc0|          29|\n|       loc0|          32|\n|       loc0|          35|\n|       loc0|          32|\n|       loc0|          28|\n|       loc0|          28|\n|       loc0|          32|\n|       loc0|          34|\n|       loc0|          33|\n|       loc0|          27|\n|       loc0|          28|\n|       loc0|          33|\n|       loc0|          28|\n+-----------+------------+\nonly showing top 20 rows\n\n"
     ]
    }
   ],
   "source": [
    "df1.select('location_id','temp_celcius').show()"
   ]
  },
  {
   "cell_type": "code",
   "execution_count": 0,
   "metadata": {
    "application/vnd.databricks.v1+cell": {
     "cellMetadata": {
      "byteLimit": 2048000,
      "rowLimit": 10000
     },
     "inputWidgets": {},
     "nuid": "e5310742-d5a7-4a4a-aa31-fe626947d85e",
     "showTitle": false,
     "title": ""
    }
   },
   "outputs": [
    {
     "output_type": "stream",
     "name": "stdout",
     "output_type": "stream",
     "text": [
      "+-----------+-----+\n|location_id|count|\n+-----------+-----+\n|      loc22| 1000|\n|      loc31| 1000|\n|      loc82| 1000|\n|      loc90| 1000|\n|     loc118| 1000|\n|      loc39| 1000|\n|      loc75| 1000|\n|     loc122| 1000|\n|      loc24| 1000|\n|      loc30| 1000|\n|     loc105| 1000|\n|      loc96| 1000|\n|     loc102| 1000|\n|      loc18| 1000|\n|      loc27| 1000|\n|     loc143| 1000|\n|      loc43| 1000|\n|     loc123| 1000|\n|      loc15| 1000|\n|      loc48| 1000|\n+-----------+-----+\nonly showing top 20 rows\n\n"
     ]
    }
   ],
   "source": [
    "#Aggregation using DataFrame API\n",
    "\n",
    "df1.groupBy('location_id').count().show()"
   ]
  },
  {
   "cell_type": "code",
   "execution_count": 0,
   "metadata": {
    "application/vnd.databricks.v1+cell": {
     "cellMetadata": {
      "byteLimit": 2048000,
      "rowLimit": 10000
     },
     "inputWidgets": {},
     "nuid": "bf5772cc-2c27-48ed-8ab9-67a98c4d1488",
     "showTitle": false,
     "title": ""
    }
   },
   "outputs": [
    {
     "output_type": "stream",
     "name": "stdout",
     "output_type": "stream",
     "text": [
      "+-------------------+-----------+------------+\n|         event_date|location_id|temp_celcius|\n+-------------------+-----------+------------+\n|03/04/2019 19:48:06|       loc0|          29|\n|03/04/2019 19:53:06|       loc0|          27|\n|03/04/2019 19:58:06|       loc0|          28|\n|03/04/2019 20:03:06|       loc0|          30|\n|03/04/2019 20:08:06|       loc0|          27|\n|03/04/2019 20:13:06|       loc0|          27|\n|03/04/2019 20:18:06|       loc0|          27|\n|03/04/2019 20:23:06|       loc0|          29|\n|03/04/2019 20:28:06|       loc0|          32|\n|03/04/2019 20:33:06|       loc0|          35|\n|03/04/2019 20:38:06|       loc0|          32|\n|03/04/2019 20:43:06|       loc0|          28|\n|03/04/2019 20:48:06|       loc0|          28|\n|03/04/2019 20:53:06|       loc0|          32|\n|03/04/2019 20:58:06|       loc0|          34|\n|03/04/2019 21:03:06|       loc0|          33|\n|03/04/2019 21:08:06|       loc0|          27|\n|03/04/2019 21:13:06|       loc0|          28|\n|03/04/2019 21:18:06|       loc0|          33|\n|03/04/2019 21:23:06|       loc0|          28|\n+-------------------+-----------+------------+\nonly showing top 20 rows\n\n"
     ]
    }
   ],
   "source": [
    "df1.orderBy('location_id').show()"
   ]
  },
  {
   "cell_type": "code",
   "execution_count": 0,
   "metadata": {
    "application/vnd.databricks.v1+cell": {
     "cellMetadata": {
      "byteLimit": 2048000,
      "rowLimit": 10000
     },
     "inputWidgets": {},
     "nuid": "968e2a9a-b4fd-4629-9499-b400563c43e7",
     "showTitle": false,
     "title": ""
    }
   },
   "outputs": [
    {
     "output_type": "stream",
     "name": "stdout",
     "output_type": "stream",
     "text": [
      "+-----------+-----------------+\n|location_id|avg(temp_celcius)|\n+-----------+-----------------+\n|       loc0|           29.176|\n|       loc1|           28.246|\n|      loc10|           25.337|\n|     loc100|           27.297|\n|     loc101|           25.317|\n|     loc102|           30.327|\n|     loc103|           25.341|\n|     loc104|           26.204|\n|     loc105|           26.217|\n|     loc106|           27.201|\n|     loc107|           33.268|\n|     loc108|           32.195|\n|     loc109|           24.138|\n|      loc11|           25.308|\n|     loc110|           26.239|\n|     loc111|           31.391|\n|     loc112|           33.359|\n|     loc113|           30.345|\n|     loc114|           29.261|\n|     loc115|           23.239|\n+-----------+-----------------+\nonly showing top 20 rows\n\n"
     ]
    }
   ],
   "source": [
    "df1.groupBy('location_id').agg({'temp_celcius':'mean'}).orderBy('location_id').show()"
   ]
  },
  {
   "cell_type": "code",
   "execution_count": 0,
   "metadata": {
    "application/vnd.databricks.v1+cell": {
     "cellMetadata": {
      "byteLimit": 2048000,
      "rowLimit": 10000
     },
     "inputWidgets": {},
     "nuid": "256e3ae2-611f-4c7f-8916-4315193f207f",
     "showTitle": false,
     "title": ""
    }
   },
   "outputs": [
    {
     "output_type": "stream",
     "name": "stdout",
     "output_type": "stream",
     "text": [
      "+-----------+-----------------+\n|location_id|max(temp_celcius)|\n+-----------+-----------------+\n|      loc99|               40|\n|      loc98|               39|\n|      loc97|               38|\n|      loc96|               35|\n|      loc95|               40|\n|      loc94|               32|\n|      loc93|               31|\n|      loc92|               40|\n|      loc91|               37|\n|      loc90|               30|\n|       loc9|               39|\n|      loc89|               37|\n|      loc88|               32|\n|      loc87|               38|\n|      loc86|               30|\n|      loc85|               35|\n|      loc84|               33|\n|      loc83|               33|\n|      loc82|               34|\n|      loc81|               30|\n+-----------+-----------------+\nonly showing top 20 rows\n\n"
     ]
    }
   ],
   "source": [
    "df1.groupBy('location_id').agg({'temp_celcius':'max'}).orderBy('location_id', ascending=False).show()"
   ]
  },
  {
   "cell_type": "code",
   "execution_count": 0,
   "metadata": {
    "application/vnd.databricks.v1+cell": {
     "cellMetadata": {
      "byteLimit": 2048000,
      "rowLimit": 10000
     },
     "inputWidgets": {},
     "nuid": "d45832a9-7461-46af-b273-a86d9a6c754d",
     "showTitle": false,
     "title": ""
    }
   },
   "outputs": [],
   "source": [
    "#Data Sampling\n",
    "df1_sample1 = df1.sample(fraction=0.1, withReplacement=False)"
   ]
  },
  {
   "cell_type": "code",
   "execution_count": 0,
   "metadata": {
    "application/vnd.databricks.v1+cell": {
     "cellMetadata": {
      "byteLimit": 2048000,
      "rowLimit": 10000
     },
     "inputWidgets": {},
     "nuid": "ae2872f5-fb82-46ee-9dbe-708d3699bc66",
     "showTitle": false,
     "title": ""
    }
   },
   "outputs": [
    {
     "output_type": "stream",
     "name": "stdout",
     "output_type": "stream",
     "text": [
      "Out[44]: 49674"
     ]
    }
   ],
   "source": [
    "df1_sample1.count()"
   ]
  },
  {
   "cell_type": "code",
   "execution_count": 0,
   "metadata": {
    "application/vnd.databricks.v1+cell": {
     "cellMetadata": {
      "byteLimit": 2048000,
      "rowLimit": 10000
     },
     "inputWidgets": {},
     "nuid": "fa093a2d-8aaf-42ee-8acf-636f31a83ee7",
     "showTitle": false,
     "title": ""
    }
   },
   "outputs": [
    {
     "output_type": "stream",
     "name": "stdout",
     "output_type": "stream",
     "text": [
      "+-----------+------------------+\n|location_id| avg(temp_celcius)|\n+-----------+------------------+\n|       loc0|29.485714285714284|\n|       loc1|              28.0|\n|      loc10| 25.07894736842105|\n|     loc100| 26.89423076923077|\n|     loc101|25.183673469387756|\n|     loc102|30.442307692307693|\n|     loc103|25.482142857142858|\n|     loc104| 26.34285714285714|\n|     loc105|26.097087378640776|\n|     loc106|27.194174757281555|\n+-----------+------------------+\nonly showing top 10 rows\n\n"
     ]
    }
   ],
   "source": [
    "df1_sample1.groupBy('location_id').agg({'temp_celcius':'mean'}).orderBy('location_id').show(10)"
   ]
  },
  {
   "cell_type": "code",
   "execution_count": 0,
   "metadata": {
    "application/vnd.databricks.v1+cell": {
     "cellMetadata": {
      "byteLimit": 2048000,
      "rowLimit": 10000
     },
     "inputWidgets": {},
     "nuid": "4fd4ab31-7853-43aa-94fe-55b7c129bd15",
     "showTitle": false,
     "title": ""
    }
   },
   "outputs": [
    {
     "output_type": "stream",
     "name": "stdout",
     "output_type": "stream",
     "text": [
      "+-----------+-----------------+\n|location_id|avg(temp_celcius)|\n+-----------+-----------------+\n|       loc0|           29.176|\n|       loc1|           28.246|\n|      loc10|           25.337|\n|     loc100|           27.297|\n|     loc101|           25.317|\n|     loc102|           30.327|\n|     loc103|           25.341|\n|     loc104|           26.204|\n|     loc105|           26.217|\n|     loc106|           27.201|\n+-----------+-----------------+\nonly showing top 10 rows\n\n"
     ]
    }
   ],
   "source": [
    "df1.groupBy('location_id').agg({'temp_celcius':'mean'}).orderBy('location_id').show(10)"
   ]
  },
  {
   "cell_type": "code",
   "execution_count": 0,
   "metadata": {
    "application/vnd.databricks.v1+cell": {
     "cellMetadata": {
      "byteLimit": 2048000,
      "rowLimit": 10000
     },
     "inputWidgets": {},
     "nuid": "3a4c9b71-398d-400a-853e-b8208a040e06",
     "showTitle": false,
     "title": ""
    }
   },
   "outputs": [
    {
     "output_type": "display_data",
     "data": {
      "text/plain": [
       "\u001B[0;31m---------------------------------------------------------------------------\u001B[0m\n",
       "\u001B[0;31mAnalysisException\u001B[0m                         Traceback (most recent call last)\n",
       "File \u001B[0;32m<command-59830022653767>:2\u001B[0m\n",
       "\u001B[1;32m      1\u001B[0m \u001B[38;5;66;03m#Save Data from DataFrame\u001B[39;00m\n",
       "\u001B[0;32m----> 2\u001B[0m \u001B[43mdf1\u001B[49m\u001B[38;5;241;43m.\u001B[39;49m\u001B[43mwrite\u001B[49m\u001B[38;5;241;43m.\u001B[39;49m\u001B[43mcsv\u001B[49m\u001B[43m(\u001B[49m\u001B[38;5;124;43m'\u001B[39;49m\u001B[38;5;124;43mdf1.csv\u001B[39;49m\u001B[38;5;124;43m'\u001B[39;49m\u001B[43m)\u001B[49m\n",
       "\n",
       "File \u001B[0;32m/databricks/spark/python/pyspark/instrumentation_utils.py:48\u001B[0m, in \u001B[0;36m_wrap_function.<locals>.wrapper\u001B[0;34m(*args, **kwargs)\u001B[0m\n",
       "\u001B[1;32m     46\u001B[0m start \u001B[38;5;241m=\u001B[39m time\u001B[38;5;241m.\u001B[39mperf_counter()\n",
       "\u001B[1;32m     47\u001B[0m \u001B[38;5;28;01mtry\u001B[39;00m:\n",
       "\u001B[0;32m---> 48\u001B[0m     res \u001B[38;5;241m=\u001B[39m \u001B[43mfunc\u001B[49m\u001B[43m(\u001B[49m\u001B[38;5;241;43m*\u001B[39;49m\u001B[43margs\u001B[49m\u001B[43m,\u001B[49m\u001B[43m \u001B[49m\u001B[38;5;241;43m*\u001B[39;49m\u001B[38;5;241;43m*\u001B[39;49m\u001B[43mkwargs\u001B[49m\u001B[43m)\u001B[49m\n",
       "\u001B[1;32m     49\u001B[0m     logger\u001B[38;5;241m.\u001B[39mlog_success(\n",
       "\u001B[1;32m     50\u001B[0m         module_name, class_name, function_name, time\u001B[38;5;241m.\u001B[39mperf_counter() \u001B[38;5;241m-\u001B[39m start, signature\n",
       "\u001B[1;32m     51\u001B[0m     )\n",
       "\u001B[1;32m     52\u001B[0m     \u001B[38;5;28;01mreturn\u001B[39;00m res\n",
       "\n",
       "File \u001B[0;32m/databricks/spark/python/pyspark/sql/readwriter.py:1798\u001B[0m, in \u001B[0;36mDataFrameWriter.csv\u001B[0;34m(self, path, mode, compression, sep, quote, escape, header, nullValue, escapeQuotes, quoteAll, dateFormat, timestampFormat, ignoreLeadingWhiteSpace, ignoreTrailingWhiteSpace, charToEscapeQuoteEscaping, encoding, emptyValue, lineSep)\u001B[0m\n",
       "\u001B[1;32m   1779\u001B[0m \u001B[38;5;28mself\u001B[39m\u001B[38;5;241m.\u001B[39mmode(mode)\n",
       "\u001B[1;32m   1780\u001B[0m \u001B[38;5;28mself\u001B[39m\u001B[38;5;241m.\u001B[39m_set_opts(\n",
       "\u001B[1;32m   1781\u001B[0m     compression\u001B[38;5;241m=\u001B[39mcompression,\n",
       "\u001B[1;32m   1782\u001B[0m     sep\u001B[38;5;241m=\u001B[39msep,\n",
       "\u001B[0;32m   (...)\u001B[0m\n",
       "\u001B[1;32m   1796\u001B[0m     lineSep\u001B[38;5;241m=\u001B[39mlineSep,\n",
       "\u001B[1;32m   1797\u001B[0m )\n",
       "\u001B[0;32m-> 1798\u001B[0m \u001B[38;5;28;43mself\u001B[39;49m\u001B[38;5;241;43m.\u001B[39;49m\u001B[43m_jwrite\u001B[49m\u001B[38;5;241;43m.\u001B[39;49m\u001B[43mcsv\u001B[49m\u001B[43m(\u001B[49m\u001B[43mpath\u001B[49m\u001B[43m)\u001B[49m\n",
       "\n",
       "File \u001B[0;32m/databricks/spark/python/lib/py4j-0.10.9.5-src.zip/py4j/java_gateway.py:1321\u001B[0m, in \u001B[0;36mJavaMember.__call__\u001B[0;34m(self, *args)\u001B[0m\n",
       "\u001B[1;32m   1315\u001B[0m command \u001B[38;5;241m=\u001B[39m proto\u001B[38;5;241m.\u001B[39mCALL_COMMAND_NAME \u001B[38;5;241m+\u001B[39m\\\n",
       "\u001B[1;32m   1316\u001B[0m     \u001B[38;5;28mself\u001B[39m\u001B[38;5;241m.\u001B[39mcommand_header \u001B[38;5;241m+\u001B[39m\\\n",
       "\u001B[1;32m   1317\u001B[0m     args_command \u001B[38;5;241m+\u001B[39m\\\n",
       "\u001B[1;32m   1318\u001B[0m     proto\u001B[38;5;241m.\u001B[39mEND_COMMAND_PART\n",
       "\u001B[1;32m   1320\u001B[0m answer \u001B[38;5;241m=\u001B[39m \u001B[38;5;28mself\u001B[39m\u001B[38;5;241m.\u001B[39mgateway_client\u001B[38;5;241m.\u001B[39msend_command(command)\n",
       "\u001B[0;32m-> 1321\u001B[0m return_value \u001B[38;5;241m=\u001B[39m \u001B[43mget_return_value\u001B[49m\u001B[43m(\u001B[49m\n",
       "\u001B[1;32m   1322\u001B[0m \u001B[43m    \u001B[49m\u001B[43manswer\u001B[49m\u001B[43m,\u001B[49m\u001B[43m \u001B[49m\u001B[38;5;28;43mself\u001B[39;49m\u001B[38;5;241;43m.\u001B[39;49m\u001B[43mgateway_client\u001B[49m\u001B[43m,\u001B[49m\u001B[43m \u001B[49m\u001B[38;5;28;43mself\u001B[39;49m\u001B[38;5;241;43m.\u001B[39;49m\u001B[43mtarget_id\u001B[49m\u001B[43m,\u001B[49m\u001B[43m \u001B[49m\u001B[38;5;28;43mself\u001B[39;49m\u001B[38;5;241;43m.\u001B[39;49m\u001B[43mname\u001B[49m\u001B[43m)\u001B[49m\n",
       "\u001B[1;32m   1324\u001B[0m \u001B[38;5;28;01mfor\u001B[39;00m temp_arg \u001B[38;5;129;01min\u001B[39;00m temp_args:\n",
       "\u001B[1;32m   1325\u001B[0m     temp_arg\u001B[38;5;241m.\u001B[39m_detach()\n",
       "\n",
       "File \u001B[0;32m/databricks/spark/python/pyspark/errors/exceptions.py:234\u001B[0m, in \u001B[0;36mcapture_sql_exception.<locals>.deco\u001B[0;34m(*a, **kw)\u001B[0m\n",
       "\u001B[1;32m    230\u001B[0m converted \u001B[38;5;241m=\u001B[39m convert_exception(e\u001B[38;5;241m.\u001B[39mjava_exception)\n",
       "\u001B[1;32m    231\u001B[0m \u001B[38;5;28;01mif\u001B[39;00m \u001B[38;5;129;01mnot\u001B[39;00m \u001B[38;5;28misinstance\u001B[39m(converted, UnknownException):\n",
       "\u001B[1;32m    232\u001B[0m     \u001B[38;5;66;03m# Hide where the exception came from that shows a non-Pythonic\u001B[39;00m\n",
       "\u001B[1;32m    233\u001B[0m     \u001B[38;5;66;03m# JVM exception message.\u001B[39;00m\n",
       "\u001B[0;32m--> 234\u001B[0m     \u001B[38;5;28;01mraise\u001B[39;00m converted \u001B[38;5;28;01mfrom\u001B[39;00m \u001B[38;5;28mNone\u001B[39m\n",
       "\u001B[1;32m    235\u001B[0m \u001B[38;5;28;01melse\u001B[39;00m:\n",
       "\u001B[1;32m    236\u001B[0m     \u001B[38;5;28;01mraise\u001B[39;00m\n",
       "\n",
       "\u001B[0;31mAnalysisException\u001B[0m: Path dbfs:/df1.csv already exists."
      ]
     },
     "metadata": {
      "application/vnd.databricks.v1+output": {
       "arguments": {},
       "data": "\u001B[0;31m---------------------------------------------------------------------------\u001B[0m\n\u001B[0;31mAnalysisException\u001B[0m                         Traceback (most recent call last)\nFile \u001B[0;32m<command-59830022653767>:2\u001B[0m\n\u001B[1;32m      1\u001B[0m \u001B[38;5;66;03m#Save Data from DataFrame\u001B[39;00m\n\u001B[0;32m----> 2\u001B[0m \u001B[43mdf1\u001B[49m\u001B[38;5;241;43m.\u001B[39;49m\u001B[43mwrite\u001B[49m\u001B[38;5;241;43m.\u001B[39;49m\u001B[43mcsv\u001B[49m\u001B[43m(\u001B[49m\u001B[38;5;124;43m'\u001B[39;49m\u001B[38;5;124;43mdf1.csv\u001B[39;49m\u001B[38;5;124;43m'\u001B[39;49m\u001B[43m)\u001B[49m\n\nFile \u001B[0;32m/databricks/spark/python/pyspark/instrumentation_utils.py:48\u001B[0m, in \u001B[0;36m_wrap_function.<locals>.wrapper\u001B[0;34m(*args, **kwargs)\u001B[0m\n\u001B[1;32m     46\u001B[0m start \u001B[38;5;241m=\u001B[39m time\u001B[38;5;241m.\u001B[39mperf_counter()\n\u001B[1;32m     47\u001B[0m \u001B[38;5;28;01mtry\u001B[39;00m:\n\u001B[0;32m---> 48\u001B[0m     res \u001B[38;5;241m=\u001B[39m \u001B[43mfunc\u001B[49m\u001B[43m(\u001B[49m\u001B[38;5;241;43m*\u001B[39;49m\u001B[43margs\u001B[49m\u001B[43m,\u001B[49m\u001B[43m \u001B[49m\u001B[38;5;241;43m*\u001B[39;49m\u001B[38;5;241;43m*\u001B[39;49m\u001B[43mkwargs\u001B[49m\u001B[43m)\u001B[49m\n\u001B[1;32m     49\u001B[0m     logger\u001B[38;5;241m.\u001B[39mlog_success(\n\u001B[1;32m     50\u001B[0m         module_name, class_name, function_name, time\u001B[38;5;241m.\u001B[39mperf_counter() \u001B[38;5;241m-\u001B[39m start, signature\n\u001B[1;32m     51\u001B[0m     )\n\u001B[1;32m     52\u001B[0m     \u001B[38;5;28;01mreturn\u001B[39;00m res\n\nFile \u001B[0;32m/databricks/spark/python/pyspark/sql/readwriter.py:1798\u001B[0m, in \u001B[0;36mDataFrameWriter.csv\u001B[0;34m(self, path, mode, compression, sep, quote, escape, header, nullValue, escapeQuotes, quoteAll, dateFormat, timestampFormat, ignoreLeadingWhiteSpace, ignoreTrailingWhiteSpace, charToEscapeQuoteEscaping, encoding, emptyValue, lineSep)\u001B[0m\n\u001B[1;32m   1779\u001B[0m \u001B[38;5;28mself\u001B[39m\u001B[38;5;241m.\u001B[39mmode(mode)\n\u001B[1;32m   1780\u001B[0m \u001B[38;5;28mself\u001B[39m\u001B[38;5;241m.\u001B[39m_set_opts(\n\u001B[1;32m   1781\u001B[0m     compression\u001B[38;5;241m=\u001B[39mcompression,\n\u001B[1;32m   1782\u001B[0m     sep\u001B[38;5;241m=\u001B[39msep,\n\u001B[0;32m   (...)\u001B[0m\n\u001B[1;32m   1796\u001B[0m     lineSep\u001B[38;5;241m=\u001B[39mlineSep,\n\u001B[1;32m   1797\u001B[0m )\n\u001B[0;32m-> 1798\u001B[0m \u001B[38;5;28;43mself\u001B[39;49m\u001B[38;5;241;43m.\u001B[39;49m\u001B[43m_jwrite\u001B[49m\u001B[38;5;241;43m.\u001B[39;49m\u001B[43mcsv\u001B[49m\u001B[43m(\u001B[49m\u001B[43mpath\u001B[49m\u001B[43m)\u001B[49m\n\nFile \u001B[0;32m/databricks/spark/python/lib/py4j-0.10.9.5-src.zip/py4j/java_gateway.py:1321\u001B[0m, in \u001B[0;36mJavaMember.__call__\u001B[0;34m(self, *args)\u001B[0m\n\u001B[1;32m   1315\u001B[0m command \u001B[38;5;241m=\u001B[39m proto\u001B[38;5;241m.\u001B[39mCALL_COMMAND_NAME \u001B[38;5;241m+\u001B[39m\\\n\u001B[1;32m   1316\u001B[0m     \u001B[38;5;28mself\u001B[39m\u001B[38;5;241m.\u001B[39mcommand_header \u001B[38;5;241m+\u001B[39m\\\n\u001B[1;32m   1317\u001B[0m     args_command \u001B[38;5;241m+\u001B[39m\\\n\u001B[1;32m   1318\u001B[0m     proto\u001B[38;5;241m.\u001B[39mEND_COMMAND_PART\n\u001B[1;32m   1320\u001B[0m answer \u001B[38;5;241m=\u001B[39m \u001B[38;5;28mself\u001B[39m\u001B[38;5;241m.\u001B[39mgateway_client\u001B[38;5;241m.\u001B[39msend_command(command)\n\u001B[0;32m-> 1321\u001B[0m return_value \u001B[38;5;241m=\u001B[39m \u001B[43mget_return_value\u001B[49m\u001B[43m(\u001B[49m\n\u001B[1;32m   1322\u001B[0m \u001B[43m    \u001B[49m\u001B[43manswer\u001B[49m\u001B[43m,\u001B[49m\u001B[43m \u001B[49m\u001B[38;5;28;43mself\u001B[39;49m\u001B[38;5;241;43m.\u001B[39;49m\u001B[43mgateway_client\u001B[49m\u001B[43m,\u001B[49m\u001B[43m \u001B[49m\u001B[38;5;28;43mself\u001B[39;49m\u001B[38;5;241;43m.\u001B[39;49m\u001B[43mtarget_id\u001B[49m\u001B[43m,\u001B[49m\u001B[43m \u001B[49m\u001B[38;5;28;43mself\u001B[39;49m\u001B[38;5;241;43m.\u001B[39;49m\u001B[43mname\u001B[49m\u001B[43m)\u001B[49m\n\u001B[1;32m   1324\u001B[0m \u001B[38;5;28;01mfor\u001B[39;00m temp_arg \u001B[38;5;129;01min\u001B[39;00m temp_args:\n\u001B[1;32m   1325\u001B[0m     temp_arg\u001B[38;5;241m.\u001B[39m_detach()\n\nFile \u001B[0;32m/databricks/spark/python/pyspark/errors/exceptions.py:234\u001B[0m, in \u001B[0;36mcapture_sql_exception.<locals>.deco\u001B[0;34m(*a, **kw)\u001B[0m\n\u001B[1;32m    230\u001B[0m converted \u001B[38;5;241m=\u001B[39m convert_exception(e\u001B[38;5;241m.\u001B[39mjava_exception)\n\u001B[1;32m    231\u001B[0m \u001B[38;5;28;01mif\u001B[39;00m \u001B[38;5;129;01mnot\u001B[39;00m \u001B[38;5;28misinstance\u001B[39m(converted, UnknownException):\n\u001B[1;32m    232\u001B[0m     \u001B[38;5;66;03m# Hide where the exception came from that shows a non-Pythonic\u001B[39;00m\n\u001B[1;32m    233\u001B[0m     \u001B[38;5;66;03m# JVM exception message.\u001B[39;00m\n\u001B[0;32m--> 234\u001B[0m     \u001B[38;5;28;01mraise\u001B[39;00m converted \u001B[38;5;28;01mfrom\u001B[39;00m \u001B[38;5;28mNone\u001B[39m\n\u001B[1;32m    235\u001B[0m \u001B[38;5;28;01melse\u001B[39;00m:\n\u001B[1;32m    236\u001B[0m     \u001B[38;5;28;01mraise\u001B[39;00m\n\n\u001B[0;31mAnalysisException\u001B[0m: Path dbfs:/df1.csv already exists.",
       "errorSummary": "<span class='ansi-red-fg'>AnalysisException</span>: Path dbfs:/df1.csv already exists.",
       "errorTraceType": "ansi",
       "metadata": {},
       "type": "ipynbError"
      }
     },
     "output_type": "display_data"
    }
   ],
   "source": [
    "#Save Data from DataFrame\n",
    "df1.write.csv('df1.csv')"
   ]
  },
  {
   "cell_type": "code",
   "execution_count": 0,
   "metadata": {
    "application/vnd.databricks.v1+cell": {
     "cellMetadata": {
      "byteLimit": 2048000,
      "rowLimit": 10000
     },
     "inputWidgets": {},
     "nuid": "494139b4-1cdb-4cad-bc53-dbf22b44ef94",
     "showTitle": false,
     "title": ""
    }
   },
   "outputs": [
    {
     "output_type": "stream",
     "name": "stdout",
     "output_type": "stream",
     "text": [
      "Out[51]: [FileInfo(path='dbfs:/df1.csv/_SUCCESS', name='_SUCCESS', size=0, modificationTime=1696821174000),\n FileInfo(path='dbfs:/df1.csv/_committed_384478372412629838', name='_committed_384478372412629838', size=372, modificationTime=1696821174000),\n FileInfo(path='dbfs:/df1.csv/_started_384478372412629838', name='_started_384478372412629838', size=0, modificationTime=1696821170000),\n FileInfo(path='dbfs:/df1.csv/part-00000-tid-384478372412629838-d89f8ea6-fa44-456f-af05-c1ae5cf8a074-58-1-c000.csv', name='part-00000-tid-384478372412629838-d89f8ea6-fa44-456f-af05-c1ae5cf8a074-58-1-c000.csv', size=4194280, modificationTime=1696821174000),\n FileInfo(path='dbfs:/df1.csv/part-00001-tid-384478372412629838-d89f8ea6-fa44-456f-af05-c1ae5cf8a074-59-1-c000.csv', name='part-00001-tid-384478372412629838-d89f8ea6-fa44-456f-af05-c1ae5cf8a074-59-1-c000.csv', size=4194300, modificationTime=1696821174000),\n FileInfo(path='dbfs:/df1.csv/part-00002-tid-384478372412629838-d89f8ea6-fa44-456f-af05-c1ae5cf8a074-60-1-c000.csv', name='part-00002-tid-384478372412629838-d89f8ea6-fa44-456f-af05-c1ae5cf8a074-60-1-c000.csv', size=4194300, modificationTime=1696821174000),\n FileInfo(path='dbfs:/df1.csv/part-00003-tid-384478372412629838-d89f8ea6-fa44-456f-af05-c1ae5cf8a074-61-1-c000.csv', name='part-00003-tid-384478372412629838-d89f8ea6-fa44-456f-af05-c1ae5cf8a074-61-1-c000.csv', size=2307120, modificationTime=1696821173000)]"
     ]
    }
   ],
   "source": [
    "dbutils.fs.ls(\"dbfs:/df1.csv/\")\n"
   ]
  },
  {
   "cell_type": "code",
   "execution_count": 0,
   "metadata": {
    "application/vnd.databricks.v1+cell": {
     "cellMetadata": {
      "byteLimit": 2048000,
      "rowLimit": 10000
     },
     "inputWidgets": {},
     "nuid": "7a7d1ef0-5746-4206-ab73-bfa948889073",
     "showTitle": false,
     "title": ""
    }
   },
   "outputs": [],
   "source": [
    "df1.write.json('df1.json')"
   ]
  },
  {
   "cell_type": "code",
   "execution_count": 0,
   "metadata": {
    "application/vnd.databricks.v1+cell": {
     "cellMetadata": {
      "byteLimit": 2048000,
      "rowLimit": 10000
     },
     "inputWidgets": {},
     "nuid": "03d25e34-c245-4908-afab-9e1ca8bfa73a",
     "showTitle": false,
     "title": ""
    }
   },
   "outputs": [
    {
     "output_type": "stream",
     "name": "stdout",
     "output_type": "stream",
     "text": [
      "Out[53]: [FileInfo(path='dbfs:/df1.json/_SUCCESS', name='_SUCCESS', size=0, modificationTime=1696821370000),\n FileInfo(path='dbfs:/df1.json/_committed_4658790242698323981', name='_committed_4658790242698323981', size=380, modificationTime=1696821369000),\n FileInfo(path='dbfs:/df1.json/_started_4658790242698323981', name='_started_4658790242698323981', size=0, modificationTime=1696821363000),\n FileInfo(path='dbfs:/df1.json/part-00000-tid-4658790242698323981-5f38309e-eb1b-4d96-859e-eded29b61c32-62-1-c000.json', name='part-00000-tid-4658790242698323981-5f38309e-eb1b-4d96-859e-eded29b61c32-62-1-c000.json', size=11368080, modificationTime=1696821369000),\n FileInfo(path='dbfs:/df1.json/part-00001-tid-4658790242698323981-5f38309e-eb1b-4d96-859e-eded29b61c32-63-1-c000.json', name='part-00001-tid-4658790242698323981-5f38309e-eb1b-4d96-859e-eded29b61c32-63-1-c000.json', size=11184800, modificationTime=1696821369000),\n FileInfo(path='dbfs:/df1.json/part-00002-tid-4658790242698323981-5f38309e-eb1b-4d96-859e-eded29b61c32-64-1-c000.json', name='part-00002-tid-4658790242698323981-5f38309e-eb1b-4d96-859e-eded29b61c32-64-1-c000.json', size=11184800, modificationTime=1696821369000),\n FileInfo(path='dbfs:/df1.json/part-00003-tid-4658790242698323981-5f38309e-eb1b-4d96-859e-eded29b61c32-65-1-c000.json', name='part-00003-tid-4658790242698323981-5f38309e-eb1b-4d96-859e-eded29b61c32-65-1-c000.json', size=6152320, modificationTime=1696821367000)]"
     ]
    }
   ],
   "source": [
    "dbutils.fs.ls(\"dbfs:/df1.json/\")\n"
   ]
  },
  {
   "cell_type": "code",
   "execution_count": 0,
   "metadata": {
    "application/vnd.databricks.v1+cell": {
     "cellMetadata": {
      "byteLimit": 2048000,
      "rowLimit": 10000
     },
     "inputWidgets": {},
     "nuid": "0e349215-146e-4c09-a7a8-f7e4ab1180c3",
     "showTitle": false,
     "title": ""
    }
   },
   "outputs": [],
   "source": [
    "#Querying DataFrames with SQL\n",
    "df_util = spark.read.format('csv').option('inferSchema', 'true').load(file_path)"
   ]
  },
  {
   "cell_type": "code",
   "execution_count": 0,
   "metadata": {
    "application/vnd.databricks.v1+cell": {
     "cellMetadata": {
      "byteLimit": 2048000,
      "rowLimit": 10000
     },
     "inputWidgets": {},
     "nuid": "2669e06f-5a71-4b3c-a7d5-74f25ae1a865",
     "showTitle": false,
     "title": ""
    }
   },
   "outputs": [
    {
     "output_type": "stream",
     "name": "stdout",
     "output_type": "stream",
     "text": [
      "+-------------------+-----------+------------+\n|                _c0|        _c1|         _c2|\n+-------------------+-----------+------------+\n|         event_date|location_id|temp_celcius|\n|03/04/2019 19:48:06|       loc0|          29|\n|03/04/2019 19:53:06|       loc0|          27|\n|03/04/2019 19:58:06|       loc0|          28|\n|03/04/2019 20:03:06|       loc0|          30|\n|03/04/2019 20:08:06|       loc0|          27|\n|03/04/2019 20:13:06|       loc0|          27|\n|03/04/2019 20:18:06|       loc0|          27|\n|03/04/2019 20:23:06|       loc0|          29|\n|03/04/2019 20:28:06|       loc0|          32|\n+-------------------+-----------+------------+\nonly showing top 10 rows\n\n"
     ]
    }
   ],
   "source": [
    "df_util.show(10)"
   ]
  },
  {
   "cell_type": "code",
   "execution_count": 0,
   "metadata": {
    "application/vnd.databricks.v1+cell": {
     "cellMetadata": {
      "byteLimit": 2048000,
      "rowLimit": 10000
     },
     "inputWidgets": {},
     "nuid": "49e883c3-15df-4bce-91ac-3f8ab41508f9",
     "showTitle": false,
     "title": ""
    }
   },
   "outputs": [],
   "source": [
    "df_util = df_util.withColumnRenamed('_c0', 'event_datetime')\\\n",
    "                .withColumnRenamed('_c1', 'server_id')\\\n",
    "                .withColumnRenamed('_c2', 'cpu_utilization')\\\n",
    "                .withColumnRenamed('_c3', 'free_memory')\\\n",
    "                .withColumnRenamed('_c4', 'session_count')"
   ]
  },
  {
   "cell_type": "code",
   "execution_count": 0,
   "metadata": {
    "application/vnd.databricks.v1+cell": {
     "cellMetadata": {
      "byteLimit": 2048000,
      "rowLimit": 10000
     },
     "inputWidgets": {},
     "nuid": "6f3a28e9-553c-4262-afdb-7a5e3402f34d",
     "showTitle": false,
     "title": ""
    }
   },
   "outputs": [
    {
     "output_type": "stream",
     "name": "stdout",
     "output_type": "stream",
     "text": [
      "Out[111]: DataFrame[]"
     ]
    }
   ],
   "source": [
    "spark.sql(\"DROP VIEW IF EXISTS utilization\")\n"
   ]
  },
  {
   "cell_type": "code",
   "execution_count": 0,
   "metadata": {
    "application/vnd.databricks.v1+cell": {
     "cellMetadata": {
      "byteLimit": 2048000,
      "rowLimit": 10000
     },
     "inputWidgets": {},
     "nuid": "288252e5-38c1-4aee-9c42-848cdbc763da",
     "showTitle": false,
     "title": ""
    }
   },
   "outputs": [],
   "source": [
    "df_util.createOrReplaceTempView(\"utilization\")"
   ]
  },
  {
   "cell_type": "code",
   "execution_count": 0,
   "metadata": {
    "application/vnd.databricks.v1+cell": {
     "cellMetadata": {
      "byteLimit": 2048000,
      "rowLimit": 10000
     },
     "inputWidgets": {},
     "nuid": "f21e037b-73bd-463f-8798-99c67cd0c415",
     "showTitle": false,
     "title": ""
    }
   },
   "outputs": [],
   "source": [
    "\n",
    "df_sql = spark.sql(\"SELECT * FROM utilization LIMIT 10\")"
   ]
  },
  {
   "cell_type": "code",
   "execution_count": 0,
   "metadata": {
    "application/vnd.databricks.v1+cell": {
     "cellMetadata": {
      "byteLimit": 2048000,
      "rowLimit": 10000
     },
     "inputWidgets": {},
     "nuid": "f8cd2b05-8cb9-44b8-b6c8-efb5c41e8312",
     "showTitle": false,
     "title": ""
    }
   },
   "outputs": [
    {
     "output_type": "stream",
     "name": "stdout",
     "output_type": "stream",
     "text": [
      "+-------------------+-----------+---------------+\n|     event_datetime|  server_id|cpu_utilization|\n+-------------------+-----------+---------------+\n|         event_date|location_id|   temp_celcius|\n|03/04/2019 19:48:06|       loc0|             29|\n|03/04/2019 19:53:06|       loc0|             27|\n|03/04/2019 19:58:06|       loc0|             28|\n|03/04/2019 20:03:06|       loc0|             30|\n|03/04/2019 20:08:06|       loc0|             27|\n|03/04/2019 20:13:06|       loc0|             27|\n|03/04/2019 20:18:06|       loc0|             27|\n|03/04/2019 20:23:06|       loc0|             29|\n|03/04/2019 20:28:06|       loc0|             32|\n+-------------------+-----------+---------------+\n\n"
     ]
    }
   ],
   "source": [
    "df_sql.show(20)"
   ]
  },
  {
   "cell_type": "code",
   "execution_count": 0,
   "metadata": {
    "application/vnd.databricks.v1+cell": {
     "cellMetadata": {
      "byteLimit": 2048000,
      "rowLimit": 10000
     },
     "inputWidgets": {},
     "nuid": "dd4836d0-425e-4938-a6fd-bc6c3b26608a",
     "showTitle": false,
     "title": ""
    }
   },
   "outputs": [],
   "source": [
    "#De-Duplicating with DataFrame API\n",
    "from pyspark import SparkContext\n",
    "from pyspark.sql import SparkSession\n",
    "from pyspark.sql import Row"
   ]
  },
  {
   "cell_type": "code",
   "execution_count": 0,
   "metadata": {
    "application/vnd.databricks.v1+cell": {
     "cellMetadata": {
      "byteLimit": 2048000,
      "rowLimit": 10000
     },
     "inputWidgets": {},
     "nuid": "8bdb1a5a-d63b-47d6-b558-5fccfea0c6ea",
     "showTitle": false,
     "title": ""
    }
   },
   "outputs": [],
   "source": [
    "sc =SparkContext.getOrCreate()"
   ]
  },
  {
   "cell_type": "code",
   "execution_count": 0,
   "metadata": {
    "application/vnd.databricks.v1+cell": {
     "cellMetadata": {
      "byteLimit": 2048000,
      "rowLimit": 10000
     },
     "inputWidgets": {},
     "nuid": "b569af92-4f27-4476-a42d-7232c538e54d",
     "showTitle": false,
     "title": ""
    }
   },
   "outputs": [],
   "source": [
    "rdd = sc.parallelize([Row(server_name='Server 101', cpu_utilization=85, session_count=80),\n",
    "                      Row(server_name='Server 101', cpu_utilization=80, session_count=90),\n",
    "                      Row(server_name='Server 102', cpu_utilization=85, session_count=80),\n",
    "                      Row(server_name='Server 102', cpu_utilization=85, session_count=80)])"
   ]
  },
  {
   "cell_type": "code",
   "execution_count": 0,
   "metadata": {
    "application/vnd.databricks.v1+cell": {
     "cellMetadata": {
      "byteLimit": 2048000,
      "rowLimit": 10000
     },
     "inputWidgets": {},
     "nuid": "d211e41f-29b4-4110-8d92-03777efe51d9",
     "showTitle": false,
     "title": ""
    }
   },
   "outputs": [],
   "source": [
    "spark = SparkSession(sc)"
   ]
  },
  {
   "cell_type": "code",
   "execution_count": 0,
   "metadata": {
    "application/vnd.databricks.v1+cell": {
     "cellMetadata": {
      "byteLimit": 2048000,
      "rowLimit": 10000
     },
     "inputWidgets": {},
     "nuid": "f4ed0829-77f5-4b7a-b3c8-a4658b7c0b22",
     "showTitle": false,
     "title": ""
    }
   },
   "outputs": [
    {
     "output_type": "stream",
     "name": "stdout",
     "output_type": "stream",
     "text": [
      "+-----------+---------------+-------------+\n|server_name|cpu_utilization|session_count|\n+-----------+---------------+-------------+\n| Server 101|             85|           80|\n| Server 101|             80|           90|\n| Server 102|             85|           80|\n| Server 102|             85|           80|\n+-----------+---------------+-------------+\n\n"
     ]
    }
   ],
   "source": [
    "#toDF() turns that parallelized data structure to into a DataFrame.\n",
    "df_dup = rdd.toDF()\n",
    "df_dup.show()"
   ]
  },
  {
   "cell_type": "code",
   "execution_count": 0,
   "metadata": {
    "application/vnd.databricks.v1+cell": {
     "cellMetadata": {
      "byteLimit": 2048000,
      "rowLimit": 10000
     },
     "inputWidgets": {},
     "nuid": "a9afcdb8-e1c3-46d5-9ce9-ba8360e45d13",
     "showTitle": false,
     "title": ""
    }
   },
   "outputs": [
    {
     "output_type": "stream",
     "name": "stdout",
     "output_type": "stream",
     "text": [
      "+-----------+---------------+-------------+\n|server_name|cpu_utilization|session_count|\n+-----------+---------------+-------------+\n| Server 101|             85|           80|\n| Server 101|             80|           90|\n| Server 102|             85|           80|\n+-----------+---------------+-------------+\n\n"
     ]
    }
   ],
   "source": [
    "  df_dup.drop_duplicates().show()"
   ]
  },
  {
   "cell_type": "code",
   "execution_count": 0,
   "metadata": {
    "application/vnd.databricks.v1+cell": {
     "cellMetadata": {
      "byteLimit": 2048000,
      "rowLimit": 10000
     },
     "inputWidgets": {},
     "nuid": "88e1ebf8-59ec-4764-9a7e-be98317969c6",
     "showTitle": false,
     "title": ""
    }
   },
   "outputs": [
    {
     "output_type": "stream",
     "name": "stdout",
     "output_type": "stream",
     "text": [
      "+-----------+---------------+-------------+\n|server_name|cpu_utilization|session_count|\n+-----------+---------------+-------------+\n| Server 101|             85|           80|\n| Server 102|             85|           80|\n+-----------+---------------+-------------+\n\n"
     ]
    }
   ],
   "source": [
    " df_dup.drop_duplicates(['server_name']).show() "
   ]
  },
  {
   "cell_type": "code",
   "execution_count": 0,
   "metadata": {
    "application/vnd.databricks.v1+cell": {
     "cellMetadata": {
      "byteLimit": 2048000,
      "rowLimit": 10000
     },
     "inputWidgets": {},
     "nuid": "2eacfd8a-49e6-4dea-90f6-b831e44b2ec7",
     "showTitle": false,
     "title": ""
    }
   },
   "outputs": [
    {
     "output_type": "stream",
     "name": "stdout",
     "output_type": "stream",
     "text": [
      "+-----------+---------------+-------------+\n|server_name|cpu_utilization|session_count|\n+-----------+---------------+-------------+\n| Server 101|             85|           80|\n| Server 101|             80|           90|\n| Server 102|             85|           80|\n+-----------+---------------+-------------+\n\n"
     ]
    }
   ],
   "source": [
    " df_dup.drop_duplicates(['server_name', 'cpu_utilization']).show()"
   ]
  },
  {
   "cell_type": "code",
   "execution_count": 0,
   "metadata": {
    "application/vnd.databricks.v1+cell": {
     "cellMetadata": {
      "byteLimit": 2048000,
      "rowLimit": 10000
     },
     "inputWidgets": {},
     "nuid": "a0c3ed1a-615c-4949-98ff-922a3eabe0c1",
     "showTitle": false,
     "title": ""
    }
   },
   "outputs": [],
   "source": [
    "#Working with null values\n",
    "\n",
    "from pyspark.sql.functions import lit #allows us to create a literal column for a dataframe\n",
    "from pyspark.sql.types import StringType"
   ]
  },
  {
   "cell_type": "code",
   "execution_count": 0,
   "metadata": {
    "application/vnd.databricks.v1+cell": {
     "cellMetadata": {
      "byteLimit": 2048000,
      "rowLimit": 10000
     },
     "inputWidgets": {},
     "nuid": "8da9cb1e-f894-40b9-ae7c-67e52cd3722d",
     "showTitle": false,
     "title": ""
    }
   },
   "outputs": [],
   "source": [
    "df = rdd.toDF()\n",
    "df_na = df.withColumn('na_col', lit(None).cast(StringType()))"
   ]
  },
  {
   "cell_type": "code",
   "execution_count": 0,
   "metadata": {
    "application/vnd.databricks.v1+cell": {
     "cellMetadata": {
      "byteLimit": 2048000,
      "rowLimit": 10000
     },
     "inputWidgets": {},
     "nuid": "64bce001-e765-48a2-8070-8cbb413c79bb",
     "showTitle": false,
     "title": ""
    }
   },
   "outputs": [
    {
     "output_type": "stream",
     "name": "stdout",
     "output_type": "stream",
     "text": [
      "+-----------+---------------+-------------+------+\n|server_name|cpu_utilization|session_count|na_col|\n+-----------+---------------+-------------+------+\n| Server 101|             85|           80|  null|\n| Server 101|             80|           90|  null|\n| Server 102|             85|           80|  null|\n| Server 102|             85|           80|  null|\n+-----------+---------------+-------------+------+\n\n"
     ]
    }
   ],
   "source": [
    "df_na.show()"
   ]
  },
  {
   "cell_type": "code",
   "execution_count": 0,
   "metadata": {
    "application/vnd.databricks.v1+cell": {
     "cellMetadata": {
      "byteLimit": 2048000,
      "rowLimit": 10000
     },
     "inputWidgets": {},
     "nuid": "aeb91131-9185-4c53-91b4-407c3dac4fb4",
     "showTitle": false,
     "title": ""
    }
   },
   "outputs": [
    {
     "output_type": "stream",
     "name": "stdout",
     "output_type": "stream",
     "text": [
      "+-----------+---------------+-------------+------+\n|server_name|cpu_utilization|session_count|na_col|\n+-----------+---------------+-------------+------+\n| Server 101|             85|           80|     A|\n| Server 101|             80|           90|     A|\n| Server 102|             85|           80|     A|\n| Server 102|             85|           80|     A|\n+-----------+---------------+-------------+------+\n\n"
     ]
    }
   ],
   "source": [
    "df_na.fillna('A').show()"
   ]
  },
  {
   "cell_type": "code",
   "execution_count": 0,
   "metadata": {
    "application/vnd.databricks.v1+cell": {
     "cellMetadata": {
      "byteLimit": 2048000,
      "rowLimit": 10000
     },
     "inputWidgets": {},
     "nuid": "91debca7-c2aa-46bc-beae-7acbc586ce11",
     "showTitle": false,
     "title": ""
    }
   },
   "outputs": [
    {
     "output_type": "stream",
     "name": "stdout",
     "output_type": "stream",
     "text": [
      "+-----------+---------------+-------------+------+\n|server_name|cpu_utilization|session_count|na_col|\n+-----------+---------------+-------------+------+\n| Server 101|             85|           80|     A|\n| Server 101|             80|           90|     A|\n| Server 102|             85|           80|     A|\n| Server 102|             85|           80|     A|\n+-----------+---------------+-------------+------+\n\n"
     ]
    }
   ],
   "source": [
    "df_na.fillna('A').show()"
   ]
  },
  {
   "cell_type": "code",
   "execution_count": 0,
   "metadata": {
    "application/vnd.databricks.v1+cell": {
     "cellMetadata": {
      "byteLimit": 2048000,
      "rowLimit": 10000
     },
     "inputWidgets": {},
     "nuid": "25342065-d74e-40b5-9b60-8cded860351c",
     "showTitle": false,
     "title": ""
    }
   },
   "outputs": [],
   "source": [
    "df_union = df_na.fillna('A').union(df_na)"
   ]
  },
  {
   "cell_type": "code",
   "execution_count": 0,
   "metadata": {
    "application/vnd.databricks.v1+cell": {
     "cellMetadata": {
      "byteLimit": 2048000,
      "rowLimit": 10000
     },
     "inputWidgets": {},
     "nuid": "702425f6-a744-42f1-a944-35b2ad4a283d",
     "showTitle": false,
     "title": ""
    }
   },
   "outputs": [
    {
     "output_type": "stream",
     "name": "stdout",
     "output_type": "stream",
     "text": [
      "+-----------+---------------+-------------+------+\n|server_name|cpu_utilization|session_count|na_col|\n+-----------+---------------+-------------+------+\n| Server 101|             85|           80|     A|\n| Server 101|             80|           90|     A|\n| Server 102|             85|           80|     A|\n| Server 102|             85|           80|     A|\n| Server 101|             85|           80|  null|\n| Server 101|             80|           90|  null|\n| Server 102|             85|           80|  null|\n| Server 102|             85|           80|  null|\n+-----------+---------------+-------------+------+\n\n"
     ]
    }
   ],
   "source": [
    "df_union.show()"
   ]
  },
  {
   "cell_type": "code",
   "execution_count": 0,
   "metadata": {
    "application/vnd.databricks.v1+cell": {
     "cellMetadata": {
      "byteLimit": 2048000,
      "rowLimit": 10000
     },
     "inputWidgets": {},
     "nuid": "6db6e5ca-8af0-4df7-baef-7902fe620ba6",
     "showTitle": false,
     "title": ""
    }
   },
   "outputs": [
    {
     "output_type": "stream",
     "name": "stdout",
     "output_type": "stream",
     "text": [
      "+-----------+---------------+-------------+------+\n|server_name|cpu_utilization|session_count|na_col|\n+-----------+---------------+-------------+------+\n| Server 101|             85|           80|     A|\n| Server 101|             80|           90|     A|\n| Server 102|             85|           80|     A|\n| Server 102|             85|           80|     A|\n+-----------+---------------+-------------+------+\n\n"
     ]
    }
   ],
   "source": [
    "df_union.na.drop().show()"
   ]
  },
  {
   "cell_type": "code",
   "execution_count": 0,
   "metadata": {
    "application/vnd.databricks.v1+cell": {
     "cellMetadata": {
      "byteLimit": 2048000,
      "rowLimit": 10000
     },
     "inputWidgets": {},
     "nuid": "d5be91a9-30c7-40e3-ad4d-cc8471e3f15a",
     "showTitle": false,
     "title": ""
    }
   },
   "outputs": [],
   "source": [
    "df_union.createOrReplaceTempView('na_table')"
   ]
  },
  {
   "cell_type": "code",
   "execution_count": 0,
   "metadata": {
    "application/vnd.databricks.v1+cell": {
     "cellMetadata": {
      "byteLimit": 2048000,
      "rowLimit": 10000
     },
     "inputWidgets": {},
     "nuid": "9437db47-cc54-4347-a629-fb503a2c8461",
     "showTitle": false,
     "title": ""
    }
   },
   "outputs": [
    {
     "output_type": "stream",
     "name": "stdout",
     "output_type": "stream",
     "text": [
      "+-----------+---------------+-------------+------+\n|server_name|cpu_utilization|session_count|na_col|\n+-----------+---------------+-------------+------+\n| Server 101|             85|           80|  null|\n| Server 101|             80|           90|  null|\n| Server 102|             85|           80|  null|\n| Server 102|             85|           80|  null|\n+-----------+---------------+-------------+------+\n\n"
     ]
    }
   ],
   "source": [
    "spark.sql('SELECT * FROM na_table WHERE na_col IS NULL').show()"
   ]
  },
  {
   "cell_type": "code",
   "execution_count": 0,
   "metadata": {
    "application/vnd.databricks.v1+cell": {
     "cellMetadata": {
      "byteLimit": 2048000,
      "rowLimit": 10000
     },
     "inputWidgets": {},
     "nuid": "6815afbd-b316-48b4-9654-4b02f74b75b5",
     "showTitle": false,
     "title": ""
    }
   },
   "outputs": [
    {
     "output_type": "stream",
     "name": "stdout",
     "output_type": "stream",
     "text": [
      "+-----------+---------------+-------------+------+\n|server_name|cpu_utilization|session_count|na_col|\n+-----------+---------------+-------------+------+\n| Server 101|             85|           80|     A|\n| Server 101|             80|           90|     A|\n| Server 102|             85|           80|     A|\n| Server 102|             85|           80|     A|\n| Server 101|             85|           80|  null|\n| Server 101|             80|           90|  null|\n| Server 102|             85|           80|  null|\n| Server 102|             85|           80|  null|\n+-----------+---------------+-------------+------+\n\n"
     ]
    }
   ],
   "source": [
    "#Exploratory Data Analysis with DataFrame API\n",
    "df_union.show()"
   ]
  },
  {
   "cell_type": "code",
   "execution_count": 0,
   "metadata": {
    "application/vnd.databricks.v1+cell": {
     "cellMetadata": {
      "byteLimit": 2048000,
      "rowLimit": 10000
     },
     "inputWidgets": {},
     "nuid": "5eef2c40-7bf1-48e1-942d-fb7e7d510386",
     "showTitle": false,
     "title": ""
    }
   },
   "outputs": [
    {
     "output_type": "stream",
     "name": "stdout",
     "output_type": "stream",
     "text": [
      "+-------+-------------------+-----------+------------------+\n|summary|     event_datetime|  server_id|   cpu_utilization|\n+-------+-------------------+-----------+------------------+\n|  count|             500001|     500001|            500001|\n|   mean|               null|       null|         28.065484|\n| stddev|               null|       null|3.8101229481235555|\n|    min|03/04/2019 19:48:06|       loc0|                21|\n|    max|         event_date|location_id|      temp_celcius|\n+-------+-------------------+-----------+------------------+\n\n"
     ]
    }
   ],
   "source": [
    "df_util.describe().show()"
   ]
  },
  {
   "cell_type": "code",
   "execution_count": 0,
   "metadata": {
    "application/vnd.databricks.v1+cell": {
     "cellMetadata": {
      "byteLimit": 2048000,
      "rowLimit": 10000
     },
     "inputWidgets": {},
     "nuid": "92e5a46f-d3eb-4695-b0bb-4c12aa8e44bc",
     "showTitle": false,
     "title": ""
    }
   },
   "outputs": [
    {
     "output_type": "stream",
     "name": "stdout",
     "output_type": "stream",
     "text": [
      "root\n |-- event_datetime: string (nullable = true)\n |-- server_id: string (nullable = true)\n |-- cpu_utilization: string (nullable = true)\n\n"
     ]
    }
   ],
   "source": [
    "df_util.printSchema()"
   ]
  },
  {
   "cell_type": "code",
   "execution_count": 0,
   "metadata": {
    "application/vnd.databricks.v1+cell": {
     "cellMetadata": {
      "byteLimit": 2048000,
      "rowLimit": 10000
     },
     "inputWidgets": {},
     "nuid": "5e8b11e3-9a43-4401-8399-da0f95bb0e50",
     "showTitle": false,
     "title": ""
    }
   },
   "outputs": [],
   "source": [
    "df_freqItems = df_util.stat.freqItems(['server_id'])"
   ]
  },
  {
   "cell_type": "code",
   "execution_count": 0,
   "metadata": {
    "application/vnd.databricks.v1+cell": {
     "cellMetadata": {
      "byteLimit": 2048000,
      "rowLimit": 10000
     },
     "inputWidgets": {},
     "nuid": "903448a6-93a1-4c36-98da-429efa643286",
     "showTitle": false,
     "title": ""
    }
   },
   "outputs": [],
   "source": [
    "import pyspark\n",
    "from pyspark.sql.functions import *\n",
    "from pyspark.ml.feature import VectorAssembler\n",
    "from pyspark.ml.feature import StringIndexer\n",
    "from pyspark.sql import SparkSession\n",
    "\n"
   ]
  },
  {
   "cell_type": "code",
   "execution_count": 0,
   "metadata": {
    "application/vnd.databricks.v1+cell": {
     "cellMetadata": {
      "byteLimit": 2048000,
      "rowLimit": 10000
     },
     "inputWidgets": {},
     "nuid": "14cf2a2d-4592-44be-8b58-6f263c8b0b6a",
     "showTitle": false,
     "title": ""
    }
   },
   "outputs": [],
   "source": [
    "spark = SparkSession.builder.appName('Class').getOrCreate()"
   ]
  },
  {
   "cell_type": "code",
   "execution_count": 0,
   "metadata": {
    "application/vnd.databricks.v1+cell": {
     "cellMetadata": {
      "byteLimit": 2048000,
      "rowLimit": 10000
     },
     "inputWidgets": {},
     "nuid": "e12dae63-6726-4304-a2aa-874b16f763ff",
     "showTitle": false,
     "title": ""
    }
   },
   "outputs": [],
   "source": [
    "df_iris = \"/FileStore/tables/iris.csv\""
   ]
  },
  {
   "cell_type": "code",
   "execution_count": 0,
   "metadata": {
    "application/vnd.databricks.v1+cell": {
     "cellMetadata": {
      "byteLimit": 2048000,
      "rowLimit": 10000
     },
     "inputWidgets": {},
     "nuid": "5ced316c-1375-421e-982f-3af4b9cefd48",
     "showTitle": false,
     "title": ""
    }
   },
   "outputs": [],
   "source": [
    "iris_df = spark.read.format(\"csv\").option(\"header\",\"true\").load(df_iris)\n"
   ]
  },
  {
   "cell_type": "code",
   "execution_count": 0,
   "metadata": {
    "application/vnd.databricks.v1+cell": {
     "cellMetadata": {
      "byteLimit": 2048000,
      "rowLimit": 10000
     },
     "inputWidgets": {},
     "nuid": "14b3947d-1ee4-4eea-981e-1b484be5ae4d",
     "showTitle": false,
     "title": ""
    }
   },
   "outputs": [
    {
     "output_type": "stream",
     "name": "stdout",
     "output_type": "stream",
     "text": [
      "Out[139]: [Row(sepal_length='5.1', sepal_width='3.5', petal_length='1.4', petal_width='0.2', species='setosa'),\n Row(sepal_length='4.9', sepal_width='3.0', petal_length='1.4', petal_width='0.2', species='setosa'),\n Row(sepal_length='4.7', sepal_width='3.2', petal_length='1.3', petal_width='0.2', species='setosa'),\n Row(sepal_length='4.6', sepal_width='3.1', petal_length='1.5', petal_width='0.2', species='setosa')]"
     ]
    }
   ],
   "source": [
    "iris_df.take(4)"
   ]
  },
  {
   "cell_type": "code",
   "execution_count": 0,
   "metadata": {
    "application/vnd.databricks.v1+cell": {
     "cellMetadata": {
      "byteLimit": 2048000,
      "rowLimit": 10000
     },
     "inputWidgets": {},
     "nuid": "008e2687-7009-4262-9c70-cffa3b6d9f11",
     "showTitle": false,
     "title": ""
    }
   },
   "outputs": [
    {
     "output_type": "stream",
     "name": "stdout",
     "output_type": "stream",
     "text": [
      "+------------+-----------+------------+-----------+-------+\n|sepal_length|sepal_width|petal_length|petal_width|species|\n+------------+-----------+------------+-----------+-------+\n|         5.1|        3.5|         1.4|        0.2| setosa|\n|         4.9|        3.0|         1.4|        0.2| setosa|\n|         4.7|        3.2|         1.3|        0.2| setosa|\n|         4.6|        3.1|         1.5|        0.2| setosa|\n|         5.0|        3.6|         1.4|        0.2| setosa|\n|         5.4|        3.9|         1.7|        0.4| setosa|\n|         4.6|        3.4|         1.4|        0.3| setosa|\n|         5.0|        3.4|         1.5|        0.2| setosa|\n|         4.4|        2.9|         1.4|        0.2| setosa|\n|         4.9|        3.1|         1.5|        0.1| setosa|\n|         5.4|        3.7|         1.5|        0.2| setosa|\n|         4.8|        3.4|         1.6|        0.2| setosa|\n|         4.8|        3.0|         1.4|        0.1| setosa|\n|         4.3|        3.0|         1.1|        0.1| setosa|\n|         5.8|        4.0|         1.2|        0.2| setosa|\n|         5.7|        4.4|         1.5|        0.4| setosa|\n|         5.4|        3.9|         1.3|        0.4| setosa|\n|         5.1|        3.5|         1.4|        0.3| setosa|\n|         5.7|        3.8|         1.7|        0.3| setosa|\n|         5.1|        3.8|         1.5|        0.3| setosa|\n+------------+-----------+------------+-----------+-------+\nonly showing top 20 rows\n\n"
     ]
    }
   ],
   "source": [
    "iris_df.show()"
   ]
  },
  {
   "cell_type": "code",
   "execution_count": 0,
   "metadata": {
    "application/vnd.databricks.v1+cell": {
     "cellMetadata": {
      "byteLimit": 2048000,
      "rowLimit": 10000
     },
     "inputWidgets": {},
     "nuid": "68ce2981-8066-4c8f-a883-aee042b6f3be",
     "showTitle": false,
     "title": ""
    }
   },
   "outputs": [],
   "source": [
    "vec_assembler = VectorAssembler (inputCols=[\"sepal_length\",\"sepal_width\",\"petal_length\",\"petal_width\"], \n",
    "                                 outputCol= \"features\" ) "
   ]
  },
  {
   "cell_type": "code",
   "execution_count": 0,
   "metadata": {
    "application/vnd.databricks.v1+cell": {
     "cellMetadata": {
      "byteLimit": 2048000,
      "rowLimit": 10000
     },
     "inputWidgets": {},
     "nuid": "db78e247-0142-4f15-8071-efd55183d1bf",
     "showTitle": false,
     "title": ""
    }
   },
   "outputs": [],
   "source": [
    "from pyspark.sql import SparkSession\n",
    "from pyspark.sql.types import FloatType\n",
    "from pyspark.ml.feature import VectorAssembler"
   ]
  },
  {
   "cell_type": "code",
   "execution_count": 0,
   "metadata": {
    "application/vnd.databricks.v1+cell": {
     "cellMetadata": {
      "byteLimit": 2048000,
      "rowLimit": 10000
     },
     "inputWidgets": {},
     "nuid": "3f5ae3b4-be03-44f4-a35e-fbef94a0daf8",
     "showTitle": false,
     "title": ""
    }
   },
   "outputs": [],
   "source": [
    "for col_name in columns:\n",
    "    iris_df = iris_df.withColumn(col_name, iris_df[col_name].cast(FloatType()))"
   ]
  },
  {
   "cell_type": "code",
   "execution_count": 0,
   "metadata": {
    "application/vnd.databricks.v1+cell": {
     "cellMetadata": {
      "byteLimit": 2048000,
      "rowLimit": 10000
     },
     "inputWidgets": {},
     "nuid": "1f27948d-7a70-4408-bdaf-f2966c6f663d",
     "showTitle": false,
     "title": ""
    }
   },
   "outputs": [],
   "source": [
    "vecIris_df = vec_assembler.transform(iris_df)"
   ]
  },
  {
   "cell_type": "code",
   "execution_count": 0,
   "metadata": {
    "application/vnd.databricks.v1+cell": {
     "cellMetadata": {
      "byteLimit": 2048000,
      "rowLimit": 10000
     },
     "inputWidgets": {},
     "nuid": "4c13e0d4-abb1-48c4-90b2-84082fbd92ca",
     "showTitle": false,
     "title": ""
    }
   },
   "outputs": [
    {
     "output_type": "stream",
     "name": "stdout",
     "output_type": "stream",
     "text": [
      "+------------+-----------+------------+-----------+-------+--------------------+\n|sepal_length|sepal_width|petal_length|petal_width|species|            features|\n+------------+-----------+------------+-----------+-------+--------------------+\n|         5.1|        3.5|         1.4|        0.2| setosa|[5.09999990463256...|\n|         4.9|        3.0|         1.4|        0.2| setosa|[4.90000009536743...|\n|         4.7|        3.2|         1.3|        0.2| setosa|[4.69999980926513...|\n|         4.6|        3.1|         1.5|        0.2| setosa|[4.59999990463256...|\n|         5.0|        3.6|         1.4|        0.2| setosa|[5.0,3.5999999046...|\n+------------+-----------+------------+-----------+-------+--------------------+\nonly showing top 5 rows\n\n"
     ]
    }
   ],
   "source": [
    "vecIris_df.show(5)"
   ]
  },
  {
   "cell_type": "code",
   "execution_count": 0,
   "metadata": {
    "application/vnd.databricks.v1+cell": {
     "cellMetadata": {
      "byteLimit": 2048000,
      "rowLimit": 10000
     },
     "inputWidgets": {},
     "nuid": "3fe21973-ad8a-4396-8438-73a676b77c70",
     "showTitle": false,
     "title": ""
    }
   },
   "outputs": [
    {
     "output_type": "stream",
     "name": "stdout",
     "output_type": "stream",
     "text": [
      "root\n |-- sepal_length: float (nullable = true)\n |-- sepal_width: float (nullable = true)\n |-- petal_length: float (nullable = true)\n |-- petal_width: float (nullable = true)\n |-- species: string (nullable = true)\n |-- features: vector (nullable = true)\n\n"
     ]
    }
   ],
   "source": [
    "vecIris_df.printSchema()"
   ]
  },
  {
   "cell_type": "code",
   "execution_count": 0,
   "metadata": {
    "application/vnd.databricks.v1+cell": {
     "cellMetadata": {
      "byteLimit": 2048000,
      "rowLimit": 10000
     },
     "inputWidgets": {},
     "nuid": "a65101b7-308f-48f4-bf23-e9f38031c031",
     "showTitle": false,
     "title": ""
    }
   },
   "outputs": [],
   "source": [
    "indexer = StringIndexer(inputCol= \"species\", outputCol = 'label')\n",
    "indexerModel = indexer.fit (vecIris_df)\n",
    "indexVecIris_df = indexerModel.transform(vecIris_df)"
   ]
  },
  {
   "cell_type": "code",
   "execution_count": 0,
   "metadata": {
    "application/vnd.databricks.v1+cell": {
     "cellMetadata": {
      "byteLimit": 2048000,
      "rowLimit": 10000
     },
     "inputWidgets": {},
     "nuid": "48dfa0af-81a0-41e2-8957-7d1e15e51e16",
     "showTitle": false,
     "title": ""
    }
   },
   "outputs": [
    {
     "output_type": "stream",
     "name": "stdout",
     "output_type": "stream",
     "text": [
      "+------------+-----------+------------+-----------+-------+--------------------+-----+\n|sepal_length|sepal_width|petal_length|petal_width|species|            features|label|\n+------------+-----------+------------+-----------+-------+--------------------+-----+\n|         5.1|        3.5|         1.4|        0.2| setosa|[5.09999990463256...|  0.0|\n|         4.9|        3.0|         1.4|        0.2| setosa|[4.90000009536743...|  0.0|\n|         4.7|        3.2|         1.3|        0.2| setosa|[4.69999980926513...|  0.0|\n|         4.6|        3.1|         1.5|        0.2| setosa|[4.59999990463256...|  0.0|\n|         5.0|        3.6|         1.4|        0.2| setosa|[5.0,3.5999999046...|  0.0|\n+------------+-----------+------------+-----------+-------+--------------------+-----+\nonly showing top 5 rows\n\n"
     ]
    }
   ],
   "source": [
    "indexVecIris_df.show(5)"
   ]
  },
  {
   "cell_type": "code",
   "execution_count": 0,
   "metadata": {
    "application/vnd.databricks.v1+cell": {
     "cellMetadata": {
      "byteLimit": 2048000,
      "rowLimit": 10000
     },
     "inputWidgets": {},
     "nuid": "1d88fd70-cb8a-454c-9a71-efc67f35b913",
     "showTitle": false,
     "title": ""
    }
   },
   "outputs": [],
   "source": [
    "#Naive Bayes classification model\n",
    "\n",
    "from pyspark.ml.classification import NaiveBayes \n",
    "from pyspark.ml.evaluation import MulticlassClassificationEvaluator"
   ]
  },
  {
   "cell_type": "code",
   "execution_count": 0,
   "metadata": {
    "application/vnd.databricks.v1+cell": {
     "cellMetadata": {
      "byteLimit": 2048000,
      "rowLimit": 10000
     },
     "inputWidgets": {},
     "nuid": "96a2d5c1-613e-43cb-acee-5ca355b451cd",
     "showTitle": false,
     "title": ""
    }
   },
   "outputs": [],
   "source": [
    "splits = indexVecIris_df.randomSplit([0.65,0.35],1)"
   ]
  },
  {
   "cell_type": "code",
   "execution_count": 0,
   "metadata": {
    "application/vnd.databricks.v1+cell": {
     "cellMetadata": {
      "byteLimit": 2048000,
      "rowLimit": 10000
     },
     "inputWidgets": {},
     "nuid": "eb960b87-2c53-477c-b351-bbae9b99ee66",
     "showTitle": false,
     "title": ""
    }
   },
   "outputs": [],
   "source": [
    "train_df = splits [0]"
   ]
  },
  {
   "cell_type": "code",
   "execution_count": 0,
   "metadata": {
    "application/vnd.databricks.v1+cell": {
     "cellMetadata": {
      "byteLimit": 2048000,
      "rowLimit": 10000
     },
     "inputWidgets": {},
     "nuid": "96d8eed6-db40-437d-8b03-0419df855fde",
     "showTitle": false,
     "title": ""
    }
   },
   "outputs": [],
   "source": [
    "test_df = splits [1]"
   ]
  },
  {
   "cell_type": "code",
   "execution_count": 0,
   "metadata": {
    "application/vnd.databricks.v1+cell": {
     "cellMetadata": {
      "byteLimit": 2048000,
      "rowLimit": 10000
     },
     "inputWidgets": {},
     "nuid": "5b43e7d4-23b8-4ad2-960d-1d91b4ae77dd",
     "showTitle": false,
     "title": ""
    }
   },
   "outputs": [
    {
     "output_type": "stream",
     "name": "stdout",
     "output_type": "stream",
     "text": [
      "Out[159]: 104"
     ]
    }
   ],
   "source": [
    "train_df.count()"
   ]
  },
  {
   "cell_type": "code",
   "execution_count": 0,
   "metadata": {
    "application/vnd.databricks.v1+cell": {
     "cellMetadata": {
      "byteLimit": 2048000,
      "rowLimit": 10000
     },
     "inputWidgets": {},
     "nuid": "e23e5180-05db-4ee9-ad62-8d4315393f9c",
     "showTitle": false,
     "title": ""
    }
   },
   "outputs": [
    {
     "output_type": "stream",
     "name": "stdout",
     "output_type": "stream",
     "text": [
      "Out[160]: 46"
     ]
    }
   ],
   "source": [
    "test_df.count()"
   ]
  },
  {
   "cell_type": "code",
   "execution_count": 0,
   "metadata": {
    "application/vnd.databricks.v1+cell": {
     "cellMetadata": {
      "byteLimit": 2048000,
      "rowLimit": 10000
     },
     "inputWidgets": {},
     "nuid": "9a285524-51a8-405e-90c4-80b9a4b1206a",
     "showTitle": false,
     "title": ""
    }
   },
   "outputs": [],
   "source": [
    "nb_classifier = NaiveBayes(modelType='multinomial')"
   ]
  },
  {
   "cell_type": "code",
   "execution_count": 0,
   "metadata": {
    "application/vnd.databricks.v1+cell": {
     "cellMetadata": {
      "byteLimit": 2048000,
      "rowLimit": 10000
     },
     "inputWidgets": {},
     "nuid": "719b4de1-1b5b-43d9-ab4b-6111dc434eed",
     "showTitle": false,
     "title": ""
    }
   },
   "outputs": [],
   "source": [
    "nb_model = nb_classifier.fit(train_df)"
   ]
  },
  {
   "cell_type": "code",
   "execution_count": 0,
   "metadata": {
    "application/vnd.databricks.v1+cell": {
     "cellMetadata": {
      "byteLimit": 2048000,
      "rowLimit": 10000
     },
     "inputWidgets": {},
     "nuid": "89cedf48-1007-4148-ab78-626c83a87b0f",
     "showTitle": false,
     "title": ""
    }
   },
   "outputs": [],
   "source": [
    "pred_df = nb_model.transform(test_df)"
   ]
  },
  {
   "cell_type": "code",
   "execution_count": 0,
   "metadata": {
    "application/vnd.databricks.v1+cell": {
     "cellMetadata": {
      "byteLimit": 2048000,
      "rowLimit": 10000
     },
     "inputWidgets": {},
     "nuid": "501502c4-3855-4e2c-8327-f65c07ac7831",
     "showTitle": false,
     "title": ""
    }
   },
   "outputs": [
    {
     "output_type": "stream",
     "name": "stdout",
     "output_type": "stream",
     "text": [
      "+------------+-----------+------------+-----------+----------+--------------------+-----+--------------------+--------------------+----------+\n|sepal_length|sepal_width|petal_length|petal_width|   species|            features|label|       rawPrediction|         probability|prediction|\n+------------+-----------+------------+-----------+----------+--------------------+-----+--------------------+--------------------+----------+\n|         4.5|        2.3|         1.3|        0.3|    setosa|[4.5,2.2999999523...|  0.0|[-10.415393350428...|[0.54890188227738...|       0.0|\n|         4.6|        3.1|         1.5|        0.2|    setosa|[4.59999990463256...|  0.0|[-11.381100670849...|[0.66352950037778...|       0.0|\n|         4.8|        3.1|         1.6|        0.2|    setosa|[4.80000019073486...|  0.0|[-11.716891604901...|[0.65543273964653...|       0.0|\n|         4.8|        3.4|         1.6|        0.2|    setosa|[4.80000019073486...|  0.0|[-12.042851640607...|[0.69475427683734...|       0.0|\n|         4.8|        3.4|         1.9|        0.2|    setosa|[4.80000019073486...|  0.0|[-12.625238910842...|[0.64429540753920...|       0.0|\n|         4.9|        2.4|         3.3|        1.0|versicolor|[4.90000009536743...|  1.0|[-17.228207328405...|[0.10433343134575...|       1.0|\n|         4.9|        2.5|         4.5|        1.7| virginica|[4.90000009536743...|  2.0|[-22.204665192640...|[0.01829002702149...|       2.0|\n|         5.0|        3.5|         1.3|        0.3|    setosa|[5.0,3.5,1.299999...|  0.0|[-12.073386626569...|[0.73411986778334...|       0.0|\n|         5.1|        2.5|         3.0|        1.1|versicolor|[5.09999990463256...|  1.0|[-17.258742599819...|[0.12414665390308...|       1.0|\n|         5.1|        3.3|         1.7|        0.5|    setosa|[5.09999990463256...|  0.0|[-13.428643069784...|[0.58460191274866...|       0.0|\n|         5.1|        3.5|         1.4|        0.2|    setosa|[5.09999990463256...|  0.0|[-11.975738622336...|[0.74914725754023...|       0.0|\n|         5.1|        3.8|         1.6|        0.2|    setosa|[5.09999990463256...|  0.0|[-12.689956733430...|[0.75417136630896...|       0.0|\n|         5.2|        2.7|         3.9|        1.4|versicolor|[5.19999980926513...|  1.0|[-20.381865579843...|[0.05131559140350...|       1.0|\n|         5.2|        3.4|         1.4|        0.2|    setosa|[5.19999980926513...|  0.0|[-11.937916164343...|[0.74160244444233...|       0.0|\n|         5.2|        3.5|         1.5|        0.2|    setosa|[5.19999980926513...|  0.0|[-12.240698504097...|[0.73845650462210...|       0.0|\n|         5.2|        4.1|         1.5|        0.1|    setosa|[5.19999980926513...|  0.0|[-12.530010198434...|[0.82192784085536...|       0.0|\n|         5.4|        3.0|         4.5|        1.5|versicolor|[5.40000009536743...|  1.0|[-22.376869603828...|[0.03581888090343...|       1.0|\n|         5.4|        3.4|         1.5|        0.4|    setosa|[5.40000009536743...|  0.0|[-12.998922816349...|[0.67894289290573...|       0.0|\n|         5.4|        3.4|         1.7|        0.2|    setosa|[5.40000009536743...|  0.0|[-12.661965432831...|[0.70393053393391...|       0.0|\n|         5.4|        3.9|         1.7|        0.4|    setosa|[5.40000009536743...|  0.0|[-13.930447531564...|[0.70999240196591...|       0.0|\n|         5.5|        2.4|         3.8|        1.1|versicolor|[5.5,2.4000000953...|  1.0|[-18.986445498107...|[0.07261409364783...|       1.0|\n|         5.5|        4.2|         1.4|        0.2|    setosa|[5.5,4.1999998092...|  0.0|[-13.019634544106...|[0.83059559316780...|       0.0|\n|         5.7|        2.5|         5.0|        2.0| virginica|[5.69999980926513...|  2.0|[-24.829780239219...|[0.00979031077601...|       2.0|\n|         5.7|        2.8|         4.5|        1.3|versicolor|[5.69999980926513...|  1.0|[-21.646839263283...|[0.04410102304396...|       1.0|\n|         5.7|        3.0|         4.2|        1.2|versicolor|[5.69999980926513...|  1.0|[-20.919150626566...|[0.07007865824186...|       1.0|\n|         5.8|        2.7|         3.9|        1.2|versicolor|[5.80000019073486...|  1.0|[-20.081635094805...|[0.07472713001883...|       1.0|\n|         5.8|        2.7|         4.1|        1.0|versicolor|[5.80000019073486...|  1.0|[-19.744677086349...|[0.08349203999380...|       1.0|\n|         6.0|        2.2|         4.0|        1.0|versicolor|[6.0,2.2000000476...|  1.0|[-19.148943198858...|[0.07034775851159...|       1.0|\n|         6.0|        2.2|         5.0|        1.5| virginica|[6.0,2.2000000476...|  2.0|[-22.903273676068...|[0.01724429850738...|       2.0|\n|         6.0|        2.9|         4.5|        1.5|versicolor|[6.0,2.9000000953...|  1.0|[-22.693201056298...|[0.03814236728453...|       1.0|\n|         6.0|        3.4|         4.5|        1.6|versicolor|[6.0,3.4000000953...|  1.0|[-23.599075377103...|[0.04479032677876...|       1.0|\n|         6.1|        2.9|         4.7|        1.4|versicolor|[6.09999990463256...|  1.0|[-22.789681702411...|[0.03830475093314...|       1.0|\n|         6.4|        3.1|         5.5|        1.8| virginica|[6.40000009536743...|  2.0|[-26.222945194447...|[0.01466084764079...|       2.0|\n|         6.5|        2.8|         4.6|        1.5|versicolor|[6.5,2.7999999523...|  1.0|[-23.132830470973...|[0.03694271465213...|       1.0|\n|         6.5|        3.2|         5.1|        2.0| virginica|[6.5,3.2000000476...|  2.0|[-26.351128551756...|[0.01642523819401...|       2.0|\n|         6.7|        3.0|         5.0|        1.7|versicolor|[6.69999980926513...|  1.0|[-24.993531053105...|[0.02458297947714...|       1.0|\n|         6.7|        3.1|         5.6|        2.4| virginica|[6.69999980926513...|  2.0|[-28.805213914032...|[0.00634322369849...|       2.0|\n|         6.7|        3.3|         5.7|        2.1| virginica|[6.69999980926513...|  2.0|[-28.128825201610...|[0.01003470762264...|       2.0|\n|         6.7|        3.3|         5.7|        2.5| virginica|[6.69999980926513...|  2.0|[-29.579256961716...|[0.00578052799317...|       2.0|\n|         6.8|        3.0|         5.5|        2.1| virginica|[6.80000019073486...|  2.0|[-27.485438605647...|[0.00995427464058...|       2.0|\n|         6.9|        3.1|         5.1|        2.3| virginica|[6.90000009536743...|  2.0|[-27.613621703907...|[0.01115939102173...|       2.0|\n|         7.1|        3.0|         5.9|        2.1| virginica|[7.09999990463256...|  2.0|[-28.474447418148...|[0.00780007605819...|       2.0|\n|         7.2|        3.0|         5.8|        1.6| virginica|[7.19999980926513...|  2.0|[-26.538110361286...|[0.01703358263135...|       1.0|\n|         7.2|        3.2|         6.0|        1.8| virginica|[7.19999980926513...|  2.0|[-27.868890284794...|[0.01257149524198...|       2.0|\n|         7.7|        3.0|         6.1|        2.3| virginica|[7.69999980926513...|  2.0|[-30.012905794803...|[0.00576461612790...|       2.0|\n|         7.7|        3.8|         6.7|        2.2| virginica|[7.69999980926513...|  2.0|[-31.684298984943...|[0.00679579153715...|       2.0|\n+------------+-----------+------------+-----------+----------+--------------------+-----+--------------------+--------------------+----------+\n\n"
     ]
    }
   ],
   "source": [
    "pred_df.show(46)"
   ]
  },
  {
   "cell_type": "code",
   "execution_count": 0,
   "metadata": {
    "application/vnd.databricks.v1+cell": {
     "cellMetadata": {
      "byteLimit": 2048000,
      "rowLimit": 10000
     },
     "inputWidgets": {},
     "nuid": "5208fa10-5d3b-49da-9101-f7ce6eb806cf",
     "showTitle": false,
     "title": ""
    }
   },
   "outputs": [
    {
     "output_type": "stream",
     "name": "stdout",
     "output_type": "stream",
     "text": [
      "root\n |-- sepal_length: float (nullable = true)\n |-- sepal_width: float (nullable = true)\n |-- petal_length: float (nullable = true)\n |-- petal_width: float (nullable = true)\n |-- species: string (nullable = true)\n |-- features: vector (nullable = true)\n |-- label: double (nullable = false)\n |-- rawPrediction: vector (nullable = true)\n |-- probability: vector (nullable = true)\n |-- prediction: double (nullable = false)\n\n"
     ]
    }
   ],
   "source": [
    "pred_df.printSchema()"
   ]
  },
  {
   "cell_type": "code",
   "execution_count": 0,
   "metadata": {
    "application/vnd.databricks.v1+cell": {
     "cellMetadata": {
      "byteLimit": 2048000,
      "rowLimit": 10000
     },
     "inputWidgets": {},
     "nuid": "77fb6097-132f-47ac-bff3-dc7db6685d90",
     "showTitle": false,
     "title": ""
    }
   },
   "outputs": [],
   "source": [
    "model_eval = MulticlassClassificationEvaluator(labelCol= 'label', predictionCol= 'prediction', metricName='accuracy')"
   ]
  },
  {
   "cell_type": "code",
   "execution_count": 0,
   "metadata": {
    "application/vnd.databricks.v1+cell": {
     "cellMetadata": {
      "byteLimit": 2048000,
      "rowLimit": 10000
     },
     "inputWidgets": {},
     "nuid": "96ff9a79-61a4-45d2-8863-1be424620b9d",
     "showTitle": false,
     "title": ""
    }
   },
   "outputs": [],
   "source": [
    "nb_accuracy = model_eval.evaluate(pred_df)"
   ]
  },
  {
   "cell_type": "code",
   "execution_count": 0,
   "metadata": {
    "application/vnd.databricks.v1+cell": {
     "cellMetadata": {
      "byteLimit": 2048000,
      "rowLimit": 10000
     },
     "inputWidgets": {},
     "nuid": "a3996c49-995a-406e-8d3a-4d3682206637",
     "showTitle": false,
     "title": ""
    }
   },
   "outputs": [
    {
     "output_type": "stream",
     "name": "stdout",
     "output_type": "stream",
     "text": [
      "Naive Bayes accurracy is  0.978261.\n"
     ]
    }
   ],
   "source": [
    "print(\"Naive Bayes accurracy is {: 3f}.\".format(nb_accuracy))"
   ]
  },
  {
   "cell_type": "code",
   "execution_count": 0,
   "metadata": {
    "application/vnd.databricks.v1+cell": {
     "cellMetadata": {
      "byteLimit": 2048000,
      "rowLimit": 10000
     },
     "inputWidgets": {},
     "nuid": "2995e91b-5fcd-414d-94e0-73e6d09b0285",
     "showTitle": false,
     "title": ""
    }
   },
   "outputs": [],
   "source": [
    "from pyspark.ml.classification import MultilayerPerceptronClassifier"
   ]
  },
  {
   "cell_type": "code",
   "execution_count": 0,
   "metadata": {
    "application/vnd.databricks.v1+cell": {
     "cellMetadata": {
      "byteLimit": 2048000,
      "rowLimit": 10000
     },
     "inputWidgets": {},
     "nuid": "e1642d95-8a3c-4c65-b7cd-5efde7f621fd",
     "showTitle": false,
     "title": ""
    }
   },
   "outputs": [],
   "source": [
    "layers = [4,6,6,3]"
   ]
  },
  {
   "cell_type": "code",
   "execution_count": 0,
   "metadata": {
    "application/vnd.databricks.v1+cell": {
     "cellMetadata": {
      "byteLimit": 2048000,
      "rowLimit": 10000
     },
     "inputWidgets": {},
     "nuid": "33c49e04-7f70-4fec-86ee-21354aa0afd7",
     "showTitle": false,
     "title": ""
    }
   },
   "outputs": [],
   "source": [
    "mlp_classifier =MultilayerPerceptronClassifier(layers=layers,seed= 1)"
   ]
  },
  {
   "cell_type": "code",
   "execution_count": 0,
   "metadata": {
    "application/vnd.databricks.v1+cell": {
     "cellMetadata": {
      "byteLimit": 2048000,
      "rowLimit": 10000
     },
     "inputWidgets": {},
     "nuid": "25edb3f5-f141-4b6e-8d0f-2fd51f5919ea",
     "showTitle": false,
     "title": ""
    }
   },
   "outputs": [],
   "source": [
    "mlp_model = mlp_classifier.fit(train_df)"
   ]
  },
  {
   "cell_type": "code",
   "execution_count": 0,
   "metadata": {
    "application/vnd.databricks.v1+cell": {
     "cellMetadata": {
      "byteLimit": 2048000,
      "rowLimit": 10000
     },
     "inputWidgets": {},
     "nuid": "4f2ea2c7-5e7d-4c3a-b756-31e69c9d7824",
     "showTitle": false,
     "title": ""
    }
   },
   "outputs": [],
   "source": [
    "mlp_pred = mlp_model.transform(test_df)"
   ]
  },
  {
   "cell_type": "code",
   "execution_count": 0,
   "metadata": {
    "application/vnd.databricks.v1+cell": {
     "cellMetadata": {
      "byteLimit": 2048000,
      "rowLimit": 10000
     },
     "inputWidgets": {},
     "nuid": "bdda917e-6cf9-4953-a763-49c2cb89db81",
     "showTitle": false,
     "title": ""
    }
   },
   "outputs": [
    {
     "output_type": "stream",
     "name": "stdout",
     "output_type": "stream",
     "text": [
      "+----------+--------------------+-----+----------+\n|   species|            features|label|prediction|\n+----------+--------------------+-----+----------+\n|    setosa|[4.5,2.2999999523...|  0.0|       0.0|\n|    setosa|[4.59999990463256...|  0.0|       0.0|\n|    setosa|[4.80000019073486...|  0.0|       0.0|\n|    setosa|[4.80000019073486...|  0.0|       0.0|\n|    setosa|[4.80000019073486...|  0.0|       0.0|\n|versicolor|[4.90000009536743...|  1.0|       1.0|\n| virginica|[4.90000009536743...|  2.0|       2.0|\n|    setosa|[5.0,3.5,1.299999...|  0.0|       0.0|\n|versicolor|[5.09999990463256...|  1.0|       1.0|\n|    setosa|[5.09999990463256...|  0.0|       0.0|\n|    setosa|[5.09999990463256...|  0.0|       0.0|\n|    setosa|[5.09999990463256...|  0.0|       0.0|\n|versicolor|[5.19999980926513...|  1.0|       1.0|\n|    setosa|[5.19999980926513...|  0.0|       0.0|\n|    setosa|[5.19999980926513...|  0.0|       0.0|\n|    setosa|[5.19999980926513...|  0.0|       0.0|\n|versicolor|[5.40000009536743...|  1.0|       1.0|\n|    setosa|[5.40000009536743...|  0.0|       0.0|\n|    setosa|[5.40000009536743...|  0.0|       0.0|\n|    setosa|[5.40000009536743...|  0.0|       0.0|\n|versicolor|[5.5,2.4000000953...|  1.0|       1.0|\n|    setosa|[5.5,4.1999998092...|  0.0|       0.0|\n| virginica|[5.69999980926513...|  2.0|       2.0|\n|versicolor|[5.69999980926513...|  1.0|       1.0|\n|versicolor|[5.69999980926513...|  1.0|       1.0|\n|versicolor|[5.80000019073486...|  1.0|       1.0|\n|versicolor|[5.80000019073486...|  1.0|       1.0|\n|versicolor|[6.0,2.2000000476...|  1.0|       1.0|\n| virginica|[6.0,2.2000000476...|  2.0|       2.0|\n|versicolor|[6.0,2.9000000953...|  1.0|       1.0|\n|versicolor|[6.0,3.4000000953...|  1.0|       1.0|\n|versicolor|[6.09999990463256...|  1.0|       1.0|\n| virginica|[6.40000009536743...|  2.0|       2.0|\n|versicolor|[6.5,2.7999999523...|  1.0|       1.0|\n| virginica|[6.5,3.2000000476...|  2.0|       2.0|\n|versicolor|[6.69999980926513...|  1.0|       1.0|\n| virginica|[6.69999980926513...|  2.0|       2.0|\n| virginica|[6.69999980926513...|  2.0|       2.0|\n| virginica|[6.69999980926513...|  2.0|       2.0|\n| virginica|[6.80000019073486...|  2.0|       2.0|\n| virginica|[6.90000009536743...|  2.0|       2.0|\n| virginica|[7.09999990463256...|  2.0|       2.0|\n| virginica|[7.19999980926513...|  2.0|       2.0|\n| virginica|[7.19999980926513...|  2.0|       2.0|\n| virginica|[7.69999980926513...|  2.0|       2.0|\n| virginica|[7.69999980926513...|  2.0|       2.0|\n+----------+--------------------+-----+----------+\n\n"
     ]
    }
   ],
   "source": [
    "mlp_pred.select(['species','features','label','prediction']).show(46)"
   ]
  },
  {
   "cell_type": "code",
   "execution_count": 0,
   "metadata": {
    "application/vnd.databricks.v1+cell": {
     "cellMetadata": {
      "byteLimit": 2048000,
      "rowLimit": 10000
     },
     "inputWidgets": {},
     "nuid": "b00ccd2d-5bac-4419-9088-a0023670517b",
     "showTitle": false,
     "title": ""
    }
   },
   "outputs": [],
   "source": [
    "mlp_eval = MulticlassClassificationEvaluator (metricName= 'accuracy')"
   ]
  },
  {
   "cell_type": "code",
   "execution_count": 0,
   "metadata": {
    "application/vnd.databricks.v1+cell": {
     "cellMetadata": {
      "byteLimit": 2048000,
      "rowLimit": 10000
     },
     "inputWidgets": {},
     "nuid": "4a517cfc-d27e-4569-a195-6a13e1521987",
     "showTitle": false,
     "title": ""
    }
   },
   "outputs": [],
   "source": [
    "mlp_accuracy = mlp_eval.evaluate(mlp_pred)"
   ]
  },
  {
   "cell_type": "code",
   "execution_count": 0,
   "metadata": {
    "application/vnd.databricks.v1+cell": {
     "cellMetadata": {
      "byteLimit": 2048000,
      "rowLimit": 10000
     },
     "inputWidgets": {},
     "nuid": "0a13414b-672b-41b9-8133-d811b8c72ef6",
     "showTitle": false,
     "title": ""
    }
   },
   "outputs": [
    {
     "output_type": "stream",
     "name": "stdout",
     "output_type": "stream",
     "text": [
      "MLP accuracy is 1.000.\n"
     ]
    }
   ],
   "source": [
    "print(\"MLP accuracy is {:.3f}.\".format(mlp_accuracy))"
   ]
  },
  {
   "cell_type": "code",
   "execution_count": 0,
   "metadata": {
    "application/vnd.databricks.v1+cell": {
     "cellMetadata": {},
     "inputWidgets": {},
     "nuid": "41a5ad42-6d22-4aca-9318-ad161070ec8f",
     "showTitle": false,
     "title": ""
    }
   },
   "outputs": [],
   "source": [
    "#Decision Tree "
   ]
  }
 ],
 "metadata": {
  "application/vnd.databricks.v1+notebook": {
   "dashboards": [],
   "language": "python",
   "notebookMetadata": {
    "pythonIndentUnit": 4
   },
   "notebookName": "PySpark Training1",
   "widgets": {}
  }
 },
 "nbformat": 4,
 "nbformat_minor": 0
}
